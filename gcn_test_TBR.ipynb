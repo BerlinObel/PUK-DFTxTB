{
 "cells": [
  {
   "cell_type": "markdown",
   "metadata": {
    "colab_type": "text",
    "id": "Yy0O55MRgJZ8"
   },
   "source": [
    "# Download Dependencies for PyTorch Geometry"
   ]
  },
  {
   "cell_type": "code",
   "execution_count": 1,
   "metadata": {
    "colab": {
     "base_uri": "https://localhost:8080/",
     "height": 51
    },
    "colab_type": "code",
    "id": "rqs4kovxvqFc",
    "outputId": "434f9509-95c7-4d20-b9f9-7288975d68b8"
   },
   "outputs": [
    {
     "name": "stdout",
     "output_type": "stream",
     "text": [
      "1.4.0\n",
      "True\n"
     ]
    }
   ],
   "source": [
    "! python -c \"import torch; print(torch.__version__)\"\n",
    "! python -c \"import torch; print(torch.cuda.is_available())\""
   ]
  },
  {
   "cell_type": "code",
   "execution_count": 6,
   "metadata": {
    "colab": {},
    "colab_type": "code",
    "id": "1A1o3ArT3je3"
   },
   "outputs": [],
   "source": [
    "#! PATH=/usr/local/cuda/bin:$PATH\n",
    "#! CPATH=/usr/local/cuda/include:$CPATH    \n",
    "#! LD_LIBRARY_PATH=/usr/local/cuda/lib64:$LD_LIBRARY_PATH\n",
    "#! DYLD_LIBRARY_PATH=/usr/local/cuda/lib:$DYLD_LIBRARY_PATH"
   ]
  },
  {
   "cell_type": "code",
   "execution_count": 3,
   "metadata": {
    "colab": {
     "base_uri": "https://localhost:8080/",
     "height": 102
    },
    "colab_type": "code",
    "id": "MQJRnzs3wUy8",
    "outputId": "b096d61e-a2e9-4184-b8de-c95ad3371b3e"
   },
   "outputs": [
    {
     "name": "stdout",
     "output_type": "stream",
     "text": [
      "nvcc: NVIDIA (R) Cuda compiler driver\n",
      "Copyright (c) 2005-2019 NVIDIA Corporation\n",
      "Built on Wed_Oct_23_19:32:27_Pacific_Daylight_Time_2019\n",
      "Cuda compilation tools, release 10.2, V10.2.89\n",
      "10.1\n"
     ]
    }
   ],
   "source": [
    "! nvcc --version\n",
    "! python -c \"import torch; print(torch.version.cuda)\""
   ]
  },
  {
   "cell_type": "code",
   "execution_count": 5,
   "metadata": {
    "colab": {
     "base_uri": "https://localhost:8080/",
     "height": 218
    },
    "colab_type": "code",
    "id": "G8V8e5NZrXyo",
    "outputId": "daedc177-acbf-44cb-ddf5-9339273039c8"
   },
   "outputs": [],
   "source": [
    "#drive = GoogleDrive(gauth)\n",
    "#your_module = drive.CreateFile({\"id\": \"14IsXaDx2MIjEhqrTe-WIkb5Pe0RIMLwi\"})   # \"your_module_file_id\" is the part after \"id=\" in the shareable link\n",
    "#your_module.GetContentFile(\"setup.py\")          # Save the .py module file to Colab VM\n",
    "#import setup "
   ]
  },
  {
   "cell_type": "code",
   "execution_count": 4,
   "metadata": {
    "colab": {
     "base_uri": "https://localhost:8080/",
     "height": 1000
    },
    "colab_type": "code",
    "id": "QyK_P-QZfvrT",
    "outputId": "102f5102-f950-4888-9ef8-3af0928c2de1"
   },
   "outputs": [],
   "source": [
    "# Install PyTorch Geometry \n",
    "#! pip install --no-cache-dir torch-scatter\n",
    "#! pip install --no-cache-dir torch-sparse\n",
    "#! pip install --no-cache-dir torch-cluster\n",
    "#! pip install --no-cache-dir torch-spline-conv (optional)\n",
    "#! pip install torch-geometric"
   ]
  },
  {
   "cell_type": "code",
   "execution_count": 7,
   "metadata": {
    "colab": {
     "base_uri": "https://localhost:8080/",
     "height": 1000
    },
    "colab_type": "code",
    "id": "mmiMJIP-Mz9k",
    "outputId": "e2011d8a-14d1-4821-b825-423eeb5a900f"
   },
   "outputs": [],
   "source": [
    "# Install RDKit\n",
    "# takes 2-3 minutes\n",
    "#!wget -c https://repo.continuum.io/miniconda/Miniconda3-latest-Linux-x86_64.sh\n",
    "#!chmod +x Miniconda3-latest-Linux-x86_64.sh\n",
    "#!time bash ./Miniconda3-latest-Linux-x86_64.sh -b -f -p /usr/local\n",
    "#!time conda install -q -y -c conda-forge rdkit"
   ]
  },
  {
   "cell_type": "markdown",
   "metadata": {
    "colab_type": "text",
    "id": "ZXqKBWIOgvY5"
   },
   "source": [
    "# Regular Imports"
   ]
  },
  {
   "cell_type": "code",
   "execution_count": 8,
   "metadata": {
    "colab": {},
    "colab_type": "code",
    "id": "0-oG_ZwSYv2p"
   },
   "outputs": [
    {
     "name": "stderr",
     "output_type": "stream",
     "text": [
      "RDKit WARNING: [10:45:12] Enabling RDKit 2019.09.3 jupyter extensions\n"
     ]
    }
   ],
   "source": [
    "from __future__ import division\n",
    "from __future__ import unicode_literals\n",
    "\n",
    "import sys\n",
    "import random \n",
    "import re\n",
    "\n",
    "sys.path.append('/usr/local/lib/python3.7/site-packages/')\n",
    "from rdkit import Chem\n",
    "from rdkit.Chem import Draw\n",
    "from rdkit.Chem.Draw import IPythonConsole\n",
    "\n",
    "import numpy as np\n",
    "import pandas as pd\n",
    "import matplotlib.pyplot as plt\n",
    "import multiprocessing\n",
    "import logging\n",
    "import torch\n",
    "#from torch_geometric.data import Data\n",
    "from torch_geometric.data import DataLoader\n",
    "\n",
    "\n",
    "from sklearn.model_selection import train_test_split\n",
    "\n",
    "\n",
    "from IPython.display import SVG\n",
    "from itertools import product\n",
    "import copy"
   ]
  },
  {
   "cell_type": "markdown",
   "metadata": {
    "colab_type": "text",
    "id": "AA89b1hI_J6r"
   },
   "source": [
    "# Create Graphs"
   ]
  },
  {
   "cell_type": "code",
   "execution_count": 9,
   "metadata": {
    "colab": {},
    "colab_type": "code",
    "id": "terIh9SGYg6T"
   },
   "outputs": [],
   "source": [
    "import numpy as np\n",
    "import multiprocessing\n",
    "import logging\n",
    "import torch\n",
    "from torch_geometric.data import Data\n",
    "\n",
    "def one_of_k_encoding(x, allowable_set):\n",
    "    if x not in allowable_set:\n",
    "        raise Exception(\"input {0} not in allowable set{1}:\".format(\n",
    "            x, allowable_set))\n",
    "    return list(map(lambda s: x == s, allowable_set))\n",
    " \n",
    "\n",
    "def one_of_k_encoding_unk(x, allowable_set):\n",
    "    \"\"\"Maps inputs not in the allowable set to the last element.\"\"\"\n",
    "    if x not in allowable_set:\n",
    "        x = allowable_set[-1]\n",
    "    return list(map(lambda s: x == s, allowable_set))\n",
    " \n",
    "\n",
    "def get_intervals(l):\n",
    "    \"\"\"For list of lists, gets the cumulative products of the lengths\"\"\"\n",
    "    intervals = len(l) * [0]\n",
    "    # Initalize with 1\n",
    "    intervals[0] = 1\n",
    "    for k in range(1, len(l)):\n",
    "        intervals[k] = (len(l[k]) + 1) * intervals[k - 1]\n",
    " \n",
    "    return intervals\n",
    " \n",
    "\n",
    "def safe_index(l, e):\n",
    "    \"\"\"Gets the index of e in l, providing an index of len(l) if not found\"\"\"\n",
    "    try:\n",
    "        return l.index(e)\n",
    "    except:\n",
    "        return len(l)\n",
    " \n",
    " \n",
    "possible_atom_list = ['C', 'N', 'O', 'S', 'F', 'H']\n",
    "possible_numH_list = [0, 1, 2, 3, 4]\n",
    "possible_valence_list = [0, 1, 2, 3, 4, 5, 6]\n",
    "possible_formal_charge_list = [-3, -2, -1, 0, 1, 2, 3]\n",
    "possible_hybridization_list = [\n",
    "    Chem.rdchem.HybridizationType.SP, Chem.rdchem.HybridizationType.SP2,\n",
    "    Chem.rdchem.HybridizationType.SP3, Chem.rdchem.HybridizationType.SP3D,\n",
    "    Chem.rdchem.HybridizationType.SP3D2\n",
    "]\n",
    "possible_number_radical_e_list = [0, 1, 2]\n",
    "possible_chirality_list = ['R', 'S']\n",
    " \n",
    "reference_lists = [\n",
    "    possible_atom_list, possible_numH_list, possible_valence_list,\n",
    "    possible_formal_charge_list, possible_number_radical_e_list,\n",
    "    possible_hybridization_list, possible_chirality_list\n",
    "]\n",
    " \n",
    "intervals = get_intervals(reference_lists)\n",
    " \n",
    "\n",
    "def get_feature_list(atom):\n",
    "    features = 6 * [0]\n",
    "    features[0] = safe_index(possible_atom_list, atom.GetSymbol())\n",
    "    features[1] = safe_index(possible_numH_list, atom.GetTotalNumHs())\n",
    "    features[2] = safe_index(possible_valence_list, atom.GetImplicitValence())\n",
    "    features[3] = safe_index(possible_formal_charge_list, atom.GetFormalCharge())\n",
    "    features[4] = safe_index(possible_number_radical_e_list,\n",
    "                           atom.GetNumRadicalElectrons())\n",
    "    features[5] = safe_index(possible_hybridization_list, atom.GetHybridization())\n",
    "    return features\n",
    " \n",
    "    \n",
    "def features_to_id(features, intervals):\n",
    "    \"\"\"Convert list of features into index using spacings provided in intervals\"\"\"\n",
    "    id = 0\n",
    "    for k in range(len(intervals)):\n",
    "        id += features[k] * intervals[k]\n",
    " \n",
    "    # Allow 0 index to correspond to null molecule 1\n",
    "    id = id + 1\n",
    "    return id\n",
    " \n",
    "\n",
    "def id_to_features(id, intervals):\n",
    "    features = 6 * [0]\n",
    " \n",
    "    # Correct for null\n",
    "    id -= 1\n",
    " \n",
    "    for k in range(0, 6 - 1):\n",
    "        # print(6-k-1, id)\n",
    "        features[6 - k - 1] = id // intervals[6 - k - 1]\n",
    "        id -= features[6 - k - 1] * intervals[6 - k - 1]\n",
    "    # Correct for last one\n",
    "    features[0] = id\n",
    "    return features\n",
    " \n",
    "\n",
    "def atom_to_id(atom):\n",
    "    \"\"\"Return a unique id corresponding to the atom type\"\"\"\n",
    "    features = get_feature_list(atom)\n",
    "    return features_to_id(features, intervals)\n",
    " \n",
    "\n",
    "def atom_features(atom, bool_id_feat=False, explicit_H=False,\n",
    "                  use_chirality=False):\n",
    "    if bool_id_feat:\n",
    "        return np.array([atom_to_id(atom)])\n",
    "   \n",
    "    else:\n",
    "        from rdkit import Chem\n",
    "        # Atom type - one hot encoding\n",
    "        results = one_of_k_encoding(atom.GetSymbol(), ['C', 'N', 'O', 'S', 'F', 'H']) # use unk if it fails\n",
    "        \n",
    "        # Directly bonded neighbors\n",
    "        results += one_of_k_encoding(atom.GetDegree(), [1, 2, 3, 4]) # use unk if it fails \n",
    "        \n",
    "        # Return number of implicit Hs on atom\n",
    "        results += one_of_k_encoding(atom.GetImplicitValence(), [0, 1, 2, 3]) # use unk if it fails\n",
    "        \n",
    "        # Atom's formal charge\n",
    "        results += [atom.GetFormalCharge()]\n",
    "        \n",
    "        # Number of radical electrons\n",
    "        #results += [atom.GetNumRadicalElectrons()]\n",
    "        \n",
    "        # Atom Hybridization\n",
    "        results += one_of_k_encoding(atom.GetHybridization(), [\n",
    "                        Chem.rdchem.HybridizationType.SP,\n",
    "                        Chem.rdchem.HybridizationType.SP2,\n",
    "                        Chem.rdchem.HybridizationType.SP3])\n",
    "        \n",
    "        # Aromatic or not?\n",
    "        results +=[atom.GetIsAromatic()]\n",
    "        \n",
    "        \n",
    "    # In case of explicit hydrogen(QM8, QM9), avoid calling `GetTotalNumHs`\n",
    "    if not explicit_H:\n",
    "        results = results + one_of_k_encoding_unk(atom.GetTotalNumHs(),\n",
    "                                                [0, 1, 2, 3, 4])\n",
    "    if use_chirality:\n",
    "        try:\n",
    "            results = results + one_of_k_encoding_unk(\n",
    "                atom.GetProp('_CIPCode'),\n",
    "                ['R', 'S']) + [atom.HasProp('_ChiralityPossible')]\n",
    "        except:\n",
    "            results = results + [False, False\n",
    "                            ] + [atom.HasProp('_ChiralityPossible')]\n",
    " \n",
    "    return np.array(results)\n",
    " \n",
    "    \n",
    "def bond_features(bond, use_chirality=False):\n",
    "    from rdkit import Chem\n",
    "    bt  = bond.GetBondType() # bond type\n",
    "    \n",
    "    # Bond order\n",
    "    bond_feats = [bt == Chem.rdchem.BondType.SINGLE, \n",
    "                  bt == Chem.rdchem.BondType.DOUBLE,\n",
    "                  bt == Chem.rdchem.BondType.TRIPLE,\n",
    "                  bt == Chem.rdchem.BondType.AROMATIC]\n",
    "    \n",
    "    # Conjugated bond\n",
    "    bond_feats += [bond.GetIsConjugated()]\n",
    "    \n",
    "    # Is the bond in a ring?\n",
    "    bond_feats += [bond.IsInRing()]\n",
    "    \n",
    "    # Check chirality\n",
    "    if use_chirality:\n",
    "        bond_feats = bond_feats + one_of_k_encoding_unk(\n",
    "            str(bond.GetStereo()),\n",
    "            [\"STEREONONE\", \"STEREOANY\", \"STEREOZ\", \"STEREOE\"])\n",
    "    \n",
    "    return np.array(bond_feats)\n",
    " \n",
    "\n",
    "#################\n",
    "# pen added\n",
    "#################\n",
    "\n",
    "\n",
    "def get_bond_pair(mol):\n",
    "    bonds = mol.GetBonds()\n",
    "    res = [[],[]]\n",
    "    for bond in bonds:\n",
    "        res[0] += [bond.GetBeginAtomIdx(), bond.GetEndAtomIdx()]\n",
    "        res[1] += [bond.GetEndAtomIdx(), bond.GetBeginAtomIdx()]\n",
    "    return res\n",
    " \n",
    "def mol2vec(mol):\n",
    "    atoms = mol.GetAtoms()\n",
    "    bonds = mol.GetBonds()\n",
    "    node_f= [atom_features(atom,) for atom in atoms]\n",
    "    \n",
    "    edge_index = get_bond_pair(mol)\n",
    "    #print(edge_index)\n",
    "    edge_attr = [bond_features(bond) for bond in bonds]*2\n",
    "    \n",
    "    data = Data(x=torch.tensor(node_f, dtype=torch.float),\n",
    "                edge_index=torch.tensor(edge_index, dtype=torch.long),\n",
    "                edge_attr=torch.tensor(edge_attr,dtype=torch.float)\n",
    "                )\n",
    "    return data"
   ]
  },
  {
   "cell_type": "markdown",
   "metadata": {
    "colab_type": "text",
    "id": "OI2_Eb1C5Z-i"
   },
   "source": [
    "## Test"
   ]
  },
  {
   "cell_type": "code",
   "execution_count": 10,
   "metadata": {
    "colab": {
     "base_uri": "https://localhost:8080/",
     "height": 34
    },
    "colab_type": "code",
    "id": "xJcsdvx8gyXE",
    "outputId": "8b478063-85ac-4365-9c57-ab7742c2648c"
   },
   "outputs": [
    {
     "data": {
      "text/plain": [
       "Data(edge_attr=[18, 6], edge_index=[2, 18], x=[9, 24])"
      ]
     },
     "execution_count": 10,
     "metadata": {},
     "output_type": "execute_result"
    }
   ],
   "source": [
    "smiles = 'c1ccc(cc1)[N+](=O)[O-]'\n",
    "mol = Chem.MolFromSmiles(smiles)\n",
    "\n",
    "mol2vec(mol)\n"
   ]
  },
  {
   "cell_type": "code",
   "execution_count": 11,
   "metadata": {
    "colab": {
     "base_uri": "https://localhost:8080/",
     "height": 167
    },
    "colab_type": "code",
    "id": "LH2OxyjP-uie",
    "outputId": "66602d5b-0a85-4c01-84dc-eb24cafdb67d"
   },
   "outputs": [
    {
     "data": {
      "image/png": "[encoded data removed]",
      "text/plain": [
       "<rdkit.Chem.rdchem.Mol at 0x278d7d590d0>"
      ]
     },
     "execution_count": 11,
     "metadata": {},
     "output_type": "execute_result"
    }
   ],
   "source": [
    "mol"
   ]
  },
  {
   "cell_type": "markdown",
   "metadata": {
    "colab_type": "text",
    "id": "hdOXf7Am5izm"
   },
   "source": [
    "# My net"
   ]
  },
  {
   "cell_type": "markdown",
   "metadata": {
    "colab_type": "text",
    "id": "rfaDyQOY8LzD"
   },
   "source": [
    "## Split training/testing and Create Graphs"
   ]
  },
  {
   "cell_type": "code",
   "execution_count": 12,
   "metadata": {
    "colab": {},
    "colab_type": "code",
    "id": "A15yLczDZxav"
   },
   "outputs": [],
   "source": [
    "\n",
    "def make_graph(x):\n",
    "    \n",
    "    smi, energy = x\n",
    "    \n",
    "    mol = Chem.MolFromSmiles(smi)\n",
    "    graph = mol2vec(mol)\n",
    "    graph.y = energy\n",
    "    \n",
    "    return graph\n",
    "\n",
    "def create_graphs(df, prop='tbr', procs=4):\n",
    "    \"\"\" Creates graph from dataframe, and sets target values \"\"\"\n",
    "    \n",
    "    graph_list = []\n",
    "    \n",
    "    for smi, energy in zip(df.smiles.tolist(), df[prop].tolist()):\n",
    "        mol = Chem.MolFromSmiles(smi)\n",
    "        graph = mol2vec(mol)\n",
    "        graph.y = energy\n",
    "        \n",
    "        graph_list.append(graph)\n",
    "    \n",
    "    return graph_list"
   ]
  },
  {
   "cell_type": "code",
   "execution_count": 13,
   "metadata": {
    "colab": {
     "base_uri": "https://localhost:8080/",
     "height": 122
    },
    "colab_type": "code",
    "id": "EyshH_0ijZQD",
    "outputId": "0a0aa84d-3146-4b19-fd34-9b34b6bc16ec"
   },
   "outputs": [],
   "source": [
    "#from google.colab import drive\n",
    "#drive.mount('/content/drive')"
   ]
  },
  {
   "cell_type": "code",
   "execution_count": 14,
   "metadata": {
    "colab": {},
    "colab_type": "code",
    "id": "XIHvSHswlidw"
   },
   "outputs": [],
   "source": [
    "sys.path.append('C:/Users/jacob/tQMC/QMC')\n",
    "from qmconf import QMConf\n",
    "from qmmol import QMMol"
   ]
  },
  {
   "cell_type": "code",
   "execution_count": 15,
   "metadata": {
    "colab": {},
    "colab_type": "code",
    "id": "49sDVGbhs7yg"
   },
   "outputs": [],
   "source": [
    "# df = pd.read_pickle('/content/drive/My Drive/Kemi på KU/result_updated.pkl')\n",
    "\n",
    "# compound_list = list()\n",
    "# for x in df.itertuples():\n",
    "#   name = str(x.prod.label.split('_p')[0])\n",
    "#   #mol = Chem.RemoveHs(x.prod.get_rdkit_mol())\n",
    "#   mol = x.prod.get_rdkit_mol()\n",
    "#   smile = Chem.MolToSmiles(mol,isomericSmiles=False)\n",
    "#   compound_list.append({'comp_name': name, 'smiles': smile, 'storage': x.storage, 'tbr': x.tbr})\n",
    "  \n",
    "# data = pd.DataFrame(compound_list)\n",
    "# #data.head()"
   ]
  },
  {
   "cell_type": "code",
   "execution_count": 16,
   "metadata": {
    "colab": {},
    "colab_type": "code",
    "id": "4vUxFhH47uHA"
   },
   "outputs": [],
   "source": [
    "# # remove bad data\n",
    "# gcnn_data = data\n",
    "# gcnn_data = gcnn_data[gcnn_data['storage'] > 0.0]\n",
    "# gcnn_data = gcnn_data[gcnn_data['storage'] < 200.]\n",
    "\n",
    "# gcnn_data.to_pickle('/content/drive/My Drive/Colab Notebooks/new_result2_updated.pkl')\n",
    "# f\"total data set size: {gcnn_data.shape[0]}\""
   ]
  },
  {
   "cell_type": "code",
   "execution_count": 17,
   "metadata": {
    "colab": {
     "base_uri": "https://localhost:8080/",
     "height": 309
    },
    "colab_type": "code",
    "id": "2a4guDYW8ER0",
    "outputId": "0a789079-d861-410a-f3ed-dd0ae887653d"
   },
   "outputs": [
    {
     "data": {
      "text/html": [
       "<div>\n",
       "<style scoped>\n",
       "    .dataframe tbody tr th:only-of-type {\n",
       "        vertical-align: middle;\n",
       "    }\n",
       "\n",
       "    .dataframe tbody tr th {\n",
       "        vertical-align: top;\n",
       "    }\n",
       "\n",
       "    .dataframe thead th {\n",
       "        text-align: right;\n",
       "    }\n",
       "</style>\n",
       "<table border=\"1\" class=\"dataframe\">\n",
       "  <thead>\n",
       "    <tr style=\"text-align: right;\">\n",
       "      <th></th>\n",
       "      <th>comp_name</th>\n",
       "      <th>smiles</th>\n",
       "      <th>storage</th>\n",
       "      <th>tbr</th>\n",
       "      <th>absorp</th>\n",
       "    </tr>\n",
       "  </thead>\n",
       "  <tbody>\n",
       "    <tr>\n",
       "      <th>0</th>\n",
       "      <td>A-0_A-0_A-0_A-0</td>\n",
       "      <td>[H]C1([H])C2([H])C3([H])C2([H])C2([H])C1([H])C...</td>\n",
       "      <td>8.111205</td>\n",
       "      <td>320.298085</td>\n",
       "      <td>159.7</td>\n",
       "    </tr>\n",
       "    <tr>\n",
       "      <th>1</th>\n",
       "      <td>A-1_A-0_A-0_A-0</td>\n",
       "      <td>[H]C1([H])C2([H])C3([H])C2([H])C2(F)C1([H])C32[H]</td>\n",
       "      <td>22.362574</td>\n",
       "      <td>290.434249</td>\n",
       "      <td>177.7</td>\n",
       "    </tr>\n",
       "    <tr>\n",
       "      <th>2</th>\n",
       "      <td>A-2_A-0_A-0_A-0</td>\n",
       "      <td>[H]C1([H])C2([H])C3([H])C2([H])C2(C(F)(F)F)C1(...</td>\n",
       "      <td>7.536407</td>\n",
       "      <td>284.936736</td>\n",
       "      <td>167.8</td>\n",
       "    </tr>\n",
       "    <tr>\n",
       "      <th>3</th>\n",
       "      <td>A-3_A-0_A-0_A-0</td>\n",
       "      <td>[H]C1([H])C2([H])C3([H])C2([H])C2(C#N)C1([H])C...</td>\n",
       "      <td>9.834636</td>\n",
       "      <td>258.947101</td>\n",
       "      <td>220.8</td>\n",
       "    </tr>\n",
       "    <tr>\n",
       "      <th>4</th>\n",
       "      <td>A-4_A-0_A-0_A-0</td>\n",
       "      <td>[H]C1([H])C2([H])C3([H])C2([H])C2([N+](=O)[O-]...</td>\n",
       "      <td>5.430744</td>\n",
       "      <td>219.128675</td>\n",
       "      <td>295.2</td>\n",
       "    </tr>\n",
       "  </tbody>\n",
       "</table>\n",
       "</div>"
      ],
      "text/plain": [
       "         comp_name                                             smiles  \\\n",
       "0  A-0_A-0_A-0_A-0  [H]C1([H])C2([H])C3([H])C2([H])C2([H])C1([H])C...   \n",
       "1  A-1_A-0_A-0_A-0  [H]C1([H])C2([H])C3([H])C2([H])C2(F)C1([H])C32[H]   \n",
       "2  A-2_A-0_A-0_A-0  [H]C1([H])C2([H])C3([H])C2([H])C2(C(F)(F)F)C1(...   \n",
       "3  A-3_A-0_A-0_A-0  [H]C1([H])C2([H])C3([H])C2([H])C2(C#N)C1([H])C...   \n",
       "4  A-4_A-0_A-0_A-0  [H]C1([H])C2([H])C3([H])C2([H])C2([N+](=O)[O-]...   \n",
       "\n",
       "     storage         tbr  absorp  \n",
       "0   8.111205  320.298085   159.7  \n",
       "1  22.362574  290.434249   177.7  \n",
       "2   7.536407  284.936736   167.8  \n",
       "3   9.834636  258.947101   220.8  \n",
       "4   5.430744  219.128675   295.2  "
      ]
     },
     "execution_count": 17,
     "metadata": {},
     "output_type": "execute_result"
    }
   ],
   "source": [
    "gcnn_data = pd.read_pickle('result_abs2.pkl')\n",
    "gcnn_data.head()"
   ]
  },
  {
   "cell_type": "code",
   "execution_count": 18,
   "metadata": {},
   "outputs": [],
   "source": [
    "gcnn_data.drop_duplicates(subset = \"smiles\", keep = 'first', inplace = True)"
   ]
  },
  {
   "cell_type": "code",
   "execution_count": 19,
   "metadata": {},
   "outputs": [
    {
     "data": {
      "text/plain": [
       "(33706, 5)"
      ]
     },
     "execution_count": 19,
     "metadata": {},
     "output_type": "execute_result"
    }
   ],
   "source": [
    "gcnn_data.shape"
   ]
  },
  {
   "cell_type": "code",
   "execution_count": 20,
   "metadata": {
    "colab": {
     "base_uri": "https://localhost:8080/",
     "height": 34
    },
    "colab_type": "code",
    "id": "Sg5CdOFggTLl",
    "outputId": "823aaacf-1d19-427e-959d-599b569bf3f7"
   },
   "outputs": [
    {
     "data": {
      "text/plain": [
       "'train size: 26965, test size: 6741'"
      ]
     },
     "execution_count": 20,
     "metadata": {},
     "output_type": "execute_result"
    }
   ],
   "source": [
    "# split data into training and testing\n",
    "\n",
    "df_ns = gcnn_data.copy()\n",
    "test_size_20 = int(df_ns.shape[0]*0.2) #dataset split is 80/20\n",
    "\n",
    "\n",
    "gcnn_test = df_ns.sample(test_size_20, random_state=42)\n",
    "gcnn_train = df_ns.drop(gcnn_test.index)\n",
    "  \n",
    "f\"train size: {gcnn_train.shape[0]}, test size: {gcnn_test.shape[0]}\"    "
   ]
  },
  {
   "cell_type": "code",
   "execution_count": 21,
   "metadata": {
    "colab": {
     "base_uri": "https://localhost:8080/",
     "height": 153
    },
    "colab_type": "code",
    "id": "gjqVZWpCju88",
    "outputId": "e8aaed63-2028-4d21-8c29-4fcee35e018c"
   },
   "outputs": [
    {
     "name": "stdout",
     "output_type": "stream",
     "text": [
      "1 of 8 DONE in 4.052105665206909\n",
      "2 of 8 DONE in 4.9256751537323\n",
      "3 of 8 DONE in 4.556952476501465\n",
      "4 of 8 DONE in 6.652397632598877\n",
      "5 of 8 DONE in 5.748921871185303\n",
      "6 of 8 DONE in 5.036317586898804\n",
      "7 of 8 DONE in 4.504965543746948\n",
      "8 of 8 DONE in 5.700973749160767\n"
     ]
    }
   ],
   "source": [
    "import time\n",
    "\n",
    "t = time.time()\n",
    "#test_graphs = create_graphs(gcnn_test)\n",
    "#print(f\"test graphs DONE in {time.time()-t}\")\n",
    "\n",
    "train_graphs = []\n",
    "for i, df in enumerate(np.array_split(gcnn_train, 8)):\n",
    "    t = time.time()\n",
    "    tmp_list = create_graphs(df)\n",
    "    train_graphs += tmp_list\n",
    "    print(f\"{i+1} of 8 DONE in {time.time()-t}\")\n",
    "    \n",
    "# select 10% samples for validating the method during traning\n",
    "num_val_samples = round(len(train_graphs) * 0.10)\n",
    "val_samples = [train_graphs.pop(random.randrange(len(train_graphs))) for _ in range(num_val_samples)]"
   ]
  },
  {
   "cell_type": "code",
   "execution_count": 22,
   "metadata": {
    "colab": {},
    "colab_type": "code",
    "id": "by0l7FMnHkxp"
   },
   "outputs": [],
   "source": [
    "bs_model = 512\n",
    "\n",
    "train_loader = DataLoader(train_graphs, batch_size=bs_model, shuffle=True, drop_last=True)\n",
    "test_loader = DataLoader(gcnn_test, batch_size=bs_model, shuffle=True, drop_last=True)\n",
    "val_loader =  DataLoader(val_samples, batch_size=bs_model, shuffle=True, drop_last=True)"
   ]
  },
  {
   "cell_type": "code",
   "execution_count": 23,
   "metadata": {
    "colab": {
     "base_uri": "https://localhost:8080/",
     "height": 34
    },
    "colab_type": "code",
    "id": "Bm2LIvTrFrbo",
    "outputId": "9cbde108-84d5-4e27-9c95-cf6009014a1e"
   },
   "outputs": [
    {
     "data": {
      "text/plain": [
       "2696"
      ]
     },
     "execution_count": 23,
     "metadata": {},
     "output_type": "execute_result"
    }
   ],
   "source": [
    "len(val_samples)"
   ]
  },
  {
   "cell_type": "markdown",
   "metadata": {
    "colab_type": "text",
    "id": "PA7Cpo4N8OmI"
   },
   "source": [
    "## Define Net and Train"
   ]
  },
  {
   "cell_type": "code",
   "execution_count": 24,
   "metadata": {
    "colab": {},
    "colab_type": "code",
    "id": "kmaUHiHC6-IH"
   },
   "outputs": [],
   "source": [
    "import torch\n",
    "import torch.nn as nn\n",
    "from torch_geometric.nn import GCNConv\n",
    "from torch.nn import BatchNorm1d\n",
    "from torch_geometric.nn import global_add_pool, global_max_pool, global_mean_pool\n",
    "from torch.nn import Linear, CELU\n",
    "import torch.nn.functional as F"
   ]
  },
  {
   "cell_type": "code",
   "execution_count": 25,
   "metadata": {
    "colab": {
     "base_uri": "https://localhost:8080/",
     "height": 34
    },
    "colab_type": "code",
    "id": "lLK_AdoS5njr",
    "outputId": "d1962796-cf07-4844-9b34-693ad92a674a"
   },
   "outputs": [
    {
     "data": {
      "text/plain": [
       "16193"
      ]
     },
     "execution_count": 25,
     "metadata": {},
     "output_type": "execute_result"
    }
   ],
   "source": [
    "n_features = 24 \n",
    "class Net(torch.nn.Module):\n",
    "    def __init__(self):\n",
    "        super(Net, self).__init__()\n",
    "        self.conv1 = GCNConv(n_features, 128)\n",
    "        self.bn1 = BatchNorm1d(128)\n",
    "        \n",
    "        \n",
    "        self.conv2 = GCNConv(128,64)\n",
    "        self.bn2 = BatchNorm1d(64)\n",
    "        \n",
    "        #self.fc1 = Linear(64,32)\n",
    "        #self.bn3 = BatchNorm1d(32) \n",
    "        self.fc1 = Linear(64,64) #new\n",
    "        self.bn3 = BatchNorm1d(64) #new\n",
    "\n",
    "        #self.fc2 = Linear(32,32)\n",
    "        #self.drop_layer = nn.Dropout()\n",
    "        #self.fc3 = Linear(32,1)\n",
    "        self.fc2 = Linear(64,1) #new\n",
    "        \n",
    "    \n",
    "    def forward(self, data):\n",
    "        x, edge_index = data.x, data.edge_index\n",
    "        \n",
    "        x = F.relu(self.conv1(x, edge_index))\n",
    "        x = self.bn1(x)\n",
    "        \n",
    "        x = F.relu(self.conv2(x, edge_index))\n",
    "        x = self.bn2(x)\n",
    "        \n",
    "        x = global_max_pool(x, data.batch)\n",
    "        \n",
    "        x = F.relu(self.fc1(x))\n",
    "        x = self.bn3(x)\n",
    "        x = self.fc2(x)\n",
    "        #x = F.relu(self.fc2(x))\n",
    "        \n",
    "        #x = F.dropout(x, training=self.training)\n",
    "        \n",
    "        \n",
    "        #x = self.fc3(x)\n",
    "        \n",
    "        return x\n",
    "    \n",
    "def count_parameters(model):\n",
    "    return sum(p.numel() for p in model.parameters() if p.requires_grad)\n",
    "\n",
    "device = torch.device('cuda' if torch.cuda.is_available() else 'cpu')\n",
    "model = Net().to(device)\n",
    "count_parameters(model)"
   ]
  },
  {
   "cell_type": "code",
   "execution_count": 26,
   "metadata": {
    "colab": {},
    "colab_type": "code",
    "id": "aUrmjTqO5n2r"
   },
   "outputs": [],
   "source": [
    "def train(epoch, loader):\n",
    "    model.train()\n",
    "    \n",
    "    loss_all = 0\n",
    "    count = 0\n",
    "    for data in loader:\n",
    "        optimizer.zero_grad()\n",
    "        \n",
    "        # transform data\n",
    "        data = data.to(device)\n",
    "        real_y = data.y.to(device).type(\"torch.cuda.FloatTensor\")\n",
    "        \n",
    "        # predict \n",
    "        predicted = model(data)\n",
    "        \n",
    "        # compute loss \n",
    "        loss = torch.nn.MSELoss()(predicted.reshape([bs_model]), real_y)\n",
    "        loss_all += loss\n",
    "        count += 1\n",
    "        \n",
    "        # update step\n",
    "        loss.backward()\n",
    "        optimizer.step()\n",
    "    \n",
    "    loss_all = loss_all / count\n",
    "    return  loss.item()\n",
    "    \n",
    "\n",
    "def test(loader):\n",
    "    model.eval()\n",
    "    \n",
    "    pred_all = []\n",
    "    real_all = []\n",
    "    for data in loader:\n",
    "        # transform data\n",
    "        data = data.to(device)\n",
    "        real_y = data.y.to(device).type(\"torch.cuda.FloatTensor\")\n",
    "    \n",
    "        predicted = model(data).reshape([bs_model]).tolist()\n",
    "    \n",
    "        real_all += real_y.tolist()\n",
    "        pred_all += predicted\n",
    "     \n",
    "    L1Loss = abs(np.array(pred_all) - np.array(real_all)).mean()\n",
    "    \n",
    "    return L1Loss\n",
    "\n",
    "\n",
    "#def L1(pred, real):\n",
    "#    return abs(np.array(pred)-np.array(real)).mean()\n",
    "\n",
    "#def mse(pred, real):\n",
    "#    s = (np.array(pred) - np.array(real))**2\n",
    "#    return np.sqrt(s)"
   ]
  },
  {
   "cell_type": "code",
   "execution_count": 35,
   "metadata": {
    "colab": {
     "base_uri": "https://localhost:8080/",
     "height": 357
    },
    "colab_type": "code",
    "id": "TfxhPvh55n6R",
    "outputId": "3d967ec9-ad88-4aad-da8f-0bf4809b87a4"
   },
   "outputs": [
    {
     "name": "stdout",
     "output_type": "stream",
     "text": [
      "model saved. EPOCH: 1, VAL Loss: 164.11\n",
      "model saved. EPOCH: 2, VAL Loss: 116.85\n",
      "model saved. EPOCH: 3, VAL Loss: 27.31\n",
      "model saved. EPOCH: 4, VAL Loss: 14.45\n",
      "model saved. EPOCH: 8, VAL Loss: 11.61\n",
      "model saved. EPOCH: 11, VAL Loss: 11.13\n",
      "model saved. EPOCH: 12, VAL Loss: 10.09\n",
      "model saved. EPOCH: 28, VAL Loss: 9.16\n",
      "model saved. EPOCH: 37, VAL Loss: 8.85\n",
      "model saved. EPOCH: 46, VAL Loss: 8.51\n",
      "model saved. EPOCH: 61, VAL Loss: 8.28\n",
      "model saved. EPOCH: 71, VAL Loss: 8.20\n",
      "model saved. EPOCH: 75, VAL Loss: 7.94\n",
      "model saved. EPOCH: 81, VAL Loss: 7.83\n"
     ]
    },
    {
     "data": {
      "text/plain": [
       "<All keys matched successfully>"
      ]
     },
     "execution_count": 35,
     "metadata": {},
     "output_type": "execute_result"
    }
   ],
   "source": [
    "device = torch.device('cuda' if torch.cuda.is_available() else 'cpu')\n",
    "model = Net().to(device)\n",
    "optimizer = torch.optim.Adam(model.parameters(), lr=0.01)#, weight_decay=5e-4)\n",
    "\n",
    "old_val_loss = 1000.\n",
    "for epoch in range(1,100):\n",
    "    train_loss = train(epoch, train_loader)\n",
    "    val_loss = test(val_loader)\n",
    "    acc_train_loss = test(train_loader)\n",
    "    \n",
    "    #print(f'train loss: {\"{:.2f}\".format(train_loss)}, L1 train loss: {\"{:.2f}\".format(acc_train_loss)}, val loss {\"{:.2f}\".format(val_loss)}') \n",
    "\n",
    "    # check point model with lowest val loss:\n",
    "    if val_loss < old_val_loss:\n",
    "        best_model_param = model.state_dict()\n",
    "        old_val_loss = val_loss\n",
    "        \n",
    "        print(f'model saved. EPOCH: {epoch}, VAL Loss: {\"{:.2f}\".format(val_loss)}')\n",
    "   \n",
    "\n",
    "    # Implement some sort of convergence criteria. \n",
    "\n",
    "    \n",
    "model = Net().to(device)\n",
    "model.load_state_dict(best_model_param)    \n",
    "#print(f\"model trained in: {\":.2f\".format(time.time()-t)} s\")"
   ]
  },
  {
   "cell_type": "code",
   "execution_count": 28,
   "metadata": {
    "colab": {},
    "colab_type": "code",
    "id": "nU-gAwh2NgYC"
   },
   "outputs": [
    {
     "data": {
      "text/plain": [
       "OrderedDict([('conv1.weight',\n",
       "              tensor([[-0.0696,  0.1596,  0.0881,  ..., -0.0950,  0.2491,  0.4279],\n",
       "                      [ 0.0610, -0.1419,  0.5078,  ...,  0.1376,  0.4225, -0.3056],\n",
       "                      [-0.0966,  0.0670,  0.0260,  ..., -0.2484, -0.3181, -0.0040],\n",
       "                      ...,\n",
       "                      [ 0.0347, -0.1057, -0.0139,  ...,  0.3100, -0.5102, -0.6419],\n",
       "                      [-0.2388,  0.0954,  0.1060,  ..., -0.0014,  0.0791, -0.1525],\n",
       "                      [-0.1845,  0.0776,  0.1925,  ..., -0.1983,  0.0292, -0.1850]],\n",
       "                     device='cuda:0')),\n",
       "             ('conv1.bias',\n",
       "              tensor([-0.1647,  0.1299,  0.1058, -0.1186, -0.0601, -0.0974, -0.0496, -0.0917,\n",
       "                       0.1183,  0.0000, -0.0601, -0.3254, -0.0604, -0.0807, -0.2520, -0.1937,\n",
       "                      -0.1436, -0.1067, -0.1209, -0.1044, -0.0119, -0.0519,  0.0690, -0.0636,\n",
       "                      -0.0814,  0.0805,  0.1681,  0.0064, -0.1499,  0.0891,  0.0904, -0.0199,\n",
       "                      -0.2608, -0.4085,  0.0728,  0.0151, -0.0404,  0.0251,  0.0000, -0.0477,\n",
       "                       0.0543, -0.1963, -0.2276, -0.2351,  0.0000, -0.0221, -0.3119,  0.1332,\n",
       "                       0.0807, -0.1134,  0.2381,  0.0785, -0.1423, -0.0945, -0.0440,  0.0540,\n",
       "                      -0.0555,  0.0165,  0.0000,  0.0619,  0.0786,  0.0022, -0.0848, -0.0885,\n",
       "                      -0.2350,  0.0128, -0.3624,  0.0657, -0.1207, -0.2828,  0.0416,  0.0000,\n",
       "                      -0.0992, -0.2314, -0.0961, -0.1337,  0.0459,  0.0703, -0.0206, -0.1065,\n",
       "                       0.0228,  0.1036,  0.0000, -0.1292,  0.0234,  0.2516,  0.0501,  0.0516,\n",
       "                      -0.0142, -0.0622, -0.2086,  0.0855,  0.0000, -0.1415, -0.0446,  0.0917,\n",
       "                       0.1627, -0.0601,  0.0000, -0.0016,  0.0447,  0.0000,  0.1721, -0.1773,\n",
       "                       0.0276,  0.0000,  0.0674,  0.0034, -0.0539, -0.0707,  0.0059,  0.1246,\n",
       "                      -0.0604,  0.0000,  0.0321,  0.0827, -0.2726, -0.1039, -0.1020,  0.0000,\n",
       "                      -0.1011, -0.0601, -0.0232, -0.1849, -0.1739, -0.0952,  0.1801,  0.1321],\n",
       "                     device='cuda:0')),\n",
       "             ('bn1.weight',\n",
       "              tensor([1.2446, 0.8201, 0.7872, 1.1481, 0.9399, 0.9488, 0.8954, 1.2020, 0.8385,\n",
       "                      1.0000, 0.9399, 0.8659, 0.9396, 1.0112, 0.8252, 1.0404, 0.5730, 1.0702,\n",
       "                      0.8592, 1.1185, 0.4604, 1.3308, 1.2098, 0.7273, 1.2629, 0.9950, 0.6324,\n",
       "                      0.8194, 1.3138, 0.7664, 0.9162, 0.9408, 0.7690, 0.7632, 0.7972, 1.1430,\n",
       "                      0.7056, 0.9108, 1.0000, 0.6504, 1.0714, 0.9275, 1.0770, 0.9290, 1.0000,\n",
       "                      1.0350, 1.1953, 1.0802, 0.6503, 0.7587, 0.9615, 0.7247, 1.1367, 1.5257,\n",
       "                      0.8457, 1.0094, 1.1200, 0.8699, 1.0000, 0.7063, 0.6867, 0.6767, 0.9280,\n",
       "                      0.8701, 1.1035, 1.2318, 1.4018, 0.6235, 0.8442, 1.2382, 0.9034, 1.0000,\n",
       "                      0.8610, 0.8218, 0.9532, 1.3336, 0.8862, 1.1921, 1.0046, 1.2761, 1.0778,\n",
       "                      0.9044, 1.0000, 1.2372, 0.8925, 0.7529, 0.6458, 0.8827, 0.9686, 1.1855,\n",
       "                      0.9048, 0.6228, 1.0000, 1.0208, 1.1101, 0.9324, 0.8570, 0.9399, 1.0000,\n",
       "                      1.1768, 1.1082, 1.0000, 1.1777, 0.9933, 1.0954, 1.0000, 0.8001, 0.7351,\n",
       "                      0.9653, 1.0587, 0.9930, 0.7862, 0.9396, 1.0000, 0.5970, 1.0479, 0.9961,\n",
       "                      0.7534, 0.9790, 1.0000, 1.0559, 0.9399, 0.9398, 1.1060, 0.9095, 0.9261,\n",
       "                      0.7064, 0.9357], device='cuda:0')),\n",
       "             ('bn1.bias',\n",
       "              tensor([ 4.3314e-01, -3.7584e-01,  5.7392e-02, -9.3105e-02, -2.4344e-01,\n",
       "                      -1.2762e-02,  3.5465e-01,  1.1749e-01,  4.6230e-01, -5.2615e-02,\n",
       "                      -4.9437e-04,  1.9316e-01, -1.0949e-01, -1.3390e-01, -5.1691e-01,\n",
       "                      -2.0852e-01, -3.1280e-01,  1.1434e-01,  3.7368e-03,  1.8926e-01,\n",
       "                      -6.8656e-02, -2.5965e-01, -1.4867e-01, -4.7915e-01,  3.0714e-01,\n",
       "                      -3.6207e-01, -1.4997e-01,  2.4495e-01, -2.5153e-01,  4.7834e-02,\n",
       "                       3.2861e-01, -5.1363e-02, -3.4578e-01,  9.6314e-02,  6.6658e-02,\n",
       "                       1.2377e-01,  3.8884e-02,  1.6640e-01, -1.6375e-01, -3.5381e-02,\n",
       "                       6.3649e-02, -1.5434e-01, -2.7930e-01, -3.5092e-02,  5.2752e-02,\n",
       "                       3.1945e-01,  9.9157e-02,  5.0826e-01,  9.0230e-02, -4.4959e-01,\n",
       "                      -3.3475e-01, -3.5945e-01,  2.9706e-02, -1.4104e-02, -2.3941e-01,\n",
       "                       1.9157e-01, -1.1665e-01,  1.5888e-01,  9.5692e-02,  3.2671e-01,\n",
       "                       7.3669e-02,  2.1065e-01,  3.9059e-02,  2.3380e-01,  1.1639e-02,\n",
       "                       7.3560e-02,  1.8413e-01, -6.3075e-02,  1.4288e-01,  3.6901e-01,\n",
       "                      -3.3229e-01, -2.0718e-01, -8.5890e-02,  1.0462e-01, -8.7038e-02,\n",
       "                       1.3516e-01, -5.4953e-01,  4.1897e-01, -1.6220e-01, -3.4714e-01,\n",
       "                       4.4793e-01, -5.0564e-01,  1.0169e-01,  3.4182e-01,  1.1654e-01,\n",
       "                       2.4133e-01, -1.8645e-01, -3.4991e-01,  1.4745e-01, -5.5156e-02,\n",
       "                      -2.4637e-01,  3.4654e-02, -2.3587e-01,  2.0069e-01,  3.4282e-01,\n",
       "                      -6.6362e-01, -3.2190e-01, -8.6347e-02,  1.2430e-01,  8.3893e-02,\n",
       "                       2.2860e-01, -2.3532e-01,  7.3369e-02, -1.1110e-01, -1.9871e-01,\n",
       "                      -2.1082e-01, -2.3220e-02,  4.0570e-02,  1.8005e-01,  2.8400e-02,\n",
       "                       1.2302e-01,  2.1883e-01, -9.6482e-02, -1.2501e-01, -2.8962e-01,\n",
       "                       1.4706e-01, -2.2218e-01, -4.3168e-01,  2.1353e-01, -1.4541e-01,\n",
       "                      -5.6074e-02, -1.9469e-01,  1.8974e-01,  9.1805e-02,  5.2241e-02,\n",
       "                       2.8520e-01, -3.0010e-01, -4.4063e-01], device='cuda:0')),\n",
       "             ('bn1.running_mean',\n",
       "              tensor([1.8920e-01, 1.3356e+00, 2.3233e-01, 3.3694e-02, 5.6052e-45, 1.1963e-39,\n",
       "                      1.6816e-44, 1.3081e-01, 2.0020e-01, 0.0000e+00, 5.6052e-45, 1.9455e-31,\n",
       "                      5.6052e-45, 4.8242e-02, 3.8261e-01, 2.5274e-35, 4.0352e-01, 4.1577e-42,\n",
       "                      4.2740e-43, 9.7105e-02, 9.2519e-01, 2.9738e-03, 1.0799e+00, 5.1018e-01,\n",
       "                      1.0255e-01, 3.6641e-01, 9.7601e-01, 9.9585e-02, 1.5185e-01, 7.3714e-01,\n",
       "                      1.4638e-01, 1.9699e-01, 8.4797e-01, 1.7516e-19, 8.7125e-01, 3.3339e-03,\n",
       "                      1.0738e-03, 9.2060e-02, 0.0000e+00, 1.5896e-02, 9.8188e-01, 1.3947e-41,\n",
       "                      9.6647e-02, 4.2716e-02, 0.0000e+00, 5.5499e-02, 2.4254e-31, 1.1740e-01,\n",
       "                      6.0334e-01, 7.1476e-01, 8.2721e-01, 1.2291e+00, 6.6728e-02, 1.0403e-02,\n",
       "                      4.3390e-01, 9.7457e-01, 2.3551e-01, 1.1609e+00, 0.0000e+00, 2.5053e-01,\n",
       "                      7.6264e-01, 3.6703e-01, 2.7325e-43, 1.9618e-44, 6.7431e-37, 2.8338e-02,\n",
       "                      9.8639e-03, 7.7054e-01, 8.4078e-43, 1.6659e-02, 4.0283e-01, 0.0000e+00,\n",
       "                      2.7410e-01, 2.2964e-01, 7.8530e-02, 7.5956e-03, 1.2433e+00, 1.9124e-02,\n",
       "                      5.8884e-02, 1.3361e-02, 1.7625e-01, 1.5416e+00, 0.0000e+00, 1.1756e-01,\n",
       "                      7.4080e-03, 8.2531e-01, 4.7658e-01, 6.5496e-01, 1.5613e-01, 5.4382e-02,\n",
       "                      4.3688e-01, 3.9433e-01, 0.0000e+00, 2.0062e-40, 1.1180e-02, 1.3435e+00,\n",
       "                      8.2231e-01, 5.6052e-45, 0.0000e+00, 4.8515e-01, 9.0832e-04, 0.0000e+00,\n",
       "                      6.4000e-01, 1.6916e-01, 3.8017e-01, 0.0000e+00, 1.0522e+00, 2.5152e-01,\n",
       "                      1.6794e-01, 5.6052e-45, 2.6188e-03, 8.1227e-01, 5.6052e-45, 0.0000e+00,\n",
       "                      5.2180e-01, 6.3051e-03, 2.7662e-33, 1.5662e+00, 3.6434e-44, 0.0000e+00,\n",
       "                      2.3040e-40, 5.6052e-45, 5.6052e-45, 3.6198e-28, 6.3819e-38, 2.8995e-01,\n",
       "                      1.3292e+00, 6.8218e-01], device='cuda:0')),\n",
       "             ('bn1.running_var',\n",
       "              tensor([9.4068e-02, 4.4313e-02, 7.1763e-02, 6.5560e-03, 1.3757e-41, 1.9025e-40,\n",
       "                      1.3758e-41, 2.7912e-02, 3.7662e-02, 1.3757e-41, 1.3757e-41, 3.3293e-32,\n",
       "                      1.3757e-41, 9.2930e-03, 4.7032e-02, 2.7894e-36, 1.2934e-01, 1.4194e-41,\n",
       "                      1.3796e-41, 2.9389e-02, 2.5661e-02, 5.6991e-04, 2.4701e-02, 1.4152e-01,\n",
       "                      2.6920e-02, 3.8440e-02, 1.3926e-01, 4.0784e-02, 2.6586e-02, 2.7818e-02,\n",
       "                      3.2007e-02, 6.5882e-02, 4.3170e-02, 3.4153e-20, 6.5001e-02, 7.4391e-04,\n",
       "                      2.0826e-04, 1.5976e-02, 1.3757e-41, 7.8098e-03, 2.8746e-02, 1.4910e-41,\n",
       "                      2.1156e-02, 1.4302e-02, 1.3757e-41, 1.4054e-02, 2.4020e-32, 2.1852e-02,\n",
       "                      1.0641e-01, 4.7181e-02, 7.4328e-02, 1.0427e-01, 1.9144e-02, 2.1069e-03,\n",
       "                      1.1625e-01, 5.5269e-02, 3.4176e-02, 2.5183e-02, 1.3757e-41, 6.2995e-02,\n",
       "                      1.6676e-01, 7.4518e-02, 1.3773e-41, 1.3758e-41, 5.3937e-38, 5.9791e-03,\n",
       "                      2.3868e-03, 2.6152e-02, 1.3806e-41, 4.4993e-03, 7.8614e-02, 1.3757e-41,\n",
       "                      3.5623e-02, 5.3959e-02, 1.9293e-02, 1.1996e-03, 7.4148e-02, 4.5449e-03,\n",
       "                      1.2390e-02, 2.0950e-03, 5.4067e-02, 5.5117e-02, 1.3757e-41, 2.5821e-02,\n",
       "                      1.7536e-03, 4.0353e-02, 8.8754e-02, 2.0858e-02, 6.2453e-02, 1.1089e-02,\n",
       "                      1.0754e-01, 3.1712e-02, 1.3757e-41, 2.8998e-41, 3.3163e-03, 6.3546e-02,\n",
       "                      6.2575e-02, 1.3757e-41, 1.3757e-41, 5.1233e-02, 1.3645e-04, 1.3757e-41,\n",
       "                      1.8740e-02, 4.3924e-02, 4.5284e-02, 1.3757e-41, 2.4149e-02, 8.6339e-02,\n",
       "                      4.3423e-02, 1.3757e-41, 5.3593e-04, 4.6795e-02, 1.3757e-41, 1.3757e-41,\n",
       "                      1.2450e-01, 1.8611e-03, 4.1343e-34, 1.1074e-01, 1.3758e-41, 1.3757e-41,\n",
       "                      3.5153e-41, 1.3757e-41, 1.3757e-41, 3.4977e-29, 5.8813e-39, 1.2518e-01,\n",
       "                      5.4826e-02, 6.8279e-02], device='cuda:0')),\n",
       "             ('bn1.num_batches_tracked', tensor(705, device='cuda:0')),\n",
       "             ('conv2.weight',\n",
       "              tensor([[ 0.0185, -0.4672, -0.6647,  ..., -0.2624, -0.1542, -0.2497],\n",
       "                      [ 0.1238,  0.3627,  0.0502,  ...,  0.3038, -0.1850,  0.1874],\n",
       "                      [-0.2629,  0.2026,  0.2482,  ...,  0.1872,  0.0472,  0.1859],\n",
       "                      ...,\n",
       "                      [ 0.1829, -0.5968, -0.4712,  ..., -0.0969, -0.0437, -0.4224],\n",
       "                      [-0.0296,  0.0690, -0.0079,  ...,  0.1293,  0.0462,  0.2769],\n",
       "                      [ 0.3961,  0.1531,  0.3943,  ...,  0.0809, -0.3889,  0.0898]],\n",
       "                     device='cuda:0')),\n",
       "             ('conv2.bias',\n",
       "              tensor([-0.1217, -0.1219, -0.3617,  0.2360, -0.1538,  0.0927, -0.0792,  0.0647,\n",
       "                       0.0951, -0.2323, -0.1903,  0.0195,  0.0628, -0.2105, -0.0080, -0.0404,\n",
       "                       0.0024, -0.2317,  0.1002, -0.0727, -0.2057,  0.0223, -0.3324, -0.2854,\n",
       "                       0.0777,  0.1769, -0.2817, -0.1704,  0.0936, -0.3528, -0.1141,  0.1273,\n",
       "                       0.4141,  0.1676, -0.4119,  0.0173, -0.4283, -0.0788,  0.1335,  0.0908,\n",
       "                       0.0461,  0.2406,  0.0379,  0.1819,  0.0359,  0.0099,  0.2913,  0.2740,\n",
       "                      -0.2752,  0.1583, -0.1378,  0.1246, -0.0688,  0.0289,  0.0018,  0.1523,\n",
       "                       0.0889, -0.2452,  0.1965, -0.1762,  0.0889, -0.4345,  0.1212,  0.0544],\n",
       "                     device='cuda:0')),\n",
       "             ('bn2.weight',\n",
       "              tensor([1.0431, 0.9409, 1.2630, 0.7002, 1.2150, 0.8156, 1.1623, 0.5676, 0.8407,\n",
       "                      1.2946, 1.1379, 0.9802, 0.9303, 1.2341, 0.9374, 0.9162, 0.9764, 0.8725,\n",
       "                      0.8400, 1.0423, 1.0945, 0.9177, 1.1547, 1.3130, 0.9282, 0.8711, 0.9968,\n",
       "                      1.0504, 0.8464, 0.5667, 1.2733, 0.7426, 0.4722, 0.6855, 1.0622, 0.8469,\n",
       "                      1.2316, 0.9796, 0.7191, 0.8385, 0.8610, 0.8473, 0.8644, 0.6335, 0.9002,\n",
       "                      0.9164, 0.5232, 0.6088, 1.0434, 0.6081, 1.2372, 0.6837, 1.0502, 0.8319,\n",
       "                      0.9887, 0.8192, 0.7184, 1.0513, 0.6140, 1.2459, 0.7418, 1.2291, 0.8549,\n",
       "                      0.9087], device='cuda:0')),\n",
       "             ('bn2.bias',\n",
       "              tensor([-0.3878, -0.3256, -0.2079, -0.3165, -0.0136, -0.2203, -0.1689, -0.3014,\n",
       "                      -0.2878, -0.1035, -0.2849, -0.2721, -0.0365, -0.1439, -0.1307, -0.2253,\n",
       "                      -0.0026, -0.3766, -0.2119, -0.1544, -0.1682, -0.5656, -0.0282, -0.0907,\n",
       "                      -0.0987, -0.5915, -0.3701, -0.1206, -0.4132, -0.4101, -0.4104, -0.3888,\n",
       "                      -0.5118, -0.1949, -0.3486, -0.3163, -0.3078, -0.2020, -0.7930, -0.4016,\n",
       "                      -0.3908, -0.2015, -0.1803, -0.4660, -0.4474, -0.1211, -0.3712, -0.5358,\n",
       "                      -0.2849, -0.4129,  0.1097, -0.3422, -0.0452, -0.5155, -0.2632, -0.4295,\n",
       "                      -0.2765, -0.1660, -0.3030, -0.0835, -0.2920, -0.0423, -0.1692, -0.1344],\n",
       "                     device='cuda:0')),\n",
       "             ('bn2.running_mean',\n",
       "              tensor([1.1370, 0.9756, 0.3051, 4.4220, 0.1336, 0.9557, 0.7250, 1.2551, 1.0033,\n",
       "                      0.4928, 0.6297, 1.1434, 1.6967, 1.2164, 2.4294, 1.1446, 1.2112, 0.3874,\n",
       "                      3.1251, 2.1037, 0.7289, 1.3381, 0.0961, 1.0609, 3.0434, 1.8752, 1.6909,\n",
       "                      0.6096, 1.1839, 0.0460, 1.6847, 2.1586, 2.9864, 1.3290, 0.0499, 1.8403,\n",
       "                      0.0833, 1.9915, 1.4404, 2.2371, 1.5740, 2.9191, 4.3337, 3.2302, 1.1439,\n",
       "                      2.3485, 2.2427, 2.4627, 1.2455, 1.0935, 1.1224, 1.3109, 3.3790, 1.7316,\n",
       "                      2.5036, 2.0389, 2.0139, 0.3099, 1.2377, 0.8318, 1.4053, 0.0813, 3.9188,\n",
       "                      1.5818], device='cuda:0')),\n",
       "             ('bn2.running_var',\n",
       "              tensor([ 2.0871,  3.7812,  1.2247, 19.6170,  0.2611,  3.2489,  2.2608,  4.0136,\n",
       "                       1.4433,  1.1841,  2.5243,  3.5325,  5.4514,  3.0113,  7.8506,  3.3489,\n",
       "                       3.0693,  1.5620, 12.0841,  9.1591,  3.7249,  4.9486,  0.1480,  3.7349,\n",
       "                      15.2155,  9.8848,  5.6582,  1.5315,  3.4699,  0.0538,  4.0337,  6.4259,\n",
       "                       9.9189,  3.8676,  0.0984,  4.7324,  0.2140,  6.4063,  2.1976,  6.2246,\n",
       "                       7.1722, 14.9245, 24.9754, 19.7224,  3.6955, 11.9327,  4.0187,  9.1905,\n",
       "                       3.8005,  2.9650,  3.1472,  4.5074, 16.4643,  8.6618, 12.7457,  4.2248,\n",
       "                       7.5880,  0.5717,  3.6110,  3.5199,  3.9811,  0.2365, 25.3205,  4.5625],\n",
       "                     device='cuda:0')),\n",
       "             ('bn2.num_batches_tracked', tensor(705, device='cuda:0')),\n",
       "             ('fc1.weight',\n",
       "              tensor([[-0.2480,  0.1132,  0.2239,  ...,  0.3168,  0.2038,  0.1902],\n",
       "                      [-0.3838, -0.0101, -0.0503,  ...,  0.0460,  0.0197,  0.3191],\n",
       "                      [-0.4557,  0.0214, -0.4279,  ...,  0.1569,  0.1132,  0.1287],\n",
       "                      ...,\n",
       "                      [ 0.0734, -0.0208,  0.0290,  ..., -0.2345,  0.0100, -0.2175],\n",
       "                      [ 0.0563,  0.0114,  0.0605,  ..., -0.2839, -0.1537, -0.2138],\n",
       "                      [-0.1145,  0.3209,  0.3936,  ..., -0.3602,  0.1479, -0.2209]],\n",
       "                     device='cuda:0')),\n",
       "             ('fc1.bias',\n",
       "              tensor([ 0.1517,  0.2143,  0.4892, -0.1257,  0.0531, -0.0556, -0.1412,  0.1905,\n",
       "                       0.0616,  0.0226,  0.2990,  0.1696, -0.0384, -0.0478,  0.0149,  0.2067,\n",
       "                       0.5075, -0.1091, -0.0925, -0.0637, -0.0150, -0.0816, -0.0267,  0.1974,\n",
       "                       0.0790, -0.0646, -0.1118,  0.0258,  0.0355,  0.1908, -0.0316, -0.1406,\n",
       "                      -0.2366, -0.1216,  0.1007, -0.0964, -0.1556,  0.2447, -0.1210,  0.1020,\n",
       "                      -0.1014, -0.2799,  0.1134, -0.0692,  0.2358,  0.1417, -0.1002, -0.1680,\n",
       "                      -0.0678,  0.2023,  0.0957, -0.1555, -0.2062, -0.0288, -0.4147,  0.1970,\n",
       "                      -0.0813, -0.1871,  0.1989,  0.1641, -0.0794, -0.0850, -0.0717, -0.2844],\n",
       "                     device='cuda:0')),\n",
       "             ('bn3.weight',\n",
       "              tensor([1.0272, 0.9685, 0.9579, 2.6697, 0.8720, 0.9399, 1.2104, 0.7511, 0.9380,\n",
       "                      0.9939, 1.0556, 1.0436, 1.2160, 1.2273, 1.0527, 0.8152, 0.9231, 1.1049,\n",
       "                      1.0141, 1.3556, 1.0123, 0.9499, 1.2557, 0.8893, 1.1132, 0.9399, 0.9399,\n",
       "                      1.2483, 0.9376, 1.0857, 1.0148, 1.2401, 0.7448, 0.9170, 0.9471, 1.9279,\n",
       "                      1.2457, 1.1253, 1.2344, 1.2470, 1.2387, 0.9573, 1.0075, 1.0780, 0.9285,\n",
       "                      0.9471, 0.9816, 1.0238, 1.2250, 0.8604, 1.0513, 1.2267, 0.8378, 1.2617,\n",
       "                      1.2278, 1.2277, 1.2226, 1.1584, 0.9729, 1.0184, 0.7767, 1.2000, 1.2476,\n",
       "                      1.1605], device='cuda:0')),\n",
       "             ('bn3.bias',\n",
       "              tensor([ 1.8269,  1.7862,  1.8202, -1.7776, -1.7510,  1.7988,  1.7989, -1.8218,\n",
       "                       1.8286,  1.8252, -1.7868,  1.8007, -1.8345, -1.8079,  1.7636, -1.8511,\n",
       "                      -1.7679, -1.7928,  1.7791, -1.8436,  1.7936,  1.8104, -1.7997, -1.7770,\n",
       "                       1.7393, -1.7931, -1.8464, -1.7599,  1.7851, -1.7771,  1.8252, -1.7902,\n",
       "                       1.8437, -1.8390,  1.7581, -1.7586, -1.7954, -1.7857, -1.7684, -1.8475,\n",
       "                      -1.7602, -1.7721, -1.7938, -1.8191, -1.8087, -1.8099, -1.8346,  1.7545,\n",
       "                      -1.8459, -1.8201,  1.8136, -1.7415, -1.7715,  1.7406, -1.8384,  1.7942,\n",
       "                      -1.7744, -1.7905,  1.7599,  1.8206,  1.8176, -1.8538, -1.7538, -1.8246],\n",
       "                     device='cuda:0')),\n",
       "             ('bn3.running_mean',\n",
       "              tensor([9.3228e+00, 5.2467e+00, 1.0140e+01, 1.7821e-01, 3.4760e+00, 5.6052e-45,\n",
       "                      1.3351e-39, 1.5229e+01, 1.6198e+01, 1.2839e+01, 2.2954e+00, 4.2431e+00,\n",
       "                      1.4114e-39, 1.3447e-39, 5.6176e+00, 2.7198e+00, 1.1843e+01, 3.5285e+00,\n",
       "                      8.7565e+00, 2.3258e-17, 5.1568e-43, 1.5554e-43, 2.2241e-39, 5.6590e+00,\n",
       "                      3.2909e+00, 1.5414e-44, 1.8217e-44, 1.7627e-39, 1.2710e+01, 2.2467e+00,\n",
       "                      9.5118e+00, 1.3792e-39, 1.8984e-36, 5.6052e-45, 4.7679e+00, 1.6619e-01,\n",
       "                      1.8027e-39, 1.0427e+01, 2.3239e-33, 9.1589e-40, 2.0948e-39, 4.7666e-02,\n",
       "                      1.2693e+01, 3.7137e-36, 7.4590e+00, 3.7390e+00, 4.4842e-44, 1.6816e-44,\n",
       "                      1.1482e+01, 6.1383e+00, 6.3837e+00, 3.4756e-39, 3.3319e-38, 9.0979e-40,\n",
       "                      2.1019e+00, 9.2792e-01, 1.4542e-39, 6.6525e-39, 1.3968e+01, 1.4950e+01,\n",
       "                      1.6073e+01, 1.3177e-39, 5.3800e-39, 8.6125e-01], device='cuda:0')),\n",
       "             ('bn3.running_var',\n",
       "              tensor([5.5395e+01, 2.0685e+01, 2.4956e+01, 7.4163e-01, 1.1497e+01, 1.3757e-41,\n",
       "                      1.3835e-39, 2.2489e+01, 5.1305e+01, 5.3787e+01, 7.9199e+00, 1.1827e+01,\n",
       "                      1.3828e-39, 1.2399e-39, 3.7470e+01, 9.7345e+00, 2.6180e+01, 2.5114e+01,\n",
       "                      3.9085e+01, 5.0748e-18, 1.3884e-41, 1.3824e-41, 2.7552e-39, 2.2295e+01,\n",
       "                      1.0441e+01, 1.3775e-41, 1.3762e-41, 1.6863e-39, 4.9949e+01, 6.3980e+00,\n",
       "                      5.1922e+01, 1.3726e-39, 3.2993e-37, 1.3762e-41, 2.6251e+01, 8.2610e-01,\n",
       "                      1.8174e-39, 3.8307e+01, 5.0016e-33, 8.4556e-40, 2.4030e-39, 2.1840e-01,\n",
       "                      3.7817e+01, 8.0953e-36, 2.3979e+01, 1.2273e+01, 1.3787e-41, 1.3766e-41,\n",
       "                      4.5571e+01, 2.0018e+01, 1.9801e+01, 3.0102e-39, 6.6656e-38, 1.0830e-39,\n",
       "                      1.4513e+01, 4.2100e+00, 1.3236e-39, 7.0307e-39, 5.3590e+01, 6.3078e+01,\n",
       "                      5.2275e+01, 1.2711e-39, 3.5194e-39, 4.4141e+00], device='cuda:0')),\n",
       "             ('bn3.num_batches_tracked', tensor(705, device='cuda:0')),\n",
       "             ('fc2.weight',\n",
       "              tensor([[ 1.8069,  1.8503,  1.8085, -1.9222, -1.8918,  1.8688,  1.8371, -1.8108,\n",
       "                        1.8050,  1.8074, -1.8525,  1.8360, -1.7989, -1.8285,  1.8744, -1.7827,\n",
       "                       -1.8690, -1.8452,  1.8787, -1.7926,  1.8765,  1.8555, -1.8396, -1.8630,\n",
       "                        1.9088, -1.8737, -1.8135, -1.8839,  1.8538, -1.8638,  1.8038, -1.8457,\n",
       "                        1.8167, -1.8142,  1.8873, -1.9180, -1.8439, -1.8527, -1.8770, -1.7819,\n",
       "                       -1.8821, -1.9025, -1.8436, -1.8231, -1.8251, -1.8281, -1.8279,  1.9219,\n",
       "                       -1.7890, -1.8131,  1.8214, -1.9075, -1.9002,  1.9056, -1.7982,  1.8548,\n",
       "                       -1.8650, -1.8486,  1.8807,  1.8106,  1.8346, -1.7760, -1.8915, -1.8107]],\n",
       "                     device='cuda:0')),\n",
       "             ('fc2.bias', tensor([1.1141], device='cuda:0'))])"
      ]
     },
     "execution_count": 28,
     "metadata": {},
     "output_type": "execute_result"
    }
   ],
   "source": [
    "best_model_param"
   ]
  },
  {
   "cell_type": "code",
   "execution_count": 36,
   "metadata": {
    "colab": {},
    "colab_type": "code",
    "id": "EnwdbiP3hv5P"
   },
   "outputs": [],
   "source": [
    "torch.save(best_model_param, 'state_model_tbr_81.pt')"
   ]
  },
  {
   "cell_type": "markdown",
   "metadata": {
    "colab_type": "text",
    "id": "vNJy05S2X0zY"
   },
   "source": [
    "# Try Model"
   ]
  },
  {
   "cell_type": "code",
   "execution_count": 37,
   "metadata": {
    "colab": {
     "base_uri": "https://localhost:8080/",
     "height": 251
    },
    "colab_type": "code",
    "id": "CDy60JTIExaN",
    "outputId": "16aedc39-fa30-4f73-e9a7-c2303c2e5a54"
   },
   "outputs": [],
   "source": [
    "model.load_state_dict(torch.load('state_model_tbr_81.pt'))\n",
    "\n",
    "def compute_energies(loader):\n",
    "    model.eval()\n",
    "    \n",
    "    pred_all = []\n",
    "    real_all = []\n",
    "    for data in loader:\n",
    "        # transform data\n",
    "        data = data.to(device)\n",
    "        real_y = data.y.to(device).type(\"torch.cuda.FloatTensor\")\n",
    "    \n",
    "        predicted = model(data).reshape([bs_model]).tolist()\n",
    "    \n",
    "        real_all += real_y.tolist()\n",
    "        pred_all += predicted\n",
    "    \n",
    "    return real_all, pred_all"
   ]
  },
  {
   "cell_type": "markdown",
   "metadata": {
    "colab_type": "text",
    "id": "rj5kNT5OFdAw"
   },
   "source": [
    "## Test model"
   ]
  },
  {
   "cell_type": "code",
   "execution_count": 38,
   "metadata": {
    "colab": {
     "base_uri": "https://localhost:8080/",
     "height": 34
    },
    "colab_type": "code",
    "id": "2siqIhme2hRF",
    "outputId": "78eb6f08-3c51-4a14-81ea-d419aab27ba0"
   },
   "outputs": [
    {
     "name": "stdout",
     "output_type": "stream",
     "text": [
      "6741\n"
     ]
    }
   ],
   "source": [
    "#df_dict = dict()\n",
    "df_dict = gcnn_test[gcnn_test.storage > 0.]\n",
    "\n",
    "print(len(df_dict))"
   ]
  },
  {
   "cell_type": "markdown",
   "metadata": {
    "colab_type": "text",
    "id": "DVvi_BDQO0lS"
   },
   "source": [
    "### plot real vs. test"
   ]
  },
  {
   "cell_type": "code",
   "execution_count": 39,
   "metadata": {
    "colab": {
     "base_uri": "https://localhost:8080/",
     "height": 401
    },
    "colab_type": "code",
    "id": "JaMSFYlONBPE",
    "outputId": "53c4d3e7-a4af-45bc-f6f1-17a09020afe4"
   },
   "outputs": [
    {
     "data": {
      "text/plain": [
       "(40, 323.0)"
      ]
     },
     "execution_count": 39,
     "metadata": {},
     "output_type": "execute_result"
    },
    {
     "data": {
      "image/png": "[encoded data removed]",
      "text/plain": [
       "<Figure size 432x432 with 1 Axes>"
      ]
     },
     "metadata": {},
     "output_type": "display_data"
    }
   ],
   "source": [
    "import matplotlib as mpl\n",
    "\n",
    "mpl.rc({'figure.autolayout': True})\n",
    "# Helvetica format and white background\n",
    "mpl.rc(\"text.latex\", preamble=[\"\\\\usepackage{helvet}\\\\usepackage{sfmath}\"])\n",
    "mpl.rc(\"figure\", facecolor=\"white\")\n",
    "#! supscript and superscript NOT italic\n",
    "mpl.rc({'mathtext.default': 'regular'})\n",
    "\n",
    "plt.figure(figsize=(6,6))\n",
    "\n",
    "graph_test =  [mol2vec(Chem.MolFromSmiles(x)) for x in df_dict.smiles]\n",
    "for graph, energy in zip(graph_test, df_dict.tbr):\n",
    "    graph.y = torch.tensor([energy], dtype=torch.float64)\n",
    "\n",
    "tt_loader = DataLoader(graph_test, batch_size=bs_model, shuffle=True, drop_last=True)\n",
    "\n",
    "# plot stuff\n",
    "tt_real, tt_pred = compute_energies(tt_loader)\n",
    "\n",
    "plt.plot(np.array(tt_real), np.array(tt_pred), '.')\n",
    "plt.plot(np.array([50,310]), np.array([50,310]))\n",
    "\n",
    "\n",
    "plt.xlabel(r'Calculated $\\Delta$E$_{TBR}$ [kJ/mol]', fontsize=16), plt.ylabel(r'Predicted $\\Delta$E$_{TBR}$ [kJ/mol]', fontsize=16), \n",
    "plt.tick_params(labelsize=14)\n",
    "plt.ylim(bottom=40)\n",
    "\n",
    "#plt.savefig('/content/drive/My Drive/Kemi på KU/pred_vs_true_tbr.pdf', dpi=800)"
   ]
  },
  {
   "cell_type": "markdown",
   "metadata": {
    "colab_type": "text",
    "id": "lJnjA0VJPBqn"
   },
   "source": [
    "### mean + std from all"
   ]
  },
  {
   "cell_type": "code",
   "execution_count": null,
   "metadata": {
    "colab": {
     "base_uri": "https://localhost:8080/",
     "height": 34
    },
    "colab_type": "code",
    "id": "QscBsm8zOtN6",
    "outputId": "e427dfd6-64bb-43c9-8ab8-b2e59c34770b"
   },
   "outputs": [
    {
     "name": "stdout",
     "output_type": "stream",
     "text": [
      "[7.60674119] [10.66022447]\n"
     ]
    }
   ],
   "source": [
    "mean = []\n",
    "std = []\n",
    "\n",
    "t = df_dict\n",
    "    \n",
    "# make graphs\n",
    "ggt =  [mol2vec(Chem.MolFromSmiles(x)) for x in t.smiles]\n",
    "for graph, energy in zip(ggt, t.tbr):\n",
    "    graph.y = torch.tensor([energy], dtype=torch.float64)\n",
    "t_loader = DataLoader(ggt, batch_size=bs_model, shuffle=True, drop_last=True)\n",
    "    \n",
    "    \n",
    "# predict values\n",
    "t_real, t_pred = compute_energies(t_loader)\n",
    "    \n",
    "# compute mean and std\n",
    "mae = abs(np.array(t_pred) - np.array(t_real)).mean()\n",
    "mae_error = abs(np.array(t_pred) - np.array(t_real)).std()\n",
    "    \n",
    "mean.append(mae)\n",
    "std.append(mae_error)\n",
    "    \n",
    "\n",
    "mean = np.array(mean)\n",
    "std = np.array(std)\n",
    "print(mean, std)"
   ]
  },
  {
   "cell_type": "code",
   "execution_count": null,
   "metadata": {
    "colab": {
     "base_uri": "https://localhost:8080/",
     "height": 235
    },
    "colab_type": "code",
    "id": "vb02MVeEd9MG",
    "outputId": "b9bd3913-ee77-4b24-a981-7c9af75af525"
   },
   "outputs": [
    {
     "name": "stdout",
     "output_type": "stream",
     "text": [
      "             comp_name  ...         tbr\n",
      "11559  A-2_A-9_A-0_A-0  ...  303.282839\n",
      "\n",
      "[1 rows x 4 columns]\n"
     ]
    },
    {
     "data": {
      "image/png": "[encoded data removed]",
      "text/plain": [
       "<rdkit.Chem.rdchem.Mol at 0x7fae465dee90>"
      ]
     },
     "execution_count": 31,
     "metadata": {
      "tags": []
     },
     "output_type": "execute_result"
    }
   ],
   "source": [
    "maximum = t['tbr'] == max(t.tbr)\n",
    "smile = t[maximum].smiles\n",
    "print(t[maximum])\n",
    "\n",
    "Chem.MolFromSmiles(str(smile.to_list()[0]))\n"
   ]
  },
  {
   "cell_type": "code",
   "execution_count": null,
   "metadata": {
    "colab": {},
    "colab_type": "code",
    "id": "LehMF2OhtD7R"
   },
   "outputs": [],
   "source": []
  }
 ],
 "metadata": {
  "accelerator": "GPU",
  "colab": {
   "collapsed_sections": [],
   "machine_shape": "hm",
   "name": "Kopi af gcn_test_TBR.ipynb",
   "provenance": [],
   "toc_visible": true
  },
  "kernelspec": {
   "display_name": "Python 3 (ipykernel)",
   "language": "python",
   "name": "python3"
  },
  "language_info": {
   "codemirror_mode": {
    "name": "ipython",
    "version": 3
   },
   "file_extension": ".py",
   "mimetype": "text/x-python",
   "name": "python",
   "nbconvert_exporter": "python",
   "pygments_lexer": "ipython3",
   "version": "3.9.12"
  }
 },
 "nbformat": 4,
 "nbformat_minor": 4
}
