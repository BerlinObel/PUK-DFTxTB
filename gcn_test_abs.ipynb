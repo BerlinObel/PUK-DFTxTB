{
 "cells": [
  {
   "cell_type": "markdown",
   "metadata": {
    "colab_type": "text",
    "id": "Yy0O55MRgJZ8"
   },
   "source": [
    "# Download Dependencies for PyTorch Geometry"
   ]
  },
  {
   "cell_type": "code",
   "execution_count": 1,
   "metadata": {
    "colab": {
     "base_uri": "https://localhost:8080/",
     "height": 68
    },
    "colab_type": "code",
    "id": "rqs4kovxvqFc",
    "outputId": "8b18f7ab-0b29-47db-968d-fb9fa7678297"
   },
   "outputs": [
    {
     "name": "stdout",
     "output_type": "stream",
     "text": [
      "1.4.0\n",
      "True\n",
      "Python 3.7.6\n"
     ]
    }
   ],
   "source": [
    "! python -c \"import torch; print(torch.__version__)\"\n",
    "! python -c \"import torch; print(torch.cuda.is_available())\"\n",
    "! python --version"
   ]
  },
  {
   "cell_type": "code",
   "execution_count": 2,
   "metadata": {
    "colab": {},
    "colab_type": "code",
    "id": "1A1o3ArT3je3"
   },
   "outputs": [],
   "source": [
    "#! PATH=/usr/local/cuda/bin:$PATH\n",
    "#! CPATH=/usr/local/cuda/include:$CPATH    \n",
    "#! LD_LIBRARY_PATH=/usr/local/cuda/lib64:$LD_LIBRARY_PATH\n",
    "#! DYLD_LIBRARY_PATH=/usr/local/cuda/lib:$DYLD_LIBRARY_PATH"
   ]
  },
  {
   "cell_type": "code",
   "execution_count": 3,
   "metadata": {
    "colab": {
     "base_uri": "https://localhost:8080/",
     "height": 102
    },
    "colab_type": "code",
    "id": "MQJRnzs3wUy8",
    "outputId": "027007bd-bd4e-4b86-b8f7-c85c3185d979"
   },
   "outputs": [],
   "source": [
    "#! nvcc --version\n",
    "#! python -c \"import torch; print(torch.version.cuda)\""
   ]
  },
  {
   "cell_type": "code",
   "execution_count": 4,
   "metadata": {
    "colab": {
     "base_uri": "https://localhost:8080/",
     "height": 1000
    },
    "colab_type": "code",
    "id": "QyK_P-QZfvrT",
    "outputId": "fe0086f1-3a20-477d-f111-35e88ee92924"
   },
   "outputs": [
    {
     "data": {
      "text/plain": [
       "'\\n# Install PyTorch Geometry \\n! pip install --verbose --no-cache-dir torch-scatter\\n! pip install --verbose --no-cache-dir torch-sparse\\n! pip install --verbose --no-cache-dir torch-cluster\\n! pip install --verbose --no-cache-dir torch-spline-conv (optional)\\n! pip install torch-geometric\\n'"
      ]
     },
     "execution_count": 4,
     "metadata": {},
     "output_type": "execute_result"
    }
   ],
   "source": [
    "'''\n",
    "# Install PyTorch Geometry \n",
    "! pip install --verbose --no-cache-dir torch-scatter\n",
    "! pip install --verbose --no-cache-dir torch-sparse\n",
    "! pip install --verbose --no-cache-dir torch-cluster\n",
    "! pip install --verbose --no-cache-dir torch-spline-conv (optional)\n",
    "! pip install torch-geometric\n",
    "'''\n",
    "# Install PyTorch Geometry \n",
    "#! pip install --no-cache-dir torch-scatter\n",
    "#! pip install --no-cache-dir torch-sparse\n",
    "#! pip install --no-cache-dir torch-cluster\n",
    "#! pip install --no-cache-dir torch-spline-conv (optional)\n",
    "#! pip install torch-geometric"
   ]
  },
  {
   "cell_type": "code",
   "execution_count": 5,
   "metadata": {
    "colab": {
     "base_uri": "https://localhost:8080/",
     "height": 1000
    },
    "colab_type": "code",
    "id": "mmiMJIP-Mz9k",
    "outputId": "5f8f6a12-c1b0-4e26-a887-472c2ee1745d"
   },
   "outputs": [],
   "source": [
    "## Install RDKit\n",
    "## takes 2-3 minutes\n",
    "#!wget -c https://repo.continuum.io/miniconda/Miniconda3-latest-Linux-x86_64.sh\n",
    "#!chmod +x Miniconda3-latest-Linux-x86_64.sh\n",
    "#!time bash ./Miniconda3-latest-Linux-x86_64.sh -b -f -p /usr/local\n",
    "#!time conda install -q -y -c conda-forge rdkit"
   ]
  },
  {
   "cell_type": "markdown",
   "metadata": {
    "colab_type": "text",
    "id": "ZXqKBWIOgvY5"
   },
   "source": [
    "# Regular Imports"
   ]
  },
  {
   "cell_type": "code",
   "execution_count": 6,
   "metadata": {
    "colab": {
     "base_uri": "https://localhost:8080/",
     "height": 394
    },
    "colab_type": "code",
    "id": "0-oG_ZwSYv2p",
    "outputId": "ce21e65c-11c5-42d5-ad56-532d7b775cb4"
   },
   "outputs": [
    {
     "name": "stderr",
     "output_type": "stream",
     "text": [
      "RDKit WARNING: [16:41:22] Enabling RDKit 2019.09.3 jupyter extensions\n"
     ]
    }
   ],
   "source": [
    "from __future__ import division\n",
    "from __future__ import unicode_literals\n",
    "\n",
    "import sys\n",
    "import random \n",
    "import re\n",
    "\n",
    "sys.path.append('/usr/local/lib/python3.7/site-packages/')\n",
    "from rdkit import Chem\n",
    "from rdkit.Chem import Draw\n",
    "from rdkit.Chem.Draw import IPythonConsole\n",
    "\n",
    "import numpy as np\n",
    "import pandas as pd\n",
    "import matplotlib.pyplot as plt\n",
    "import multiprocessing\n",
    "import logging\n",
    "import torch\n",
    "#from torch_geometric.data import Data\n",
    "from torch_geometric.data import DataLoader\n",
    "\n",
    "\n",
    "from sklearn.model_selection import train_test_split\n",
    "\n",
    "\n",
    "from IPython.display import SVG\n",
    "from itertools import product\n",
    "import copy"
   ]
  },
  {
   "cell_type": "markdown",
   "metadata": {
    "colab_type": "text",
    "id": "AA89b1hI_J6r"
   },
   "source": [
    "# Create Graphs"
   ]
  },
  {
   "cell_type": "code",
   "execution_count": 7,
   "metadata": {
    "colab": {},
    "colab_type": "code",
    "id": "terIh9SGYg6T"
   },
   "outputs": [],
   "source": [
    "import numpy as np\n",
    "import multiprocessing\n",
    "import logging\n",
    "import torch\n",
    "from torch_geometric.data import Data\n",
    "\n",
    "def one_of_k_encoding(x, allowable_set):\n",
    "    if x not in allowable_set:\n",
    "        raise Exception(\"input {0} not in allowable set{1}:\".format(\n",
    "            x, allowable_set))\n",
    "    return list(map(lambda s: x == s, allowable_set))\n",
    " \n",
    "\n",
    "def one_of_k_encoding_unk(x, allowable_set):\n",
    "    \"\"\"Maps inputs not in the allowable set to the last element.\"\"\"\n",
    "    if x not in allowable_set:\n",
    "        x = allowable_set[-1]\n",
    "    return list(map(lambda s: x == s, allowable_set))\n",
    " \n",
    "\n",
    "def get_intervals(l):\n",
    "    \"\"\"For list of lists, gets the cumulative products of the lengths\"\"\"\n",
    "    intervals = len(l) * [0]\n",
    "    # Initalize with 1\n",
    "    intervals[0] = 1\n",
    "    for k in range(1, len(l)):\n",
    "        intervals[k] = (len(l[k]) + 1) * intervals[k - 1]\n",
    " \n",
    "    return intervals\n",
    " \n",
    "\n",
    "def safe_index(l, e):\n",
    "    \"\"\"Gets the index of e in l, providing an index of len(l) if not found\"\"\"\n",
    "    try:\n",
    "        return l.index(e)\n",
    "    except:\n",
    "        return len(l)\n",
    " \n",
    " \n",
    "possible_atom_list = ['C', 'N', 'O', 'S', 'F', 'H']\n",
    "possible_numH_list = [0, 1, 2, 3, 4]\n",
    "possible_valence_list = [0, 1, 2, 3, 4, 5, 6]\n",
    "possible_formal_charge_list = [-3, -2, -1, 0, 1, 2, 3]\n",
    "possible_hybridization_list = [\n",
    "    Chem.rdchem.HybridizationType.SP, Chem.rdchem.HybridizationType.SP2,\n",
    "    Chem.rdchem.HybridizationType.SP3, Chem.rdchem.HybridizationType.SP3D,\n",
    "    Chem.rdchem.HybridizationType.SP3D2\n",
    "]\n",
    "possible_number_radical_e_list = [0, 1, 2]\n",
    "possible_chirality_list = ['R', 'S']\n",
    " \n",
    "reference_lists = [\n",
    "    possible_atom_list, possible_numH_list, possible_valence_list,\n",
    "    possible_formal_charge_list, possible_number_radical_e_list,\n",
    "    possible_hybridization_list, possible_chirality_list\n",
    "]\n",
    " \n",
    "intervals = get_intervals(reference_lists)\n",
    " \n",
    "\n",
    "def get_feature_list(atom):\n",
    "    features = 6 * [0]\n",
    "    features[0] = safe_index(possible_atom_list, atom.GetSymbol())\n",
    "    features[1] = safe_index(possible_numH_list, atom.GetTotalNumHs())\n",
    "    features[2] = safe_index(possible_valence_list, atom.GetImplicitValence())\n",
    "    features[3] = safe_index(possible_formal_charge_list, atom.GetFormalCharge())\n",
    "    features[4] = safe_index(possible_number_radical_e_list,\n",
    "                           atom.GetNumRadicalElectrons())\n",
    "    features[5] = safe_index(possible_hybridization_list, atom.GetHybridization())\n",
    "    return features\n",
    " \n",
    "    \n",
    "def features_to_id(features, intervals):\n",
    "    \"\"\"Convert list of features into index using spacings provided in intervals\"\"\"\n",
    "    id = 0\n",
    "    for k in range(len(intervals)):\n",
    "        id += features[k] * intervals[k]\n",
    " \n",
    "    # Allow 0 index to correspond to null molecule 1\n",
    "    id = id + 1\n",
    "    return id\n",
    " \n",
    "\n",
    "def id_to_features(id, intervals):\n",
    "    features = 6 * [0]\n",
    " \n",
    "    # Correct for null\n",
    "    id -= 1\n",
    " \n",
    "    for k in range(0, 6 - 1):\n",
    "        # print(6-k-1, id)\n",
    "        features[6 - k - 1] = id // intervals[6 - k - 1]\n",
    "        id -= features[6 - k - 1] * intervals[6 - k - 1]\n",
    "    # Correct for last one\n",
    "    features[0] = id\n",
    "    return features\n",
    " \n",
    "\n",
    "def atom_to_id(atom):\n",
    "    \"\"\"Return a unique id corresponding to the atom type\"\"\"\n",
    "    features = get_feature_list(atom)\n",
    "    return features_to_id(features, intervals)\n",
    " \n",
    "\n",
    "def atom_features(atom, bool_id_feat=False, explicit_H=False,\n",
    "                  use_chirality=False):\n",
    "    if bool_id_feat:\n",
    "        return np.array([atom_to_id(atom)])\n",
    "   \n",
    "    else:\n",
    "        from rdkit import Chem\n",
    "        # Atom type - one hot encoding\n",
    "        results = one_of_k_encoding(atom.GetSymbol(), ['C', 'N', 'O', 'S', 'F', 'H']) # use unk if it fails\n",
    "        \n",
    "        # Directly bonded neighbors\n",
    "        results += one_of_k_encoding(atom.GetDegree(), [1, 2, 3, 4]) # use unk if it fails \n",
    "        \n",
    "        # Return number of implicit Hs on atom\n",
    "        results += one_of_k_encoding(atom.GetImplicitValence(), [0, 1, 2, 3]) # use unk if it fails\n",
    "        \n",
    "        # Atom's formal charge\n",
    "        results += [atom.GetFormalCharge()]\n",
    "        \n",
    "        # Number of radical electrons\n",
    "        #results += [atom.GetNumRadicalElectrons()]\n",
    "        \n",
    "        # Atom Hybridization\n",
    "        results += one_of_k_encoding(atom.GetHybridization(), [\n",
    "                        Chem.rdchem.HybridizationType.SP,\n",
    "                        Chem.rdchem.HybridizationType.SP2,\n",
    "                        Chem.rdchem.HybridizationType.SP3])\n",
    "        \n",
    "        # Aromatic or not?\n",
    "        results +=[atom.GetIsAromatic()]\n",
    "        \n",
    "        \n",
    "    # In case of explicit hydrogen(QM8, QM9), avoid calling `GetTotalNumHs`\n",
    "    if not explicit_H:\n",
    "        results = results + one_of_k_encoding_unk(atom.GetTotalNumHs(),\n",
    "                                                [0, 1, 2, 3, 4])\n",
    "    if use_chirality:\n",
    "        try:\n",
    "            results = results + one_of_k_encoding_unk(\n",
    "                atom.GetProp('_CIPCode'),\n",
    "                ['R', 'S']) + [atom.HasProp('_ChiralityPossible')]\n",
    "        except:\n",
    "            results = results + [False, False\n",
    "                            ] + [atom.HasProp('_ChiralityPossible')]\n",
    " \n",
    "    return np.array(results)\n",
    " \n",
    "    \n",
    "def bond_features(bond, use_chirality=False):\n",
    "    from rdkit import Chem\n",
    "    bt  = bond.GetBondType() # bond type\n",
    "    \n",
    "    # Bond order\n",
    "    bond_feats = [bt == Chem.rdchem.BondType.SINGLE, \n",
    "                  bt == Chem.rdchem.BondType.DOUBLE,\n",
    "                  bt == Chem.rdchem.BondType.TRIPLE,\n",
    "                  bt == Chem.rdchem.BondType.AROMATIC]\n",
    "    \n",
    "    # Conjugated bond\n",
    "    bond_feats += [bond.GetIsConjugated()]\n",
    "    \n",
    "    # Is the bond in a ring?\n",
    "    bond_feats += [bond.IsInRing()]\n",
    "    \n",
    "    # Check chirality\n",
    "    if use_chirality:\n",
    "        bond_feats = bond_feats + one_of_k_encoding_unk(\n",
    "            str(bond.GetStereo()),\n",
    "            [\"STEREONONE\", \"STEREOANY\", \"STEREOZ\", \"STEREOE\"])\n",
    "    \n",
    "    return np.array(bond_feats)\n",
    " \n",
    "\n",
    "#################\n",
    "# pen added\n",
    "#################\n",
    "\n",
    "\n",
    "def get_bond_pair(mol):\n",
    "    bonds = mol.GetBonds()\n",
    "    res = [[],[]]\n",
    "    for bond in bonds:\n",
    "        res[0] += [bond.GetBeginAtomIdx(), bond.GetEndAtomIdx()]\n",
    "        res[1] += [bond.GetEndAtomIdx(), bond.GetBeginAtomIdx()]\n",
    "    return res\n",
    " \n",
    "def mol2vec(mol):\n",
    "    atoms = mol.GetAtoms()\n",
    "    bonds = mol.GetBonds()\n",
    "    node_f= [atom_features(atom,) for atom in atoms]\n",
    "    \n",
    "    edge_index = get_bond_pair(mol)\n",
    "    #print(edge_index)\n",
    "    edge_attr = [bond_features(bond) for bond in bonds]*2\n",
    "    \n",
    "    data = Data(x=torch.tensor(node_f, dtype=torch.float),\n",
    "                edge_index=torch.tensor(edge_index, dtype=torch.long),\n",
    "                edge_attr=torch.tensor(edge_attr,dtype=torch.float)\n",
    "                )\n",
    "    return data"
   ]
  },
  {
   "cell_type": "markdown",
   "metadata": {
    "colab_type": "text",
    "id": "OI2_Eb1C5Z-i"
   },
   "source": [
    "## Test"
   ]
  },
  {
   "cell_type": "code",
   "execution_count": 8,
   "metadata": {
    "colab": {},
    "colab_type": "code",
    "id": "xJcsdvx8gyXE"
   },
   "outputs": [
    {
     "data": {
      "text/plain": [
       "Data(edge_attr=[18, 6], edge_index=[2, 18], x=[9, 24])"
      ]
     },
     "execution_count": 8,
     "metadata": {},
     "output_type": "execute_result"
    }
   ],
   "source": [
    "smiles = 'c1ccc(cc1)[N+](=O)[O-]'\n",
    "mol = Chem.MolFromSmiles(smiles)\n",
    "\n",
    "mol2vec(mol)\n"
   ]
  },
  {
   "cell_type": "code",
   "execution_count": 9,
   "metadata": {
    "colab": {},
    "colab_type": "code",
    "id": "LH2OxyjP-uie"
   },
   "outputs": [
    {
     "data": {
      "image/png": "[encoded data removed]",
      "text/plain": [
       "<rdkit.Chem.rdchem.Mol at 0x1a563d91940>"
      ]
     },
     "execution_count": 9,
     "metadata": {},
     "output_type": "execute_result"
    }
   ],
   "source": [
    "mol"
   ]
  },
  {
   "cell_type": "markdown",
   "metadata": {
    "colab_type": "text",
    "id": "hdOXf7Am5izm"
   },
   "source": [
    "# My net"
   ]
  },
  {
   "cell_type": "markdown",
   "metadata": {
    "colab_type": "text",
    "id": "rfaDyQOY8LzD"
   },
   "source": [
    "## Split training/testing and Create Graphs"
   ]
  },
  {
   "cell_type": "code",
   "execution_count": 10,
   "metadata": {
    "colab": {},
    "colab_type": "code",
    "id": "A15yLczDZxav"
   },
   "outputs": [],
   "source": [
    "\n",
    "def make_graph(x):\n",
    "    \n",
    "    smi, energy = x\n",
    "    \n",
    "    mol = Chem.MolFromSmiles(smi)\n",
    "    graph = mol2vec(mol)\n",
    "    graph.y = energy\n",
    "    \n",
    "    return graph\n",
    "\n",
    "# change this to max_abs instead of storage _________________________________________________________\n",
    "def create_graphs(df, prop='absorp', procs=4):\n",
    "    \"\"\" Creates graph from dataframe, and sets target values \"\"\"\n",
    "    \n",
    "    graph_list = []\n",
    "    \n",
    "    for smi, energy in zip(df.smiles.tolist(), df[prop].tolist()):\n",
    "        mol = Chem.MolFromSmiles(smi)\n",
    "        graph = mol2vec(mol)\n",
    "        graph.y = energy\n",
    "        \n",
    "        graph_list.append(graph)\n",
    "    \n",
    "    return graph_list"
   ]
  },
  {
   "cell_type": "code",
   "execution_count": 11,
   "metadata": {
    "colab": {},
    "colab_type": "code",
    "id": "XpeSKmuTSLQ7"
   },
   "outputs": [],
   "source": [
    "import pandas as pd\n",
    "import pickle"
   ]
  },
  {
   "cell_type": "code",
   "execution_count": 12,
   "metadata": {
    "colab": {
     "base_uri": "https://localhost:8080/",
     "height": 122
    },
    "colab_type": "code",
    "id": "EyshH_0ijZQD",
    "outputId": "f36172c0-e453-40de-d445-3f5cebd14e7a"
   },
   "outputs": [],
   "source": [
    "#from google.colab import drive\n",
    "#drive.mount('/content/drive')"
   ]
  },
  {
   "cell_type": "code",
   "execution_count": 13,
   "metadata": {
    "colab": {},
    "colab_type": "code",
    "id": "XIHvSHswlidw"
   },
   "outputs": [],
   "source": [
    "sys.path.append('C:/Users/jacob/tQMC/QMC')"
   ]
  },
  {
   "cell_type": "code",
   "execution_count": 14,
   "metadata": {
    "colab": {},
    "colab_type": "code",
    "id": "oxqmtH7Ui_PO"
   },
   "outputs": [],
   "source": [
    "from qmconf import QMConf\n",
    "from qmmol import QMMol"
   ]
  },
  {
   "cell_type": "code",
   "execution_count": 15,
   "metadata": {
    "colab": {},
    "colab_type": "code",
    "id": "49sDVGbhs7yg"
   },
   "outputs": [],
   "source": [
    "# df = pd.read_pickle('/content/drive/My Drive/Colab Notebooks/result.pkl')\n",
    "\n",
    "# compound_list = list()\n",
    "# for x in df.itertuples():\n",
    "#   name = str(x.prod.label.split('_p')[0])\n",
    "#   #mol = Chem.RemoveHs(x.prod.get_rdkit_mol())\n",
    "#   mol = x.prod.get_rdkit_mol()\n",
    "#   smile = Chem.MolToSmiles(mol,isomericSmiles=False)\n",
    "#   compound_list.append({'comp_name': name, 'smiles': smile, 'storage': x.storage})\n",
    "  \n",
    "# data = pd.DataFrame(compound_list)\n",
    "# #data.head()"
   ]
  },
  {
   "cell_type": "code",
   "execution_count": 16,
   "metadata": {
    "colab": {},
    "colab_type": "code",
    "id": "4vUxFhH47uHA"
   },
   "outputs": [],
   "source": [
    "# # remove bad data\n",
    "# gcnn_data = data\n",
    "# gcnn_data = gcnn_data[gcnn_data['storage'] > 0.0]\n",
    "# gcnn_data = gcnn_data[gcnn_data['storage'] < 200.]\n",
    "\n",
    "# gcnn_data.to_pickle('/content/drive/My Drive/Colab Notebooks/new_result.pkl')\n",
    "# f\"total data set size: {gcnn_data.shape[0]}\""
   ]
  },
  {
   "cell_type": "code",
   "execution_count": 17,
   "metadata": {
    "colab": {},
    "colab_type": "code",
    "id": "J7ilsmi49l7y"
   },
   "outputs": [],
   "source": [
    "import pandas as pd\n",
    "import pickle\n",
    "import sys\n",
    "sys.path.append('/usr/local/lib/python3.7/site-packages/')\n",
    "from rdkit import Chem\n",
    "from rdkit.Chem import Draw\n",
    "from rdkit.Chem.Draw import IPythonConsole"
   ]
  },
  {
   "cell_type": "code",
   "execution_count": 18,
   "metadata": {
    "colab": {
     "base_uri": "https://localhost:8080/",
     "height": 34
    },
    "colab_type": "code",
    "id": "2a4guDYW8ER0",
    "outputId": "7828cdba-ad2c-444a-88a7-ad153616508f"
   },
   "outputs": [
    {
     "data": {
      "text/plain": [
       "(55441, 5)"
      ]
     },
     "execution_count": 18,
     "metadata": {},
     "output_type": "execute_result"
    }
   ],
   "source": [
    "gcnn_data = pd.read_pickle('result_abs2.pkl')\n",
    "gcnn_data.head()\n",
    "gcnn_data.shape"
   ]
  },
  {
   "cell_type": "code",
   "execution_count": 19,
   "metadata": {
    "colab": {},
    "colab_type": "code",
    "id": "viRAEOb81r4j"
   },
   "outputs": [],
   "source": [
    "gcnn_data.drop_duplicates(subset = \"smiles\", keep = 'first', inplace = True)"
   ]
  },
  {
   "cell_type": "code",
   "execution_count": 20,
   "metadata": {
    "colab": {
     "base_uri": "https://localhost:8080/",
     "height": 34
    },
    "colab_type": "code",
    "id": "Jabhcmi13D2p",
    "outputId": "7189562d-a3d3-4abb-a8d4-45bdbe4825f7"
   },
   "outputs": [
    {
     "data": {
      "text/plain": [
       "(33706, 5)"
      ]
     },
     "execution_count": 20,
     "metadata": {},
     "output_type": "execute_result"
    }
   ],
   "source": [
    "gcnn_data.shape"
   ]
  },
  {
   "cell_type": "code",
   "execution_count": 21,
   "metadata": {
    "colab": {
     "base_uri": "https://localhost:8080/",
     "height": 204
    },
    "colab_type": "code",
    "id": "EChJbM1C3owI",
    "outputId": "496f36f1-1968-42df-81e2-1683a13b2cb9"
   },
   "outputs": [
    {
     "data": {
      "text/html": [
       "<div>\n",
       "<style scoped>\n",
       "    .dataframe tbody tr th:only-of-type {\n",
       "        vertical-align: middle;\n",
       "    }\n",
       "\n",
       "    .dataframe tbody tr th {\n",
       "        vertical-align: top;\n",
       "    }\n",
       "\n",
       "    .dataframe thead th {\n",
       "        text-align: right;\n",
       "    }\n",
       "</style>\n",
       "<table border=\"1\" class=\"dataframe\">\n",
       "  <thead>\n",
       "    <tr style=\"text-align: right;\">\n",
       "      <th></th>\n",
       "      <th>comp_name</th>\n",
       "      <th>smiles</th>\n",
       "      <th>storage</th>\n",
       "      <th>tbr</th>\n",
       "      <th>absorp</th>\n",
       "    </tr>\n",
       "  </thead>\n",
       "  <tbody>\n",
       "    <tr>\n",
       "      <th>0</th>\n",
       "      <td>A-0_A-0_A-0_A-0</td>\n",
       "      <td>[H]C1([H])C2([H])C3([H])C2([H])C2([H])C1([H])C...</td>\n",
       "      <td>8.111205</td>\n",
       "      <td>320.298085</td>\n",
       "      <td>159.7</td>\n",
       "    </tr>\n",
       "    <tr>\n",
       "      <th>1</th>\n",
       "      <td>A-1_A-0_A-0_A-0</td>\n",
       "      <td>[H]C1([H])C2([H])C3([H])C2([H])C2(F)C1([H])C32[H]</td>\n",
       "      <td>22.362574</td>\n",
       "      <td>290.434249</td>\n",
       "      <td>177.7</td>\n",
       "    </tr>\n",
       "    <tr>\n",
       "      <th>2</th>\n",
       "      <td>A-2_A-0_A-0_A-0</td>\n",
       "      <td>[H]C1([H])C2([H])C3([H])C2([H])C2(C(F)(F)F)C1(...</td>\n",
       "      <td>7.536407</td>\n",
       "      <td>284.936736</td>\n",
       "      <td>167.8</td>\n",
       "    </tr>\n",
       "    <tr>\n",
       "      <th>3</th>\n",
       "      <td>A-3_A-0_A-0_A-0</td>\n",
       "      <td>[H]C1([H])C2([H])C3([H])C2([H])C2(C#N)C1([H])C...</td>\n",
       "      <td>9.834636</td>\n",
       "      <td>258.947101</td>\n",
       "      <td>220.8</td>\n",
       "    </tr>\n",
       "    <tr>\n",
       "      <th>4</th>\n",
       "      <td>A-4_A-0_A-0_A-0</td>\n",
       "      <td>[H]C1([H])C2([H])C3([H])C2([H])C2([N+](=O)[O-]...</td>\n",
       "      <td>5.430744</td>\n",
       "      <td>219.128675</td>\n",
       "      <td>295.2</td>\n",
       "    </tr>\n",
       "  </tbody>\n",
       "</table>\n",
       "</div>"
      ],
      "text/plain": [
       "         comp_name                                             smiles  \\\n",
       "0  A-0_A-0_A-0_A-0  [H]C1([H])C2([H])C3([H])C2([H])C2([H])C1([H])C...   \n",
       "1  A-1_A-0_A-0_A-0  [H]C1([H])C2([H])C3([H])C2([H])C2(F)C1([H])C32[H]   \n",
       "2  A-2_A-0_A-0_A-0  [H]C1([H])C2([H])C3([H])C2([H])C2(C(F)(F)F)C1(...   \n",
       "3  A-3_A-0_A-0_A-0  [H]C1([H])C2([H])C3([H])C2([H])C2(C#N)C1([H])C...   \n",
       "4  A-4_A-0_A-0_A-0  [H]C1([H])C2([H])C3([H])C2([H])C2([N+](=O)[O-]...   \n",
       "\n",
       "     storage         tbr  absorp  \n",
       "0   8.111205  320.298085   159.7  \n",
       "1  22.362574  290.434249   177.7  \n",
       "2   7.536407  284.936736   167.8  \n",
       "3   9.834636  258.947101   220.8  \n",
       "4   5.430744  219.128675   295.2  "
      ]
     },
     "execution_count": 21,
     "metadata": {},
     "output_type": "execute_result"
    }
   ],
   "source": [
    "gcnn_data.head()"
   ]
  },
  {
   "cell_type": "code",
   "execution_count": 22,
   "metadata": {
    "colab": {},
    "colab_type": "code",
    "id": "FZh7-ZYQi8gf"
   },
   "outputs": [],
   "source": [
    "gcnn_data.to_csv('test_data.csv')"
   ]
  },
  {
   "cell_type": "code",
   "execution_count": 23,
   "metadata": {
    "colab": {
     "base_uri": "https://localhost:8080/",
     "height": 34
    },
    "colab_type": "code",
    "id": "Sg5CdOFggTLl",
    "outputId": "03f18a63-0014-4188-8a2f-057f2b930c15"
   },
   "outputs": [
    {
     "data": {
      "text/plain": [
       "'train size: 26965, test size: 6741'"
      ]
     },
     "execution_count": 23,
     "metadata": {},
     "output_type": "execute_result"
    }
   ],
   "source": [
    "# split data into training and testing\n",
    "\n",
    "df_ns = gcnn_data.copy()\n",
    "test_size_20 = int(df_ns.shape[0]*0.2) #dataset split is 80/20\n",
    "\n",
    "\n",
    "gcnn_test = df_ns.sample(test_size_20, random_state=42)\n",
    "gcnn_train = df_ns.drop(gcnn_test.index)\n",
    "  \n",
    "f\"train size: {gcnn_train.shape[0]}, test size: {gcnn_test.shape[0]}\"    "
   ]
  },
  {
   "cell_type": "code",
   "execution_count": 24,
   "metadata": {
    "colab": {},
    "colab_type": "code",
    "id": "_XtiETfPd8oh"
   },
   "outputs": [],
   "source": [
    "gcnn_data[\"max_abs\"] = gcnn_data[\"absorp\"]"
   ]
  },
  {
   "cell_type": "code",
   "execution_count": 25,
   "metadata": {
    "colab": {
     "base_uri": "https://localhost:8080/",
     "height": 697
    },
    "colab_type": "code",
    "id": "gjqVZWpCju88",
    "outputId": "c8ecce21-eebc-4d6b-8159-65ca25cdb4a8"
   },
   "outputs": [
    {
     "name": "stdout",
     "output_type": "stream",
     "text": [
      "1 of 8 DONE in 4.344562530517578\n",
      "2 of 8 DONE in 4.746779918670654\n",
      "3 of 8 DONE in 4.669606685638428\n",
      "4 of 8 DONE in 5.407540321350098\n",
      "5 of 8 DONE in 4.9620280265808105\n",
      "6 of 8 DONE in 5.645983457565308\n",
      "7 of 8 DONE in 5.698972940444946\n",
      "8 of 8 DONE in 5.789575099945068\n"
     ]
    }
   ],
   "source": [
    "import time\n",
    "\n",
    "t = time.time()\n",
    "#test_graphs = create_graphs(gcnn_test)\n",
    "#print(f\"test graphs DONE in {time.time()-t}\")\n",
    "\n",
    "#This should probably be done more times\n",
    "train_graphs = []\n",
    "for i, df in enumerate(np.array_split(gcnn_train, 8)):\n",
    "    t = time.time()\n",
    "    tmp_list = create_graphs(df)\n",
    "    train_graphs += tmp_list\n",
    "    print(f\"{i+1} of 8 DONE in {time.time()-t}\")\n",
    "    \n",
    "# select 10% samples for validating the method during traning\n",
    "num_val_samples = round(len(train_graphs) * 0.10)\n",
    "val_samples = [train_graphs.pop(random.randrange(len(train_graphs))) for _ in range(num_val_samples)]"
   ]
  },
  {
   "cell_type": "code",
   "execution_count": 26,
   "metadata": {
    "colab": {},
    "colab_type": "code",
    "id": "by0l7FMnHkxp"
   },
   "outputs": [],
   "source": [
    "bs_model = 512\n",
    "\n",
    "train_loader = DataLoader(train_graphs, batch_size=bs_model, shuffle=True, drop_last=True)\n",
    "test_loader = DataLoader(gcnn_test, batch_size=bs_model, shuffle=True, drop_last=True)\n",
    "val_loader =  DataLoader(val_samples, batch_size=bs_model, shuffle=True, drop_last=True)"
   ]
  },
  {
   "cell_type": "code",
   "execution_count": 27,
   "metadata": {
    "colab": {
     "base_uri": "https://localhost:8080/",
     "height": 34
    },
    "colab_type": "code",
    "id": "Bm2LIvTrFrbo",
    "outputId": "619350f1-caf1-460b-ae3d-e6175c5e0e50"
   },
   "outputs": [
    {
     "data": {
      "text/plain": [
       "2696"
      ]
     },
     "execution_count": 27,
     "metadata": {},
     "output_type": "execute_result"
    }
   ],
   "source": [
    "len(val_samples)"
   ]
  },
  {
   "cell_type": "markdown",
   "metadata": {
    "colab_type": "text",
    "id": "PA7Cpo4N8OmI"
   },
   "source": [
    "## Define Net and Train"
   ]
  },
  {
   "cell_type": "code",
   "execution_count": 28,
   "metadata": {
    "colab": {},
    "colab_type": "code",
    "id": "kmaUHiHC6-IH"
   },
   "outputs": [],
   "source": [
    "import torch\n",
    "import torch.nn as nn\n",
    "from torch_geometric.nn import GCNConv\n",
    "from torch.nn import BatchNorm1d\n",
    "from torch_geometric.nn import global_add_pool, global_max_pool, global_mean_pool\n",
    "from torch.nn import Linear, CELU\n",
    "import torch.nn.functional as F"
   ]
  },
  {
   "cell_type": "code",
   "execution_count": 29,
   "metadata": {
    "colab": {
     "base_uri": "https://localhost:8080/",
     "height": 34
    },
    "colab_type": "code",
    "id": "lLK_AdoS5njr",
    "outputId": "6e036d8b-ad08-439a-bd82-756397994edd"
   },
   "outputs": [
    {
     "data": {
      "text/plain": [
       "16193"
      ]
     },
     "execution_count": 29,
     "metadata": {},
     "output_type": "execute_result"
    }
   ],
   "source": [
    "n_features = 24 \n",
    "class Net(torch.nn.Module):\n",
    "    def __init__(self):\n",
    "        super(Net, self).__init__()\n",
    "        self.conv1 = GCNConv(n_features, 128)\n",
    "        self.bn1 = BatchNorm1d(128)\n",
    "        \n",
    "        \n",
    "        self.conv2 = GCNConv(128,64)\n",
    "        self.bn2 = BatchNorm1d(64)\n",
    "        \n",
    "        self.fc1 = Linear(64,64)\n",
    "        self.bn3 = BatchNorm1d(64)\n",
    "           \n",
    "        self.fc2 = Linear(64,1)\n",
    "        #self.drop_layer = nn.Dropout()\n",
    "        #self.fc3 = Linear(32,1)\n",
    "        \n",
    "    \n",
    "    def forward(self, data):\n",
    "        x, edge_index = data.x, data.edge_index\n",
    "        \n",
    "        x = F.relu(self.conv1(x, edge_index))\n",
    "        x = self.bn1(x)\n",
    "        \n",
    "        x = F.relu(self.conv2(x, edge_index))\n",
    "        x = self.bn2(x)\n",
    "        \n",
    "        x = global_max_pool(x, data.batch)\n",
    "        \n",
    "        x = F.relu(self.fc1(x))\n",
    "        x = self.bn3(x)\n",
    "        x = self.fc2(x)\n",
    "        #x = F.relu(self.fc2(x))\n",
    "        \n",
    "        #x = F.dropout(x, training=self.training)\n",
    "        \n",
    "        \n",
    "        #x = self.fc3(x)\n",
    "        \n",
    "        return x\n",
    "    \n",
    "def count_parameters(model):\n",
    "    return sum(p.numel() for p in model.parameters() if p.requires_grad)\n",
    "\n",
    "device = torch.device('cuda' if torch.cuda.is_available() else 'cpu')\n",
    "model = Net().to(device)\n",
    "count_parameters(model)"
   ]
  },
  {
   "cell_type": "code",
   "execution_count": 30,
   "metadata": {
    "colab": {},
    "colab_type": "code",
    "id": "aUrmjTqO5n2r"
   },
   "outputs": [],
   "source": [
    "def train(epoch, loader):\n",
    "    model.train()\n",
    "    \n",
    "    loss_all = 0\n",
    "    count = 0\n",
    "    for data in loader:\n",
    "        optimizer.zero_grad()\n",
    "        \n",
    "        # transform data\n",
    "        data = data.to(device)\n",
    "        real_y = data.y.to(device).type(\"torch.cuda.FloatTensor\")\n",
    "        \n",
    "        # predict \n",
    "        predicted = model(data)\n",
    "        \n",
    "        # compute loss \n",
    "        loss = torch.nn.MSELoss()(predicted.reshape([bs_model]), real_y)\n",
    "        loss_all += loss\n",
    "        count += 1\n",
    "        \n",
    "        # update step\n",
    "        loss.backward()\n",
    "        optimizer.step()\n",
    "    \n",
    "    loss_all = loss_all / count\n",
    "    return  loss.item()\n",
    "    \n",
    "\n",
    "def test(loader):\n",
    "    model.eval()\n",
    "    \n",
    "    pred_all = []\n",
    "    real_all = []\n",
    "    for data in loader:\n",
    "        # transform data\n",
    "        data = data.to(device)\n",
    "        real_y = data.y.to(device).type(\"torch.cuda.FloatTensor\")\n",
    "    \n",
    "        predicted = model(data).reshape([bs_model]).tolist()\n",
    "    \n",
    "        real_all += real_y.tolist()\n",
    "        pred_all += predicted\n",
    "     \n",
    "    L1Loss = abs(np.array(pred_all) - np.array(real_all)).mean()\n",
    "    \n",
    "    return L1Loss\n",
    "\n",
    "\n",
    "#def L1(pred, real):\n",
    "#    return abs(np.array(pred)-np.array(real)).mean()\n",
    "\n",
    "#def mse(pred, real):\n",
    "#    s = (np.array(pred) - np.array(real))**2\n",
    "#    return np.sqrt(s)"
   ]
  },
  {
   "cell_type": "code",
   "execution_count": 40,
   "metadata": {
    "colab": {
     "base_uri": "https://localhost:8080/",
     "height": 136
    },
    "colab_type": "code",
    "id": "TfxhPvh55n6R",
    "outputId": "3b6b77f9-a776-40f1-8c05-514d27a04524"
   },
   "outputs": [
    {
     "name": "stdout",
     "output_type": "stream",
     "text": [
      "model saved. EPOCH: 1, VAL Loss: 291.81\n",
      "model saved. EPOCH: 2, VAL Loss: 244.86\n",
      "model saved. EPOCH: 3, VAL Loss: 99.83\n",
      "model saved. EPOCH: 4, VAL Loss: 28.13\n",
      "model saved. EPOCH: 5, VAL Loss: 12.03\n",
      "model saved. EPOCH: 14, VAL Loss: 11.18\n",
      "model saved. EPOCH: 17, VAL Loss: 10.85\n",
      "model saved. EPOCH: 22, VAL Loss: 10.56\n",
      "model saved. EPOCH: 35, VAL Loss: 10.36\n",
      "model saved. EPOCH: 38, VAL Loss: 9.88\n",
      "model saved. EPOCH: 39, VAL Loss: 9.68\n",
      "model saved. EPOCH: 52, VAL Loss: 9.50\n",
      "model saved. EPOCH: 54, VAL Loss: 9.47\n",
      "model saved. EPOCH: 58, VAL Loss: 9.30\n",
      "model saved. EPOCH: 71, VAL Loss: 8.87\n",
      "model saved. EPOCH: 78, VAL Loss: 8.63\n"
     ]
    },
    {
     "data": {
      "text/plain": [
       "<All keys matched successfully>"
      ]
     },
     "execution_count": 40,
     "metadata": {},
     "output_type": "execute_result"
    }
   ],
   "source": [
    "device = torch.device('cuda' if torch.cuda.is_available() else 'cpu')\n",
    "model = Net().to(device)\n",
    "optimizer = torch.optim.Adam(model.parameters(), lr=0.01)#, weight_decay=5e-4)\n",
    "\n",
    "old_val_loss = 1000.\n",
    "#Epoch is a variable, that's easy to change, that should be done\n",
    "#Maybe it should just count epochs, but continues until VAL Loss is below a threshold\n",
    "for epoch in range(1,100):\n",
    "    train_loss = train(epoch, train_loader)\n",
    "    val_loss = test(val_loader)\n",
    "    acc_train_loss = test(train_loader)\n",
    "    \n",
    "    #print(f'train loss: {\"{:.2f}\".format(train_loss)}, L1 train loss: {\"{:.2f}\".format(acc_train_loss)}, val loss {\"{:.2f}\".format(val_loss)}') \n",
    "\n",
    "    # check point model with lowest val loss:\n",
    "    if val_loss < old_val_loss:\n",
    "        best_model_param = model.state_dict()\n",
    "        old_val_loss = val_loss\n",
    "        \n",
    "        print(f'model saved. EPOCH: {epoch}, VAL Loss: {\"{:.2f}\".format(val_loss)}')\n",
    "   \n",
    "\n",
    "    # Implement some sort of convergence criteria. \n",
    "\n",
    "    \n",
    "model = Net().to(device)\n",
    "model.load_state_dict(best_model_param)    \n",
    "#print(f\"model trained in: {\":.2f\".format(time.time()-t)} s\")"
   ]
  },
  {
   "cell_type": "code",
   "execution_count": 41,
   "metadata": {
    "colab": {
     "base_uri": "https://localhost:8080/",
     "height": 1000
    },
    "colab_type": "code",
    "id": "nU-gAwh2NgYC",
    "outputId": "3e27a508-eb6c-4cd7-d615-82365add0fa1"
   },
   "outputs": [
    {
     "data": {
      "text/plain": [
       "OrderedDict([('conv1.weight',\n",
       "              tensor([[ 1.7378e-01, -2.7479e-01, -2.1554e-01,  ..., -2.3867e-01,\n",
       "                        5.6296e-01, -1.6986e-01],\n",
       "                      [-1.1479e+00, -5.8845e-02,  5.0435e-01,  ...,  9.8694e-02,\n",
       "                       -4.4010e-01,  1.2790e+00],\n",
       "                      [ 1.1002e-03,  5.6960e-01,  2.3878e-01,  ...,  1.1378e+00,\n",
       "                        2.0707e-01,  2.7133e-01],\n",
       "                      ...,\n",
       "                      [ 9.1795e-01, -1.4176e-01, -9.6965e-02,  ..., -3.2295e-01,\n",
       "                        4.9377e-02, -9.6181e-01],\n",
       "                      [ 3.5286e-01,  3.2366e-02,  3.2638e-03,  ..., -1.3631e-01,\n",
       "                       -1.2082e-01, -2.1562e+00],\n",
       "                      [-8.3600e-02,  4.6029e-02, -1.3199e-01,  ...,  3.9428e-02,\n",
       "                       -1.0563e-01, -1.1403e-01]], device='cuda:0')),\n",
       "             ('conv1.bias',\n",
       "              tensor([-0.2059, -0.0576,  0.4296,  0.0317, -0.0815, -0.0654,  0.0410, -0.2956,\n",
       "                       0.2033,  0.0000, -0.0845, -0.1814, -0.1021,  0.0000, -0.0650, -0.3091,\n",
       "                      -0.0267,  0.1546,  0.0000, -0.6937, -0.1071,  0.1895, -0.3637,  0.0067,\n",
       "                      -0.0881, -0.1131,  0.0379,  0.1561, -0.1469,  0.0000,  0.1118,  0.1085,\n",
       "                      -0.1206, -0.1543,  0.0863,  0.2999,  0.1409, -0.5157, -0.0541, -0.1389,\n",
       "                       0.0000, -0.1812, -0.4065, -0.1662,  0.0945, -0.4319, -0.1429,  0.0980,\n",
       "                      -0.2047, -0.2106, -0.0075, -0.5794,  0.0000, -0.0997, -0.2967,  0.3191,\n",
       "                       0.0077,  0.1100, -0.0758, -0.0892,  0.1636, -0.2155,  0.1240, -0.1044,\n",
       "                       0.0667, -0.0329,  0.1993,  0.0413,  0.0000,  0.0000,  0.0611, -0.4448,\n",
       "                      -0.3993, -0.5141,  0.0000,  0.0269, -0.4885, -0.2392, -0.3740, -0.2420,\n",
       "                       0.0838, -0.2057,  0.0907, -0.3826,  0.0089, -0.1398, -0.2936, -0.1107,\n",
       "                       0.0841, -0.3738, -0.0261,  0.1592, -0.3933,  0.1242, -0.2044, -0.2823,\n",
       "                       0.1255, -0.7406, -0.0593,  0.0843, -0.2351, -0.1735, -0.5090,  0.0348,\n",
       "                      -0.0280,  0.0000, -0.1165,  0.1527, -0.2484,  0.0526,  0.2111, -0.0585,\n",
       "                      -0.0289, -0.2916, -0.3990,  0.1153,  0.1088, -0.3257,  0.0484, -0.3255,\n",
       "                      -0.4896,  0.0000,  0.1899, -0.2962, -0.0888, -0.5541,  0.0866, -0.2065],\n",
       "                     device='cuda:0')),\n",
       "             ('bn1.weight',\n",
       "              tensor([1.6350, 0.7050, 0.1893, 0.5635, 0.9176, 0.9512, 1.0679, 1.2190, 0.2743,\n",
       "                      1.0000, 1.2490, 0.6860, 0.4522, 1.0000, 1.9456, 0.4195, 0.5116, 0.1048,\n",
       "                      1.0000, 1.4791, 0.9445, 0.5308, 1.3896, 0.7646, 1.3937, 1.0408, 0.9530,\n",
       "                      0.5270, 1.0554, 1.0000, 0.8702, 0.1898, 0.7297, 0.8963, 0.2999, 1.2145,\n",
       "                      0.2172, 1.3047, 0.8430, 1.0624, 1.0000, 0.8837, 1.8888, 0.9119, 0.5793,\n",
       "                      1.4387, 1.0734, 0.6542, 1.3938, 2.0728, 1.1262, 1.3230, 1.0000, 1.9759,\n",
       "                      0.9346, 0.2142, 0.3549, 0.1434, 1.1744, 1.0763, 0.3877, 0.7926, 0.0595,\n",
       "                      1.1876, 0.3672, 0.5113, 0.4073, 0.6158, 1.0000, 1.0000, 2.0008, 1.4404,\n",
       "                      1.9451, 1.4230, 1.0000, 0.5918, 1.2052, 0.6581, 2.0844, 0.6321, 0.8418,\n",
       "                      0.6164, 0.9710, 1.3553, 1.1148, 0.3045, 0.8990, 1.0052, 0.7649, 0.7751,\n",
       "                      0.9916, 1.1160, 1.2721, 1.7827, 1.2129, 0.9068, 0.0938, 1.3680, 0.9210,\n",
       "                      0.2977, 0.9310, 1.0248, 1.8504, 0.3806, 0.5899, 1.0000, 2.4917, 0.2343,\n",
       "                      0.4662, 0.5445, 0.0406, 0.7982, 1.4111, 1.1721, 1.4794, 1.1157, 0.0910,\n",
       "                      1.3210, 0.4561, 0.8137, 1.1137, 1.0000, 0.7490, 0.6655, 1.1845, 1.1942,\n",
       "                      0.6209, 1.0626], device='cuda:0')),\n",
       "             ('bn1.bias',\n",
       "              tensor([ 4.5273e-01,  1.7020e-01,  1.7343e-01, -1.7586e-02,  6.2533e-03,\n",
       "                      -5.6965e-03,  3.3021e-01,  5.7692e-01, -1.4723e-01, -3.4783e-02,\n",
       "                      -2.4778e-01,  2.6190e-01,  5.8590e-02,  9.5338e-03,  2.9860e-01,\n",
       "                      -5.7976e-02,  3.1807e-01,  6.5722e-02, -9.4157e-03,  4.0898e-01,\n",
       "                      -3.9103e-02,  1.4579e-01, -5.9932e-01, -2.8969e-01, -6.1359e-01,\n",
       "                       7.0774e-03,  2.6820e-01, -3.8966e-01,  3.2474e-01,  1.9862e-03,\n",
       "                       3.8966e-01,  5.6464e-02, -4.7484e-01, -1.1014e-01, -3.2062e-01,\n",
       "                       1.7513e-01,  3.3353e-02,  1.6812e-01, -2.1483e-01, -6.1400e-02,\n",
       "                       1.8843e-02, -8.0284e-03, -4.0540e-02,  1.5399e-02, -1.9048e-01,\n",
       "                      -1.8751e-01, -2.3162e-01,  3.2484e-01,  5.3707e-02,  4.8304e-01,\n",
       "                      -1.6831e-01,  6.1867e-02, -1.4073e-03,  5.0174e-01, -3.0272e-01,\n",
       "                      -1.2536e-01, -1.5846e-02,  2.6604e-02, -2.6159e-01, -1.1411e-01,\n",
       "                      -3.4119e-01,  3.0968e-01,  4.4965e-02, -1.3935e-01,  2.4964e-02,\n",
       "                      -1.8586e-01,  2.5617e-01,  1.2060e-01, -1.6582e-02, -2.0721e-02,\n",
       "                       2.3720e-01,  2.4634e-01,  6.9497e-01, -8.4480e-02,  1.0732e-02,\n",
       "                       3.4523e-01,  1.9456e-01, -8.4155e-03, -5.1180e-01,  2.1973e-01,\n",
       "                      -6.6704e-01, -1.9822e-01,  1.6088e-01,  2.7302e-02, -4.6440e-02,\n",
       "                      -8.4462e-02,  2.6228e-01,  2.4065e-05,  3.4802e-01, -1.4062e-01,\n",
       "                      -9.1910e-02, -2.9510e-01,  2.8439e-01, -5.3241e-01,  6.4102e-01,\n",
       "                       2.5239e-01,  6.9414e-02,  3.6023e-01, -1.0981e-02,  4.3302e-02,\n",
       "                      -2.4278e-02,  3.5719e-01,  5.0800e-01,  5.5509e-02,  1.0969e-01,\n",
       "                      -7.7456e-03, -2.5663e-01, -1.2743e-01, -1.4885e-01, -3.0476e-01,\n",
       "                       2.8138e-01,  9.7564e-02,  2.9819e-01, -4.3601e-01,  1.7876e-01,\n",
       "                      -4.2007e-02, -1.1636e-01,  1.7778e-01,  6.2856e-02,  1.5969e-01,\n",
       "                       4.5228e-01, -2.2320e-01, -1.7397e-01,  1.8907e-01,  1.1446e-01,\n",
       "                       2.8594e-01, -4.9900e-02, -7.3940e-02], device='cuda:0')),\n",
       "             ('bn1.running_mean',\n",
       "              tensor([1.7612e-01, 2.8258e-01, 2.4813e+00, 1.0370e+00, 5.6052e-45, 5.6052e-45,\n",
       "                      1.3400e-01, 1.8610e-02, 1.7267e+00, 0.0000e+00, 1.4562e-01, 3.0434e-01,\n",
       "                      2.8365e-01, 0.0000e+00, 5.3723e-02, 2.5227e+00, 3.4017e-01, 1.4184e+00,\n",
       "                      0.0000e+00, 8.8709e-02, 5.6052e-45, 1.7706e+00, 4.6753e-01, 3.9429e+00,\n",
       "                      8.7284e-03, 5.6052e-45, 4.0557e-01, 3.2242e-01, 1.4230e-01, 0.0000e+00,\n",
       "                      6.8277e-01, 1.6863e+00, 5.5106e-01, 5.6052e-45, 2.5464e+00, 3.2465e-02,\n",
       "                      1.1676e+00, 6.1291e-02, 8.6540e-02, 5.6052e-45, 0.0000e+00, 5.6052e-45,\n",
       "                      1.3479e-01, 5.6052e-45, 2.4821e+00, 6.2564e-02, 2.1100e-01, 1.0113e+00,\n",
       "                      1.0680e-02, 1.3971e-01, 1.3816e-02, 4.7996e-02, 0.0000e+00, 2.6368e-01,\n",
       "                      2.6640e+00, 2.1062e+00, 3.0551e+00, 1.3031e+00, 4.5893e-01, 5.6052e-45,\n",
       "                      2.6802e+00, 1.3661e-01, 7.4661e-01, 5.2479e-02, 2.6733e+00, 3.7678e-01,\n",
       "                      7.5082e-01, 3.3661e-01, 0.0000e+00, 0.0000e+00, 1.6740e-01, 1.1795e-02,\n",
       "                      1.0939e-01, 4.5339e-01, 0.0000e+00, 5.7514e-01, 5.6052e-45, 5.3579e-01,\n",
       "                      1.1736e-02, 5.0654e-02, 3.4466e+00, 2.9481e+00, 3.4344e+00, 3.1693e-01,\n",
       "                      2.8553e-03, 5.4920e-01, 1.2210e-01, 5.6052e-45, 2.9230e+00, 4.5002e+00,\n",
       "                      1.4244e-01, 2.1427e+00, 9.5025e-03, 4.6346e-01, 1.0534e-01, 4.2981e-02,\n",
       "                      5.1469e-01, 2.4585e-02, 5.6052e-45, 2.0337e+00, 5.6052e-45, 1.0907e-01,\n",
       "                      6.2066e-02, 2.7182e+00, 5.1460e-01, 0.0000e+00, 6.7414e-02, 1.4864e+00,\n",
       "                      5.6595e-01, 2.1249e+00, 5.5063e-01, 1.9358e-03, 3.9212e-01, 1.0857e-01,\n",
       "                      2.2897e-02, 3.9584e+00, 9.8772e-01, 1.9078e-02, 5.1488e-01, 8.7450e-02,\n",
       "                      3.9401e-02, 0.0000e+00, 3.9848e-01, 6.1546e-02, 1.5921e-01, 6.1286e-02,\n",
       "                      2.6693e+00, 4.4046e-02], device='cuda:0')),\n",
       "             ('bn1.running_var',\n",
       "              tensor([1.2187e-01, 1.1717e-01, 9.8638e-02, 7.2179e-02, 5.6052e-45, 5.6052e-45,\n",
       "                      5.4526e-02, 5.8282e-03, 1.6240e-01, 5.6052e-45, 5.0959e-02, 1.5605e-01,\n",
       "                      1.0704e-01, 5.6052e-45, 3.2771e-02, 9.0368e-02, 6.4756e-02, 2.3802e-01,\n",
       "                      5.6052e-45, 5.4158e-02, 5.6052e-45, 7.6110e-02, 7.2161e-02, 2.0583e-01,\n",
       "                      2.0014e-03, 5.6052e-45, 2.8009e-01, 4.7224e-02, 6.1414e-02, 5.6052e-45,\n",
       "                      1.6521e-01, 7.8703e-02, 1.3537e-01, 5.6052e-45, 1.5346e-01, 2.3745e-02,\n",
       "                      7.1173e-02, 2.7509e-02, 3.7954e-02, 5.6052e-45, 5.6052e-45, 5.6052e-45,\n",
       "                      5.4709e-02, 5.6052e-45, 1.3467e-01, 2.2887e-02, 6.2305e-02, 7.6650e-02,\n",
       "                      4.7022e-03, 6.7387e-02, 6.7654e-03, 1.2995e-02, 5.6052e-45, 1.2397e-01,\n",
       "                      1.8851e-01, 1.3480e-01, 1.7141e-01, 7.1085e-02, 1.3480e-01, 5.6052e-45,\n",
       "                      2.1397e-01, 5.7631e-02, 3.7874e-02, 3.3570e-02, 1.1345e-01, 7.4229e-02,\n",
       "                      5.9298e-02, 8.6761e-02, 5.6052e-45, 5.6052e-45, 2.6274e-01, 1.0544e-02,\n",
       "                      6.5132e-02, 1.0760e-01, 5.6052e-45, 1.2211e-01, 5.6052e-45, 1.2227e-01,\n",
       "                      2.8511e-03, 3.3469e-02, 1.8242e-01, 1.5987e-01, 1.2763e-01, 1.4578e-01,\n",
       "                      1.3606e-03, 3.5699e-02, 7.9076e-02, 5.6052e-45, 1.0163e-01, 2.6058e-01,\n",
       "                      7.2639e-02, 2.2087e-01, 4.1987e-03, 9.6236e-02, 5.4286e-02, 1.7053e-02,\n",
       "                      1.2580e-01, 1.1073e-02, 5.6052e-45, 1.4004e-01, 5.6052e-45, 5.9120e-02,\n",
       "                      3.4557e-02, 1.3116e-01, 1.6835e-01, 5.6052e-45, 2.2295e-02, 8.8522e-02,\n",
       "                      8.8879e-02, 7.3210e-02, 9.4957e-02, 6.3456e-04, 2.8927e-01, 6.5614e-02,\n",
       "                      1.1461e-02, 1.8137e-01, 2.0809e-01, 5.7466e-03, 2.9558e-01, 4.2278e-02,\n",
       "                      2.7378e-02, 5.6052e-45, 1.8053e-01, 3.6386e-02, 6.6959e-02, 5.1526e-02,\n",
       "                      1.2981e-01, 2.9211e-02], device='cuda:0')),\n",
       "             ('bn1.num_batches_tracked', tensor(3666, device='cuda:0')),\n",
       "             ('conv2.weight',\n",
       "              tensor([[ 0.7577, -0.6031, -0.6145,  ..., -0.8455, -0.1369, -0.6808],\n",
       "                      [ 0.4055, -0.0790, -0.4462,  ..., -0.0209, -0.2900, -0.6170],\n",
       "                      [-0.3018, -0.1131,  0.6037,  ...,  0.8394, -0.0665,  0.1682],\n",
       "                      ...,\n",
       "                      [-0.1404,  0.1103,  0.1888,  ...,  0.4225,  0.1483, -0.2014],\n",
       "                      [ 0.4294, -0.1789, -0.4336,  ...,  0.2653,  0.5350,  0.5530],\n",
       "                      [ 0.7938,  0.3097,  0.4905,  ...,  0.4829, -0.6110, -1.6960]],\n",
       "                     device='cuda:0')),\n",
       "             ('conv2.bias',\n",
       "              tensor([-1.0201, -0.3745, -0.1427, -0.6621, -0.0524,  0.6581, -0.2144, -0.2220,\n",
       "                       0.1185, -0.0780, -0.0951, -0.4675,  0.2061,  0.3957,  0.1597, -0.4502,\n",
       "                       0.4253,  0.0456,  0.3624, -0.4042,  1.7930, -0.0691,  0.5121, -0.4483,\n",
       "                       0.0792,  0.3577,  0.6429, -0.9106,  0.0134, -0.1674,  0.1703,  0.2508,\n",
       "                       1.8966, -0.1460, -0.9213, -0.2848, -0.1874,  0.0371, -0.2732, -0.2038,\n",
       "                      -1.7302,  0.5594, -0.1093, -0.1985, -0.0902,  0.0104, -0.4737,  0.1157,\n",
       "                      -0.4348,  0.2966,  0.1978, -0.1470, -0.8693,  0.1288,  0.5363, -0.6119,\n",
       "                       0.0477, -0.5495, -0.6660, -0.1350,  0.0343,  0.4043, -0.2843,  0.1146],\n",
       "                     device='cuda:0')),\n",
       "             ('bn2.weight',\n",
       "              tensor([1.2162, 0.8034, 0.9450, 0.9968, 0.9310, 0.9234, 1.0759, 0.9884, 1.0353,\n",
       "                      0.9516, 0.9770, 1.3420, 0.3761, 0.4714, 0.5549, 0.9942, 0.7933, 0.7631,\n",
       "                      0.7175, 1.4088, 0.7658, 0.9116, 0.8113, 0.8302, 0.7982, 0.7200, 0.6097,\n",
       "                      0.9513, 0.8516, 1.0408, 0.9700, 1.0077, 1.7758, 1.3936, 0.3780, 0.8523,\n",
       "                      1.1967, 1.3245, 1.2817, 0.7691, 1.2185, 1.3341, 1.2227, 0.6175, 0.8000,\n",
       "                      0.6813, 1.2425, 0.7713, 0.6473, 0.9484, 0.8162, 1.1897, 0.8893, 0.6388,\n",
       "                      0.7373, 0.6599, 0.9432, 1.7891, 1.3754, 1.0420, 1.1104, 0.6555, 1.1644,\n",
       "                      1.1242], device='cuda:0')),\n",
       "             ('bn2.bias',\n",
       "              tensor([-1.1813, -1.1393, -0.7059, -0.3114, -0.3639, -1.2343, -1.0607, -1.7309,\n",
       "                      -0.0337, -0.6567, -0.1693,  0.4286, -0.5130, -0.4753, -0.4493, -0.7313,\n",
       "                      -0.8857, -0.2469, -0.2335, -1.3550, -0.9193, -0.8871, -0.2664, -0.8084,\n",
       "                      -1.0846, -1.0724,  0.1055, -0.8449, -0.5494, -0.9936, -1.4471, -0.2049,\n",
       "                      -0.5006,  0.1744, -0.6560, -1.0743, -1.2793,  0.1489, -0.9849, -0.4297,\n",
       "                      -0.7998, -1.7246, -0.4726, -1.0841, -1.4163, -0.7664, -1.2829, -1.2189,\n",
       "                      -0.7450, -1.0609, -0.2846, -0.3860, -0.5204, -0.8860, -0.6073, -0.5930,\n",
       "                      -0.2512, -0.9352, -1.0916, -1.7210, -0.4774, -0.4928, -1.6626, -0.7528],\n",
       "                     device='cuda:0')),\n",
       "             ('bn2.running_mean',\n",
       "              tensor([ 1.5072,  2.2794,  2.5586,  0.5573,  4.0740,  4.3100,  0.8959,  1.0637,\n",
       "                       3.0477,  2.1726,  1.4729,  0.3975,  2.3862,  2.8469,  2.9816,  3.2771,\n",
       "                       2.5550,  2.8732,  4.8738,  5.8527,  6.5528,  0.5861,  4.3923,  1.4202,\n",
       "                       0.9981,  1.3741,  3.8768,  0.4079,  3.1128,  1.7054,  1.4895,  2.8586,\n",
       "                      11.3074,  1.0187,  0.5334,  2.4951,  0.9279,  3.1423,  0.9103,  0.8634,\n",
       "                       3.9648,  5.2073,  3.5269,  0.9556,  1.5462,  3.9595,  2.0572,  2.4880,\n",
       "                       0.2137,  6.7737,  4.6143,  2.4722,  0.6336,  5.3749,  1.0712,  0.8965,\n",
       "                       3.3084,  1.8586,  1.0868,  1.2968,  2.0190,  3.5338,  2.2286,  2.8429],\n",
       "                     device='cuda:0')),\n",
       "             ('bn2.running_var',\n",
       "              tensor([11.6192, 15.1282, 15.5888,  1.4507, 36.1992, 32.8315,  3.1920,  4.3790,\n",
       "                      26.4980, 11.7794,  9.1197,  2.1227, 13.4035,  4.9478, 11.2852, 15.4848,\n",
       "                      15.9990, 16.8741, 40.7387, 38.0853, 46.6519,  4.3770, 36.1088,  7.7631,\n",
       "                       8.3742,  6.4603, 26.6227,  3.5481, 27.4604, 11.5290,  5.7485, 22.8365,\n",
       "                      82.4295,  5.0630,  3.0703, 18.0235,  6.1054, 16.3005,  7.8280,  3.1658,\n",
       "                      29.4838, 23.9571, 28.0055,  5.7205,  8.0600, 35.3854, 14.3553, 13.1382,\n",
       "                       0.5949, 56.5551, 38.3965, 16.3488,  3.7258, 41.7631,  4.2998,  2.9044,\n",
       "                      25.2491,  6.3467,  5.2309,  4.7581,  8.5542, 27.8708,  6.5310, 14.6415],\n",
       "                     device='cuda:0')),\n",
       "             ('bn2.num_batches_tracked', tensor(3666, device='cuda:0')),\n",
       "             ('fc1.weight',\n",
       "              tensor([[-0.0714,  0.4579, -0.3374,  ..., -0.2315, -1.1392,  0.9093],\n",
       "                      [ 0.2311, -0.3761,  0.1141,  ...,  0.1654,  0.2823,  0.1359],\n",
       "                      [ 0.0366,  0.1063,  0.0166,  ..., -0.2478, -0.0081, -0.4381],\n",
       "                      ...,\n",
       "                      [ 1.0802,  0.3213, -0.3194,  ..., -0.1321, -0.0457,  0.1657],\n",
       "                      [-0.0226,  0.1314,  0.0216,  ..., -0.2005,  0.1334, -0.0600],\n",
       "                      [-0.1880, -0.1758,  0.5730,  ...,  0.8662,  0.4417, -0.2820]],\n",
       "                     device='cuda:0')),\n",
       "             ('fc1.bias',\n",
       "              tensor([ 0.8493, -0.4065,  2.1237,  2.1258,  0.9779, -0.5410,  0.3827,  0.5997,\n",
       "                       0.0037, -0.3793,  0.0624,  0.4696,  0.6274, -0.1945, -0.3977, -0.1318,\n",
       "                      -0.4691, -0.4359,  1.0757, -0.0143,  0.8675, -0.0741,  0.1780,  0.4741,\n",
       "                       0.3097, -0.3152,  0.1484,  1.9313,  0.2259, -0.1438,  0.5007, -0.0416,\n",
       "                      -0.3890, -0.1015,  0.9845, -0.5484, -0.9990, -0.2819, -0.2194,  0.8463,\n",
       "                      -0.2345,  1.9362, -0.3809, -0.4499, -0.0999,  0.7082, -0.1718,  0.9536,\n",
       "                       1.9641,  1.5360,  0.6718, -0.0925, -0.1781, -0.0559,  0.1852, -0.0392,\n",
       "                      -0.1769, -0.0765, -0.2298, -0.0122, -0.2560,  1.1389, -0.1023,  0.6507],\n",
       "                     device='cuda:0')),\n",
       "             ('bn3.weight',\n",
       "              tensor([ 2.0051,  0.2896,  0.9308,  1.0308,  2.1773,  0.5932,  0.9520,  1.0096,\n",
       "                       1.1436,  0.2817,  0.5233,  2.7728,  0.9271,  1.8344,  2.3140,  0.5292,\n",
       "                       0.5072,  1.0063,  1.7065,  1.0232,  0.9811,  1.1583,  2.2720,  2.0017,\n",
       "                       1.5050,  2.1526,  1.7562,  0.9680,  0.8602,  1.4011,  1.1263,  1.1224,\n",
       "                       1.2244,  1.3528,  1.0101,  0.5034,  1.1261,  1.9888, -0.1061,  1.3755,\n",
       "                       0.8489,  1.0556,  0.4889,  1.7696,  1.2569,  1.9267,  0.9444,  1.7469,\n",
       "                       1.0156,  1.0679,  1.8500,  2.0624,  1.3325,  1.4236,  1.1714,  1.3254,\n",
       "                       0.9949,  0.9484,  1.2872,  1.3278,  0.1039,  0.8333,  1.4398,  1.3583],\n",
       "                     device='cuda:0')),\n",
       "             ('bn3.bias',\n",
       "              tensor([-2.2140,  2.2591, -2.2577,  2.1997, -2.1588,  2.2689, -2.2804, -2.2276,\n",
       "                       2.2317, -2.2249,  2.2146,  2.2056, -2.2348,  2.2145,  2.1954, -2.2162,\n",
       "                       2.1849,  2.1980, -2.1841, -2.2583, -2.1861,  2.2386, -2.2160, -2.2390,\n",
       "                      -2.2596,  2.1950,  2.2208, -2.1735,  2.2298,  2.2020,  2.2324,  2.2711,\n",
       "                      -2.1998,  2.1921,  2.1796, -2.2261, -2.2856,  2.1703, -2.2613, -2.1742,\n",
       "                       2.2754, -2.2518,  2.2727, -2.2585,  2.2297, -2.2272,  2.1875, -2.2326,\n",
       "                      -2.1870, -2.2572, -2.2721,  2.2237,  2.2120,  2.2109,  2.2004,  2.2683,\n",
       "                      -2.2177,  2.2623, -2.1873,  2.1904,  2.2676,  2.2271,  2.2045, -2.2243],\n",
       "                     device='cuda:0')),\n",
       "             ('bn3.running_mean',\n",
       "              tensor([6.0046e+00, 5.6052e-45, 1.6594e+01, 1.9338e+01, 3.0102e+00, 5.6052e-45,\n",
       "                      1.6838e+01, 1.3458e+01, 1.3054e+01, 3.6332e+00, 2.0053e-01, 5.6278e-01,\n",
       "                      1.0316e+01, 3.6134e-01, 7.7118e-01, 1.0742e+01, 5.6052e-45, 5.6052e-45,\n",
       "                      1.0848e+01, 9.5263e+00, 1.5169e+01, 9.1771e+00, 2.3462e+00, 5.3908e+00,\n",
       "                      2.3332e+00, 1.7985e+00, 2.3462e+00, 1.4663e+01, 1.8506e+01, 5.6052e-45,\n",
       "                      5.9900e+00, 1.0310e+01, 5.6052e-45, 5.6052e-45, 1.3917e+01, 5.6052e-45,\n",
       "                      1.2117e-01, 2.3205e-01, 5.8451e-03, 1.3578e+01, 5.6052e-45, 1.7318e+01,\n",
       "                      5.6052e-45, 1.9319e-01, 5.6052e-45, 5.9512e+00, 5.6052e-45, 1.1767e+01,\n",
       "                      1.6601e+01, 1.7102e+01, 4.7733e+00, 1.7352e+00, 5.6052e-45, 5.6052e-45,\n",
       "                      3.3815e+00, 5.6052e-45, 8.5060e+00, 5.6052e-45, 5.6052e-45, 5.6052e-45,\n",
       "                      1.7932e+01, 1.8182e+01, 5.6052e-45, 9.0514e+00], device='cuda:0')),\n",
       "             ('bn3.running_var',\n",
       "              tensor([2.5466e+01, 5.6052e-45, 1.4066e+02, 9.5855e+01, 1.1952e+01, 5.6052e-45,\n",
       "                      1.4082e+02, 1.0964e+02, 7.9007e+01, 1.4460e+01, 2.9403e+00, 2.1586e+00,\n",
       "                      8.4677e+01, 1.6820e+00, 4.1343e+00, 7.5022e+01, 5.6052e-45, 5.6052e-45,\n",
       "                      4.3065e+01, 5.5814e+01, 1.4092e+02, 3.3712e+01, 1.0743e+01, 2.3284e+01,\n",
       "                      1.4215e+01, 7.8334e+00, 1.2604e+01, 1.1670e+02, 5.3101e+01, 5.6052e-45,\n",
       "                      2.9835e+01, 6.1074e+01, 5.6052e-45, 5.6052e-45, 9.2704e+01, 5.6052e-45,\n",
       "                      4.4883e-01, 8.2393e-01, 6.1537e-02, 4.3555e+01, 5.6052e-45, 1.5596e+02,\n",
       "                      5.6052e-45, 1.1404e+00, 5.6052e-45, 3.2151e+01, 5.6052e-45, 3.6926e+01,\n",
       "                      1.4468e+02, 1.5952e+02, 1.6818e+01, 1.1142e+01, 5.6052e-45, 5.6052e-45,\n",
       "                      1.2979e+01, 5.6052e-45, 5.4492e+01, 5.6052e-45, 5.6052e-45, 5.6052e-45,\n",
       "                      3.1283e+01, 8.9139e+01, 5.6052e-45, 3.3339e+01], device='cuda:0')),\n",
       "             ('bn3.num_batches_tracked', tensor(3666, device='cuda:0')),\n",
       "             ('fc2.weight',\n",
       "              tensor([[-2.3409,  2.2608, -2.2075,  2.2600, -2.4170,  2.2492, -2.2100, -2.2408,\n",
       "                        2.2322, -2.2898,  2.2485,  2.4405, -2.2433,  2.3322,  2.3883, -2.3014,\n",
       "                        2.3398,  2.2825, -2.3565, -2.2378, -2.2834,  2.2154, -2.3522, -2.3282,\n",
       "                       -2.2558,  2.3783,  2.3094, -2.2933,  2.2322,  2.2827,  2.2359,  2.1997,\n",
       "                       -2.3156,  2.2924,  2.2790, -2.2942, -2.1846,  2.3299, -2.2555, -2.3235,\n",
       "                        2.2438, -2.2130,  2.2453, -2.2858,  2.2526, -2.3153,  2.3377, -2.3043,\n",
       "                       -2.2775, -2.2076, -2.2541,  2.3791,  2.2729,  2.2721,  2.2729,  2.2162,\n",
       "                       -2.2628,  2.2580, -2.3279,  2.2945,  2.2428,  2.2536,  2.2774, -2.2765]],\n",
       "                     device='cuda:0')),\n",
       "             ('fc2.bias', tensor([1.3459], device='cuda:0'))])"
      ]
     },
     "execution_count": 41,
     "metadata": {},
     "output_type": "execute_result"
    }
   ],
   "source": [
    "best_model_param"
   ]
  },
  {
   "cell_type": "code",
   "execution_count": 42,
   "metadata": {
    "colab": {},
    "colab_type": "code",
    "id": "EnwdbiP3hv5P"
   },
   "outputs": [],
   "source": [
    "torch.save(best_model_param, 'state_model_abs_78_8.pt')"
   ]
  },
  {
   "cell_type": "markdown",
   "metadata": {
    "colab_type": "text",
    "id": "vNJy05S2X0zY"
   },
   "source": [
    "# Try Model"
   ]
  },
  {
   "cell_type": "code",
   "execution_count": 43,
   "metadata": {
    "colab": {},
    "colab_type": "code",
    "id": "CDy60JTIExaN"
   },
   "outputs": [],
   "source": [
    "model.load_state_dict(torch.load('state_model_abs_78_8.pt'))\n",
    "\n",
    "def compute_energies(loader):\n",
    "    model.eval()\n",
    "    \n",
    "    pred_all = []\n",
    "    real_all = []\n",
    "    for data in loader:\n",
    "        # transform data\n",
    "        data = data.to(device)\n",
    "        real_y = data.y.to(device).type(\"torch.cuda.FloatTensor\")\n",
    "    \n",
    "        predicted = model(data).reshape([bs_model]).tolist()\n",
    "    \n",
    "        real_all += real_y.tolist()\n",
    "        pred_all += predicted\n",
    "    \n",
    "    return real_all, pred_all"
   ]
  },
  {
   "cell_type": "markdown",
   "metadata": {
    "colab_type": "text",
    "id": "rj5kNT5OFdAw"
   },
   "source": [
    "## Test model"
   ]
  },
  {
   "cell_type": "code",
   "execution_count": 44,
   "metadata": {
    "colab": {
     "base_uri": "https://localhost:8080/",
     "height": 34
    },
    "colab_type": "code",
    "id": "2siqIhme2hRF",
    "outputId": "61bd0c6a-11f1-4e9c-b331-5eca442ba352"
   },
   "outputs": [
    {
     "name": "stdout",
     "output_type": "stream",
     "text": [
      "6741\n"
     ]
    }
   ],
   "source": [
    "#df_dict = dict()\n",
    "df_dict = gcnn_test[gcnn_test.absorp > 0.]\n",
    "\n",
    "print(len(df_dict))"
   ]
  },
  {
   "cell_type": "markdown",
   "metadata": {
    "colab_type": "text",
    "id": "DVvi_BDQO0lS"
   },
   "source": [
    "### plot real vs. test"
   ]
  },
  {
   "cell_type": "code",
   "execution_count": 45,
   "metadata": {
    "colab": {
     "base_uri": "https://localhost:8080/",
     "height": 421
    },
    "colab_type": "code",
    "id": "JaMSFYlONBPE",
    "outputId": "6e4e10a3-f1b8-4d06-e48c-d199ff40f458"
   },
   "outputs": [
    {
     "data": {
      "text/plain": [
       "(125, 570.0)"
      ]
     },
     "execution_count": 45,
     "metadata": {},
     "output_type": "execute_result"
    },
    {
     "data": {
      "image/png": "[encoded data removed]",
      "text/plain": [
       "<Figure size 432x432 with 1 Axes>"
      ]
     },
     "metadata": {},
     "output_type": "display_data"
    }
   ],
   "source": [
    "import matplotlib as mpl\n",
    "\n",
    "mpl.rc({'figure.autolayout': True})\n",
    "# Helvetica format and white background\n",
    "mpl.rc(\"text.latex\", preamble=[\"\\\\usepackage{helvet}\\\\usepackage{sfmath}\"])\n",
    "mpl.rc(\"figure\", facecolor=\"white\")\n",
    "#! supscript and superscript NOT italic\n",
    "mpl.rc({'mathtext.default': 'regular'})\n",
    "\n",
    "plt.figure(figsize=(6,6))\n",
    "\n",
    "graph_test =  [mol2vec(Chem.MolFromSmiles(x)) for x in df_dict.smiles]\n",
    "for graph, energy in zip(graph_test, df_dict.absorp):\n",
    "    graph.y = torch.tensor([energy], dtype=torch.float64)\n",
    "\n",
    "tt_loader = DataLoader(graph_test, batch_size=bs_model, shuffle=True, drop_last=True)\n",
    "\n",
    "# plot stuff\n",
    "tt_real, tt_pred = compute_energies(tt_loader)\n",
    "\n",
    "plt.plot(np.array(tt_real), np.array(tt_pred), '.')\n",
    "plt.plot(np.array([150,550]), np.array([150,550]))\n",
    "\n",
    "\n",
    "plt.xlabel(r'Calculated wavelength [nm]', fontsize=18), plt.ylabel(r'Predicted wavelength [nm]', fontsize=18), \n",
    "plt.tick_params(labelsize=18)\n",
    "plt.ylim(bottom=125)\n",
    "\n",
    "#plt.savefig('/content/drive/My Drive/Kemi på KU/pred_vs_true_abs_16.pdf', dpi=800)"
   ]
  },
  {
   "cell_type": "markdown",
   "metadata": {
    "colab_type": "text",
    "id": "lJnjA0VJPBqn"
   },
   "source": [
    "### mean + std from all"
   ]
  },
  {
   "cell_type": "code",
   "execution_count": null,
   "metadata": {
    "colab": {
     "base_uri": "https://localhost:8080/",
     "height": 34
    },
    "colab_type": "code",
    "id": "QscBsm8zOtN6",
    "outputId": "3bb0e794-5df5-4b35-cedc-b975c2635b20"
   },
   "outputs": [
    {
     "name": "stdout",
     "output_type": "stream",
     "text": [
      "[3.29450451] [2.58973801]\n"
     ]
    }
   ],
   "source": [
    "mean = []\n",
    "std = []\n",
    "\n",
    "t = df_dict\n",
    "    \n",
    "# make graphs\n",
    "ggt =  [mol2vec(Chem.MolFromSmiles(x)) for x in t.smiles]\n",
    "for graph, energy in zip(ggt, t.max_abs):\n",
    "    graph.y = torch.tensor([energy], dtype=torch.float64)\n",
    "t_loader = DataLoader(ggt, batch_size=bs_model, shuffle=True, drop_last=True)\n",
    "    \n",
    "    \n",
    "# predict values\n",
    "t_real, t_pred = compute_energies(t_loader)\n",
    "    \n",
    "# compute mean and std\n",
    "mae = abs(np.array(t_pred) - np.array(t_real)).mean()\n",
    "mae_error = abs(np.array(t_pred) - np.array(t_real)).std()\n",
    "    \n",
    "mean.append(mae)\n",
    "std.append(mae_error)\n",
    "    \n",
    "\n",
    "mean = np.array(mean)\n",
    "std = np.array(std)\n",
    "print(mean, std)"
   ]
  },
  {
   "cell_type": "code",
   "execution_count": null,
   "metadata": {
    "colab": {
     "base_uri": "https://localhost:8080/",
     "height": 235
    },
    "colab_type": "code",
    "id": "vb02MVeEd9MG",
    "outputId": "ae9dc87d-d50d-4634-add3-c556bb7231da"
   },
   "outputs": [
    {
     "name": "stdout",
     "output_type": "stream",
     "text": [
      "              comp_name  ...         tbr\n",
      "11923  A-5_A-13_A-0_A-0  ...  102.392733\n",
      "\n",
      "[1 rows x 4 columns]\n"
     ]
    },
    {
     "data": {
      "image/png": "[encoded data removed]",
      "text/plain": [
       "<rdkit.Chem.rdchem.Mol at 0x7f5a949d7b70>"
      ]
     },
     "execution_count": 30,
     "metadata": {
      "tags": []
     },
     "output_type": "execute_result"
    }
   ],
   "source": [
    "maximum = t['max_abs'] == max(t.max_abs)\n",
    "smile = t[maximum].smiles\n",
    "print(t[maximum])\n",
    "\n",
    "Chem.MolFromSmiles(str(smile.to_list()[0]))"
   ]
  },
  {
   "cell_type": "markdown",
   "metadata": {
    "colab_type": "text",
    "id": "R0owPBKIfZ-L"
   },
   "source": [
    "# Generate Gene"
   ]
  },
  {
   "cell_type": "markdown",
   "metadata": {
    "colab_type": "text",
    "id": "47hQa-IPth_Y"
   },
   "source": [
    "## Gene to Graph"
   ]
  },
  {
   "cell_type": "code",
   "execution_count": null,
   "metadata": {
    "colab": {
     "base_uri": "https://localhost:8080/",
     "height": 34
    },
    "colab_type": "code",
    "id": "3rJuVX-ZS5fu",
    "outputId": "d5da0b35-b1b1-4905-afa8-7b6ea71d1c59"
   },
   "outputs": [
    {
     "data": {
      "text/plain": [
       "\"[['A',2,7,16,0,0],['B',2,0,0,0,0],['A',0,0,0,0,0],['A',0,0,0,0,0]]\""
      ]
     },
     "execution_count": 31,
     "metadata": {
      "tags": []
     },
     "output_type": "execute_result"
    }
   ],
   "source": [
    "\"[['A',2,7,16,0,0],['B',2,0,0,0,0],['A',0,0,0,0,0],['A',0,0,0,0,0]]\""
   ]
  },
  {
   "cell_type": "code",
   "execution_count": null,
   "metadata": {
    "colab": {
     "base_uri": "https://localhost:8080/",
     "height": 238
    },
    "colab_type": "code",
    "id": "z_0Tq_iOfeoq",
    "outputId": "b443c351-fa07-4892-cb63-ffa2e6e0052d"
   },
   "outputs": [
    {
     "name": "stdout",
     "output_type": "stream",
     "text": [
      "COc1ccccc1C1=CC2C=CC1C2\n"
     ]
    },
    {
     "data": {
      "image/svg+xml": [
       "<svg baseProfile=\"full\" height=\"200px\" version=\"1.1\" viewBox=\"0 0 600 200\" width=\"600px\" xml:space=\"preserve\" xmlns=\"http://www.w3.org/2000/svg\" xmlns:rdkit=\"http://www.rdkit.org/xml\" xmlns:xlink=\"http://www.w3.org/1999/xlink\">\n",
       "<!-- END OF HEADER -->\n",
       "<rect height=\"200\" style=\"opacity:1.0;fill:#FFFFFF;stroke:none\" width=\"600\" x=\"0\" y=\"0\"> </rect>\n",
       "<path class=\"bond-0\" d=\"M 167.975,117.724 L 190.909,90.3646\" style=\"fill:none;fill-rule:evenodd;stroke:#000000;stroke-width:2px;stroke-linecap:butt;stroke-linejoin:miter;stroke-opacity:1\"/>\n",
       "<path class=\"bond-0\" d=\"M 165.943,109.033 L 181.997,89.8818\" style=\"fill:none;fill-rule:evenodd;stroke:#000000;stroke-width:2px;stroke-linecap:butt;stroke-linejoin:miter;stroke-opacity:1\"/>\n",
       "<path class=\"bond-14\" d=\"M 167.975,117.724 L 134.868,104.367\" style=\"fill:none;fill-rule:evenodd;stroke:#000000;stroke-width:2px;stroke-linecap:butt;stroke-linejoin:miter;stroke-opacity:1\"/>\n",
       "<path class=\"bond-1\" d=\"M 190.909,90.3646 L 171.976,60.0987\" style=\"fill:none;fill-rule:evenodd;stroke:#000000;stroke-width:2px;stroke-linecap:butt;stroke-linejoin:miter;stroke-opacity:1\"/>\n",
       "<path class=\"bond-2\" d=\"M 171.976,60.0987 L 137.34,68.7529\" style=\"fill:none;fill-rule:evenodd;stroke:#000000;stroke-width:2px;stroke-linecap:butt;stroke-linejoin:miter;stroke-opacity:1\"/>\n",
       "<path class=\"bond-15\" d=\"M 171.976,60.0987 L 138.868,46.7419\" style=\"fill:none;fill-rule:evenodd;stroke:#000000;stroke-width:2px;stroke-linecap:butt;stroke-linejoin:miter;stroke-opacity:1\"/>\n",
       "<path class=\"bond-3\" d=\"M 137.34,68.7529 L 134.868,104.367\" style=\"fill:none;fill-rule:evenodd;stroke:#000000;stroke-width:2px;stroke-linecap:butt;stroke-linejoin:miter;stroke-opacity:1\"/>\n",
       "<path class=\"bond-4\" d=\"M 134.868,104.367 L 115.934,74.1015\" style=\"fill:none;fill-rule:evenodd;stroke:#000000;stroke-width:2px;stroke-linecap:butt;stroke-linejoin:miter;stroke-opacity:1\"/>\n",
       "<path class=\"bond-5\" d=\"M 115.934,74.1015 L 80.3199,71.6292\" style=\"fill:none;fill-rule:evenodd;stroke:#000000;stroke-width:2px;stroke-linecap:butt;stroke-linejoin:miter;stroke-opacity:1\"/>\n",
       "<path class=\"bond-13\" d=\"M 115.934,74.1015 L 138.868,46.7419\" style=\"fill:none;fill-rule:evenodd;stroke:#000000;stroke-width:2px;stroke-linecap:butt;stroke-linejoin:miter;stroke-opacity:1\"/>\n",
       "<path class=\"bond-13\" d=\"M 124.846,74.5843 L 140.9,55.4326\" style=\"fill:none;fill-rule:evenodd;stroke:#000000;stroke-width:2px;stroke-linecap:butt;stroke-linejoin:miter;stroke-opacity:1\"/>\n",
       "<path class=\"bond-6\" d=\"M 80.3199,71.6292 L 64.6537,39.55\" style=\"fill:none;fill-rule:evenodd;stroke:#000000;stroke-width:2px;stroke-linecap:butt;stroke-linejoin:miter;stroke-opacity:1\"/>\n",
       "<path class=\"bond-6\" d=\"M 71.5541,69.9506 L 60.5878,47.4952\" style=\"fill:none;fill-rule:evenodd;stroke:#000000;stroke-width:2px;stroke-linecap:butt;stroke-linejoin:miter;stroke-opacity:1\"/>\n",
       "<path class=\"bond-16\" d=\"M 80.3199,71.6292 L 60.3716,101.236\" style=\"fill:none;fill-rule:evenodd;stroke:#000000;stroke-width:2px;stroke-linecap:butt;stroke-linejoin:miter;stroke-opacity:1\"/>\n",
       "<path class=\"bond-7\" d=\"M 64.6537,39.55 L 29.0392,37.0778\" style=\"fill:none;fill-rule:evenodd;stroke:#000000;stroke-width:2px;stroke-linecap:butt;stroke-linejoin:miter;stroke-opacity:1\"/>\n",
       "<path class=\"bond-8\" d=\"M 29.0392,37.0778 L 9.09091,66.6847\" style=\"fill:none;fill-rule:evenodd;stroke:#000000;stroke-width:2px;stroke-linecap:butt;stroke-linejoin:miter;stroke-opacity:1\"/>\n",
       "<path class=\"bond-8\" d=\"M 31.9683,45.5085 L 18.0045,66.2333\" style=\"fill:none;fill-rule:evenodd;stroke:#000000;stroke-width:2px;stroke-linecap:butt;stroke-linejoin:miter;stroke-opacity:1\"/>\n",
       "<path class=\"bond-9\" d=\"M 9.09091,66.6847 L 24.7571,98.7639\" style=\"fill:none;fill-rule:evenodd;stroke:#000000;stroke-width:2px;stroke-linecap:butt;stroke-linejoin:miter;stroke-opacity:1\"/>\n",
       "<path class=\"bond-10\" d=\"M 24.7571,98.7639 L 60.3716,101.236\" style=\"fill:none;fill-rule:evenodd;stroke:#000000;stroke-width:2px;stroke-linecap:butt;stroke-linejoin:miter;stroke-opacity:1\"/>\n",
       "<path class=\"bond-10\" d=\"M 30.5937,92.0118 L 55.5239,93.7424\" style=\"fill:none;fill-rule:evenodd;stroke:#000000;stroke-width:2px;stroke-linecap:butt;stroke-linejoin:miter;stroke-opacity:1\"/>\n",
       "<path class=\"bond-11\" d=\"M 60.3716,101.236 L 66.7518,114.301\" style=\"fill:none;fill-rule:evenodd;stroke:#000000;stroke-width:2px;stroke-linecap:butt;stroke-linejoin:miter;stroke-opacity:1\"/>\n",
       "<path class=\"bond-11\" d=\"M 66.7518,114.301 L 73.132,127.365\" style=\"fill:none;fill-rule:evenodd;stroke:#FF0000;stroke-width:2px;stroke-linecap:butt;stroke-linejoin:miter;stroke-opacity:1\"/>\n",
       "<path class=\"bond-12\" d=\"M 72.0288,139.265 L 64.0591,151.094\" style=\"fill:none;fill-rule:evenodd;stroke:#FF0000;stroke-width:2px;stroke-linecap:butt;stroke-linejoin:miter;stroke-opacity:1\"/>\n",
       "<path class=\"bond-12\" d=\"M 64.0591,151.094 L 56.0895,162.922\" style=\"fill:none;fill-rule:evenodd;stroke:#000000;stroke-width:2px;stroke-linecap:butt;stroke-linejoin:miter;stroke-opacity:1\"/>\n",
       "<text style=\"font-size:11px;font-style:normal;font-weight:normal;fill-opacity:1;stroke:none;font-family:sans-serif;text-anchor:start;fill:#FF0000\" x=\"70.4806\" y=\"139.265\"><tspan>O</tspan></text>\n",
       "</svg>"
      ],
      "text/plain": [
       "<IPython.core.display.SVG object>"
      ]
     },
     "execution_count": 32,
     "metadata": {
      "tags": []
     },
     "output_type": "execute_result"
    }
   ],
   "source": [
    "ligands_A = ['H', 'F', 'C(F)(F)(F)', 'C#N',\n",
    "           '[N+](=O)([O-])', 'C(=O)[H]', 'C(=O)O',\n",
    "           'C(=O)C', 'C(=O)N', 'S(=O)(=O)(C)',\n",
    "           'C=N', 'O', 'OC', 'N', 'N(C)(C)', 'C',\n",
    "           'N(C(=O)(C))', 'SC']\n",
    "    \n",
    "\n",
    "def ligands_B(gene):\n",
    "    \n",
    "    gene_smiles = 'C#CC1=C(1)C(2)=C(3)C(4)=C1(5)'\n",
    "\n",
    "    for i, ligand_idx in enumerate(gene):\n",
    "        substr = ligands_A[int(ligand_idx)]\n",
    "        \n",
    "        if substr == 'H':\n",
    "            continue\n",
    "            \n",
    "        gene_smiles = gene_smiles.replace('('+str(i+1)+')', f'({substr})')\n",
    " \n",
    "    return Chem.MolToSmiles(Chem.MolFromSmiles( re.sub('\\([0-9]\\)', '', gene_smiles))).replace('c1','c3').replace('C#C','')\n",
    "\n",
    "\n",
    "def ligands_C(gene):\n",
    "    \n",
    "    gene_smiles = 'C#CC1=C(1)C(2)=C(3)C(4)=C1(5)'\n",
    "\n",
    "    for i, ligand_idx in enumerate(gene):\n",
    "        substr = ligands_A[int(ligand_idx)]\n",
    "        \n",
    "        if substr == 'H':\n",
    "            continue\n",
    "            \n",
    "        gene_smiles = gene_smiles.replace('('+str(i+1)+')', f'({substr})')\n",
    " \n",
    "    return Chem.MolToSmiles(Chem.MolFromSmiles( re.sub('\\([0-9]\\)', '', gene_smiles))).replace('c1','c3')\n",
    "\n",
    "\n",
    "def gene2mol(gene):\n",
    "    \n",
    "    gene_smiles = 'C1(1)=C(2)C2CC1C(3)=C2(4)'\n",
    "        \n",
    "    for i in range(4):\n",
    "        \n",
    "        if gene[i][0] == 'A':\n",
    "            substr = ligands_A[gene[i][1]]\n",
    "\n",
    "        if gene[i][0] == 'B':\n",
    "            substr = ligands_B(gene[i][1:])\n",
    "            \n",
    "        if gene[i][0] == 'C':\n",
    "            substr = ligands_C(gene[i][1:])\n",
    "        \n",
    "        if substr == 'H':\n",
    "            continue\n",
    "            \n",
    "        gene_smiles = gene_smiles.replace('('+str(i+1)+')', f'({substr})')\n",
    " \n",
    "    return Chem.MolFromSmiles( re.sub('\\([0-9]\\)', '', gene_smiles))\n",
    "\n",
    "\n",
    "\n",
    "test_mol = gene2mol([['A',0,0,0,0,0],['A',0,0,0,0,0],['B',12,0,0,0,0],['A',0,0,0,0,0]])\n",
    "\n",
    "\n",
    "print(Chem.MolToSmiles(test_mol))\n",
    "SVG(Draw._MolsToGridSVG([test_mol]))"
   ]
  },
  {
   "cell_type": "markdown",
   "metadata": {
    "colab_type": "text",
    "id": "YKQJtdgjuNnn"
   },
   "source": [
    "## Compute storage"
   ]
  },
  {
   "cell_type": "code",
   "execution_count": null,
   "metadata": {
    "colab": {},
    "colab_type": "code",
    "id": "dEj5sjasuQNX"
   },
   "outputs": [],
   "source": [
    "from rdkit.Chem.Descriptors import MolWt\n",
    "\n",
    "def calculate_weight(mols):\n",
    "    \n",
    "    mol_weights = np.zeros(len(mols))\n",
    "    for i, mol in enumerate(mols):\n",
    "        mol_weights[i] = MolWt(mol)\n",
    "    \n",
    "    return mol_weights\n",
    "\n",
    "\n",
    "def compute_storage_energy(predict_model, mols):\n",
    "\n",
    "    graphs = [mol2vec(mol) for mol in mols]\n",
    "    graph_loader = DataLoader(graphs, batch_size=len(mols), shuffle=False)\n",
    "    \n",
    "    for b in graph_loader:\n",
    "        graph_batch = b.to('cuda')\n",
    "        predictions = predict_model(graph_batch)\n",
    "    \n",
    "    return predictions.cpu().data.numpy().reshape(len(mols))\n",
    "    \n",
    "\n",
    "def compute_storage_density(predict_model, mols):\n",
    "    \n",
    "    Wt = calculate_weight(mols)\n",
    "    storage = compute_storage_energy(predict_model, mols)\n",
    "    \n",
    "    \n",
    "    return storage / Wt"
   ]
  },
  {
   "cell_type": "code",
   "execution_count": null,
   "metadata": {
    "colab": {},
    "colab_type": "code",
    "id": "49-OtB4hTbmc"
   },
   "outputs": [],
   "source": []
  }
 ],
 "metadata": {
  "accelerator": "GPU",
  "colab": {
   "collapsed_sections": [],
   "machine_shape": "hm",
   "name": "gcn_test_abs.ipynb",
   "provenance": [],
   "toc_visible": true
  },
  "kernelspec": {
   "display_name": "Python 3 (ipykernel)",
   "language": "python",
   "name": "python3"
  },
  "language_info": {
   "codemirror_mode": {
    "name": "ipython",
    "version": 3
   },
   "file_extension": ".py",
   "mimetype": "text/x-python",
   "name": "python",
   "nbconvert_exporter": "python",
   "pygments_lexer": "ipython3",
   "version": "3.9.12"
  }
 },
 "nbformat": 4,
 "nbformat_minor": 4
}
