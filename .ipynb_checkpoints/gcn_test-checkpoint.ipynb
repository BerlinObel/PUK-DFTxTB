{
 "cells": [
  {
   "cell_type": "markdown",
   "metadata": {
    "colab_type": "text",
    "id": "Yy0O55MRgJZ8"
   },
   "source": [
    "# Download Dependencies for PyTorch Geometry"
   ]
  },
  {
   "cell_type": "code",
   "execution_count": 1,
   "metadata": {
    "colab": {
     "base_uri": "https://localhost:8080/",
     "height": 68
    },
    "colab_type": "code",
    "id": "rqs4kovxvqFc",
    "outputId": "f642e442-59e5-49e6-a48e-bc2f6e36d194"
   },
   "outputs": [
    {
     "name": "stdout",
     "output_type": "stream",
     "text": [
      "1.12.1\n",
      "False\n",
      "Python 3.9.12\n"
     ]
    }
   ],
   "source": [
    "! python -c \"import torch; print(torch.__version__)\"\n",
    "! python -c \"import torch; print(torch.cuda.is_available())\"\n",
    "! python --version"
   ]
  },
  {
   "cell_type": "code",
   "execution_count": 2,
   "metadata": {
    "colab": {},
    "colab_type": "code",
    "id": "1A1o3ArT3je3"
   },
   "outputs": [],
   "source": [
    "#! PATH=/usr/local/cuda/bin:$PATH\n",
    "#! CPATH=/usr/local/cuda/include:$CPATH    \n",
    "#! LD_LIBRARY_PATH=/usr/local/cuda/lib64:$LD_LIBRARY_PATH\n",
    "#! DYLD_LIBRARY_PATH=/usr/local/cuda/lib:$DYLD_LIBRARY_PATH"
   ]
  },
  {
   "cell_type": "code",
   "execution_count": 3,
   "metadata": {
    "colab": {
     "base_uri": "https://localhost:8080/",
     "height": 102
    },
    "colab_type": "code",
    "id": "MQJRnzs3wUy8",
    "outputId": "727f6d6c-b41a-43ca-c85f-950501225633"
   },
   "outputs": [
    {
     "name": "stdout",
     "output_type": "stream",
     "text": [
      "zsh:1: command not found: nvcc\n",
      "None\n"
     ]
    }
   ],
   "source": [
    "! nvcc --version\n",
    "! python -c \"import torch; print(torch.version.cuda)\""
   ]
  },
  {
   "cell_type": "code",
   "execution_count": 4,
   "metadata": {
    "colab": {
     "base_uri": "https://localhost:8080/",
     "height": 1000
    },
    "colab_type": "code",
    "id": "QyK_P-QZfvrT",
    "outputId": "00c126d7-4714-41ce-b72c-99f8643bc6d6"
   },
   "outputs": [
    {
     "name": "stdout",
     "output_type": "stream",
     "text": [
      "Using pip 21.2.4 from /Users/oscarobel/opt/anaconda3/lib/python3.9/site-packages/pip (python 3.9)\n",
      "Collecting torch-scatter\n",
      "  Downloading torch_scatter-2.0.9.tar.gz (21 kB)\n",
      "    Running command python setup.py egg_info\n",
      "    /Users/oscarobel/opt/anaconda3/lib/python3.9/site-packages/setuptools/dist.py:757: UserWarning: Usage of dash-separated 'description-file' will not be supported in future versions. Please use the underscore name 'description_file' instead\n",
      "      warnings.warn(\n",
      "    Compiling without OpenMP...\n",
      "    Compiling without OpenMP...\n",
      "    Compiling without OpenMP...\n",
      "    Compiling without OpenMP...\n",
      "    running egg_info\n",
      "    creating /private/var/folders/s1/rmb66kbs1l17hcxhqrplz5tc0000gn/T/pip-pip-egg-info-r2bc7glb/torch_scatter.egg-info\n",
      "    writing /private/var/folders/s1/rmb66kbs1l17hcxhqrplz5tc0000gn/T/pip-pip-egg-info-r2bc7glb/torch_scatter.egg-info/PKG-INFO\n",
      "    writing dependency_links to /private/var/folders/s1/rmb66kbs1l17hcxhqrplz5tc0000gn/T/pip-pip-egg-info-r2bc7glb/torch_scatter.egg-info/dependency_links.txt\n",
      "    writing requirements to /private/var/folders/s1/rmb66kbs1l17hcxhqrplz5tc0000gn/T/pip-pip-egg-info-r2bc7glb/torch_scatter.egg-info/requires.txt\n",
      "    writing top-level names to /private/var/folders/s1/rmb66kbs1l17hcxhqrplz5tc0000gn/T/pip-pip-egg-info-r2bc7glb/torch_scatter.egg-info/top_level.txt\n",
      "    writing manifest file '/private/var/folders/s1/rmb66kbs1l17hcxhqrplz5tc0000gn/T/pip-pip-egg-info-r2bc7glb/torch_scatter.egg-info/SOURCES.txt'\n",
      "    reading manifest file '/private/var/folders/s1/rmb66kbs1l17hcxhqrplz5tc0000gn/T/pip-pip-egg-info-r2bc7glb/torch_scatter.egg-info/SOURCES.txt'\n",
      "    reading manifest template 'MANIFEST.in'\n",
      "    warning: no previously-included files matching '*' found under directory 'test'\n",
      "    adding license file 'LICENSE'\n",
      "    writing manifest file '/private/var/folders/s1/rmb66kbs1l17hcxhqrplz5tc0000gn/T/pip-pip-egg-info-r2bc7glb/torch_scatter.egg-info/SOURCES.txt'\n",
      "Building wheels for collected packages: torch-scatter\n",
      "  Running command /Users/oscarobel/opt/anaconda3/bin/python -u -c 'import io, os, sys, setuptools, tokenize; sys.argv[0] = '\"'\"'/private/var/folders/s1/rmb66kbs1l17hcxhqrplz5tc0000gn/T/pip-install-02xhikzu/torch-scatter_74d9fad645fb4213b8b7e29d596d1294/setup.py'\"'\"'; __file__='\"'\"'/private/var/folders/s1/rmb66kbs1l17hcxhqrplz5tc0000gn/T/pip-install-02xhikzu/torch-scatter_74d9fad645fb4213b8b7e29d596d1294/setup.py'\"'\"';f = getattr(tokenize, '\"'\"'open'\"'\"', open)(__file__) if os.path.exists(__file__) else io.StringIO('\"'\"'from setuptools import setup; setup()'\"'\"');code = f.read().replace('\"'\"'\\r\\n'\"'\"', '\"'\"'\\n'\"'\"');f.close();exec(compile(code, __file__, '\"'\"'exec'\"'\"'))' bdist_wheel -d /private/var/folders/s1/rmb66kbs1l17hcxhqrplz5tc0000gn/T/pip-wheel-6uqmy70j\n",
      "  Compiling without OpenMP...\n",
      "  Compiling without OpenMP...\n",
      "  Compiling without OpenMP...\n",
      "  Compiling without OpenMP...\n",
      "  /Users/oscarobel/opt/anaconda3/lib/python3.9/site-packages/setuptools/dist.py:757: UserWarning: Usage of dash-separated 'description-file' will not be supported in future versions. Please use the underscore name 'description_file' instead\n",
      "    warnings.warn(\n",
      "  running bdist_wheel\n",
      "  running build\n",
      "  running build_py\n",
      "  creating build\n",
      "  creating build/lib.macosx-10.9-x86_64-3.9\n",
      "  creating build/lib.macosx-10.9-x86_64-3.9/torch_scatter\n",
      "  copying torch_scatter/placeholder.py -> build/lib.macosx-10.9-x86_64-3.9/torch_scatter\n",
      "  copying torch_scatter/__init__.py -> build/lib.macosx-10.9-x86_64-3.9/torch_scatter\n",
      "  copying torch_scatter/segment_csr.py -> build/lib.macosx-10.9-x86_64-3.9/torch_scatter\n",
      "  copying torch_scatter/segment_coo.py -> build/lib.macosx-10.9-x86_64-3.9/torch_scatter\n",
      "  copying torch_scatter/utils.py -> build/lib.macosx-10.9-x86_64-3.9/torch_scatter\n",
      "  copying torch_scatter/scatter.py -> build/lib.macosx-10.9-x86_64-3.9/torch_scatter\n",
      "  creating build/lib.macosx-10.9-x86_64-3.9/torch_scatter/composite\n",
      "  copying torch_scatter/composite/std.py -> build/lib.macosx-10.9-x86_64-3.9/torch_scatter/composite\n",
      "  copying torch_scatter/composite/__init__.py -> build/lib.macosx-10.9-x86_64-3.9/torch_scatter/composite\n",
      "  copying torch_scatter/composite/logsumexp.py -> build/lib.macosx-10.9-x86_64-3.9/torch_scatter/composite\n",
      "  copying torch_scatter/composite/softmax.py -> build/lib.macosx-10.9-x86_64-3.9/torch_scatter/composite\n",
      "  running build_ext\n",
      "  building 'torch_scatter._scatter_cpu' extension\n",
      "  creating build/temp.macosx-10.9-x86_64-3.9\n",
      "  creating build/temp.macosx-10.9-x86_64-3.9/csrc\n",
      "  creating build/temp.macosx-10.9-x86_64-3.9/csrc/cpu\n",
      "  clang -Wno-unused-result -Wsign-compare -Wunreachable-code -DNDEBUG -fwrapv -O2 -Wall -fPIC -O2 -isystem /Users/oscarobel/opt/anaconda3/include -arch x86_64 -I/Users/oscarobel/opt/anaconda3/include -fPIC -O2 -isystem /Users/oscarobel/opt/anaconda3/include -arch x86_64 -Icsrc -I/Users/oscarobel/opt/anaconda3/lib/python3.9/site-packages/torch/include -I/Users/oscarobel/opt/anaconda3/lib/python3.9/site-packages/torch/include/torch/csrc/api/include -I/Users/oscarobel/opt/anaconda3/lib/python3.9/site-packages/torch/include/TH -I/Users/oscarobel/opt/anaconda3/lib/python3.9/site-packages/torch/include/THC -I/Users/oscarobel/opt/anaconda3/include/python3.9 -c csrc/cpu/scatter_cpu.cpp -o build/temp.macosx-10.9-x86_64-3.9/csrc/cpu/scatter_cpu.o -O2 -DTORCH_API_INCLUDE_EXTENSION_H -DPYBIND11_COMPILER_TYPE=\\\"_clang\\\" -DPYBIND11_STDLIB=\\\"_libcpp\\\" -DPYBIND11_BUILD_ABI=\\\"_cxxabi1002\\\" -DTORCH_EXTENSION_NAME=_scatter_cpu -D_GLIBCXX_USE_CXX11_ABI=0 -std=c++14\n",
      "\n",
      "  You have not agreed to the Xcode license agreements, please run 'sudo xcodebuild -license' from within a Terminal window to review and agree to the Xcode license agreements.\n",
      "  error: command '/usr/bin/clang' failed with exit code 69\n",
      "  Building wheel for torch-scatter (setup.py) ... \u001b[?25lerror\n",
      "\u001b[31m  ERROR: Failed building wheel for torch-scatter\u001b[0m\n",
      "\u001b[?25h  Running setup.py clean for torch-scatter\n",
      "  Running command /Users/oscarobel/opt/anaconda3/bin/python -u -c 'import io, os, sys, setuptools, tokenize; sys.argv[0] = '\"'\"'/private/var/folders/s1/rmb66kbs1l17hcxhqrplz5tc0000gn/T/pip-install-02xhikzu/torch-scatter_74d9fad645fb4213b8b7e29d596d1294/setup.py'\"'\"'; __file__='\"'\"'/private/var/folders/s1/rmb66kbs1l17hcxhqrplz5tc0000gn/T/pip-install-02xhikzu/torch-scatter_74d9fad645fb4213b8b7e29d596d1294/setup.py'\"'\"';f = getattr(tokenize, '\"'\"'open'\"'\"', open)(__file__) if os.path.exists(__file__) else io.StringIO('\"'\"'from setuptools import setup; setup()'\"'\"');code = f.read().replace('\"'\"'\\r\\n'\"'\"', '\"'\"'\\n'\"'\"');f.close();exec(compile(code, __file__, '\"'\"'exec'\"'\"'))' clean --all\n",
      "  Compiling without OpenMP...\n",
      "  Compiling without OpenMP...\n",
      "  Compiling without OpenMP...\n",
      "  Compiling without OpenMP...\n",
      "  /Users/oscarobel/opt/anaconda3/lib/python3.9/site-packages/setuptools/dist.py:757: UserWarning: Usage of dash-separated 'description-file' will not be supported in future versions. Please use the underscore name 'description_file' instead\n",
      "    warnings.warn(\n",
      "  running clean\n",
      "  removing 'build/temp.macosx-10.9-x86_64-3.9' (and everything under it)\n",
      "  removing 'build/lib.macosx-10.9-x86_64-3.9' (and everything under it)\n",
      "  'build/bdist.macosx-10.9-x86_64' does not exist -- can't clean it\n",
      "  'build/scripts-3.9' does not exist -- can't clean it\n",
      "  removing 'build'\n",
      "Failed to build torch-scatter\n",
      "Installing collected packages: torch-scatter\n",
      "    Running command /Users/oscarobel/opt/anaconda3/bin/python -u -c 'import io, os, sys, setuptools, tokenize; sys.argv[0] = '\"'\"'/private/var/folders/s1/rmb66kbs1l17hcxhqrplz5tc0000gn/T/pip-install-02xhikzu/torch-scatter_74d9fad645fb4213b8b7e29d596d1294/setup.py'\"'\"'; __file__='\"'\"'/private/var/folders/s1/rmb66kbs1l17hcxhqrplz5tc0000gn/T/pip-install-02xhikzu/torch-scatter_74d9fad645fb4213b8b7e29d596d1294/setup.py'\"'\"';f = getattr(tokenize, '\"'\"'open'\"'\"', open)(__file__) if os.path.exists(__file__) else io.StringIO('\"'\"'from setuptools import setup; setup()'\"'\"');code = f.read().replace('\"'\"'\\r\\n'\"'\"', '\"'\"'\\n'\"'\"');f.close();exec(compile(code, __file__, '\"'\"'exec'\"'\"'))' install --record /private/var/folders/s1/rmb66kbs1l17hcxhqrplz5tc0000gn/T/pip-record-x9tcnxby/install-record.txt --single-version-externally-managed --compile --install-headers /Users/oscarobel/opt/anaconda3/include/python3.9/torch-scatter\n"
     ]
    },
    {
     "name": "stdout",
     "output_type": "stream",
     "text": [
      "    Compiling without OpenMP...\n",
      "    Compiling without OpenMP...\n",
      "    Compiling without OpenMP...\n",
      "    Compiling without OpenMP...\n",
      "    /Users/oscarobel/opt/anaconda3/lib/python3.9/site-packages/setuptools/dist.py:757: UserWarning: Usage of dash-separated 'description-file' will not be supported in future versions. Please use the underscore name 'description_file' instead\n",
      "      warnings.warn(\n",
      "    running install\n",
      "    /Users/oscarobel/opt/anaconda3/lib/python3.9/site-packages/setuptools/command/install.py:34: SetuptoolsDeprecationWarning: setup.py install is deprecated. Use build and pip and other standards-based tools.\n",
      "      warnings.warn(\n",
      "    running build\n",
      "    running build_py\n",
      "    creating build\n",
      "    creating build/lib.macosx-10.9-x86_64-3.9\n",
      "    creating build/lib.macosx-10.9-x86_64-3.9/torch_scatter\n",
      "    copying torch_scatter/placeholder.py -> build/lib.macosx-10.9-x86_64-3.9/torch_scatter\n",
      "    copying torch_scatter/__init__.py -> build/lib.macosx-10.9-x86_64-3.9/torch_scatter\n",
      "    copying torch_scatter/segment_csr.py -> build/lib.macosx-10.9-x86_64-3.9/torch_scatter\n",
      "    copying torch_scatter/segment_coo.py -> build/lib.macosx-10.9-x86_64-3.9/torch_scatter\n",
      "    copying torch_scatter/utils.py -> build/lib.macosx-10.9-x86_64-3.9/torch_scatter\n",
      "    copying torch_scatter/scatter.py -> build/lib.macosx-10.9-x86_64-3.9/torch_scatter\n",
      "    creating build/lib.macosx-10.9-x86_64-3.9/torch_scatter/composite\n",
      "    copying torch_scatter/composite/std.py -> build/lib.macosx-10.9-x86_64-3.9/torch_scatter/composite\n",
      "    copying torch_scatter/composite/__init__.py -> build/lib.macosx-10.9-x86_64-3.9/torch_scatter/composite\n",
      "    copying torch_scatter/composite/logsumexp.py -> build/lib.macosx-10.9-x86_64-3.9/torch_scatter/composite\n",
      "    copying torch_scatter/composite/softmax.py -> build/lib.macosx-10.9-x86_64-3.9/torch_scatter/composite\n",
      "    running build_ext\n",
      "    building 'torch_scatter._scatter_cpu' extension\n",
      "    creating build/temp.macosx-10.9-x86_64-3.9\n",
      "    creating build/temp.macosx-10.9-x86_64-3.9/csrc\n",
      "    creating build/temp.macosx-10.9-x86_64-3.9/csrc/cpu\n",
      "    clang -Wno-unused-result -Wsign-compare -Wunreachable-code -DNDEBUG -fwrapv -O2 -Wall -fPIC -O2 -isystem /Users/oscarobel/opt/anaconda3/include -arch x86_64 -I/Users/oscarobel/opt/anaconda3/include -fPIC -O2 -isystem /Users/oscarobel/opt/anaconda3/include -arch x86_64 -Icsrc -I/Users/oscarobel/opt/anaconda3/lib/python3.9/site-packages/torch/include -I/Users/oscarobel/opt/anaconda3/lib/python3.9/site-packages/torch/include/torch/csrc/api/include -I/Users/oscarobel/opt/anaconda3/lib/python3.9/site-packages/torch/include/TH -I/Users/oscarobel/opt/anaconda3/lib/python3.9/site-packages/torch/include/THC -I/Users/oscarobel/opt/anaconda3/include/python3.9 -c csrc/cpu/scatter_cpu.cpp -o build/temp.macosx-10.9-x86_64-3.9/csrc/cpu/scatter_cpu.o -O2 -DTORCH_API_INCLUDE_EXTENSION_H -DPYBIND11_COMPILER_TYPE=\\\"_clang\\\" -DPYBIND11_STDLIB=\\\"_libcpp\\\" -DPYBIND11_BUILD_ABI=\\\"_cxxabi1002\\\" -DTORCH_EXTENSION_NAME=_scatter_cpu -D_GLIBCXX_USE_CXX11_ABI=0 -std=c++14\n",
      "\n",
      "    You have not agreed to the Xcode license agreements, please run 'sudo xcodebuild -license' from within a Terminal window to review and agree to the Xcode license agreements.\n",
      "    error: command '/usr/bin/clang' failed with exit code 69\n",
      "    Running setup.py install for torch-scatter ... \u001b[?25l\u001b[?25herror\n",
      "\u001b[31mERROR: Command errored out with exit status 1: /Users/oscarobel/opt/anaconda3/bin/python -u -c 'import io, os, sys, setuptools, tokenize; sys.argv[0] = '\"'\"'/private/var/folders/s1/rmb66kbs1l17hcxhqrplz5tc0000gn/T/pip-install-02xhikzu/torch-scatter_74d9fad645fb4213b8b7e29d596d1294/setup.py'\"'\"'; __file__='\"'\"'/private/var/folders/s1/rmb66kbs1l17hcxhqrplz5tc0000gn/T/pip-install-02xhikzu/torch-scatter_74d9fad645fb4213b8b7e29d596d1294/setup.py'\"'\"';f = getattr(tokenize, '\"'\"'open'\"'\"', open)(__file__) if os.path.exists(__file__) else io.StringIO('\"'\"'from setuptools import setup; setup()'\"'\"');code = f.read().replace('\"'\"'\\r\\n'\"'\"', '\"'\"'\\n'\"'\"');f.close();exec(compile(code, __file__, '\"'\"'exec'\"'\"'))' install --record /private/var/folders/s1/rmb66kbs1l17hcxhqrplz5tc0000gn/T/pip-record-x9tcnxby/install-record.txt --single-version-externally-managed --compile --install-headers /Users/oscarobel/opt/anaconda3/include/python3.9/torch-scatter Check the logs for full command output.\u001b[0m\n",
      "Using pip 21.2.4 from /Users/oscarobel/opt/anaconda3/lib/python3.9/site-packages/pip (python 3.9)\n",
      "Collecting torch-sparse\n",
      "  Downloading torch_sparse-0.6.15.tar.gz (2.1 MB)\n",
      "\u001b[K     |████████████████████████████████| 2.1 MB 5.3 MB/s eta 0:00:01\n",
      "    Running command python setup.py egg_info\n",
      "    Compiling without OpenMP...\n",
      "    Compiling without OpenMP...\n",
      "    Compiling without OpenMP...\n",
      "    Compiling without OpenMP...\n",
      "    Compiling without OpenMP...\n",
      "    Compiling without OpenMP...\n",
      "    Compiling without OpenMP...\n",
      "    Compiling without OpenMP...\n",
      "    Compiling without OpenMP...\n",
      "    Compiling without OpenMP...\n",
      "    Compiling without OpenMP...\n",
      "    Compiling without OpenMP...\n",
      "    Compiling without OpenMP...\n",
      "    running egg_info\n",
      "    creating /private/var/folders/s1/rmb66kbs1l17hcxhqrplz5tc0000gn/T/pip-pip-egg-info-oddmcmba/torch_sparse.egg-info\n",
      "    writing /private/var/folders/s1/rmb66kbs1l17hcxhqrplz5tc0000gn/T/pip-pip-egg-info-oddmcmba/torch_sparse.egg-info/PKG-INFO\n",
      "    writing dependency_links to /private/var/folders/s1/rmb66kbs1l17hcxhqrplz5tc0000gn/T/pip-pip-egg-info-oddmcmba/torch_sparse.egg-info/dependency_links.txt\n",
      "    writing requirements to /private/var/folders/s1/rmb66kbs1l17hcxhqrplz5tc0000gn/T/pip-pip-egg-info-oddmcmba/torch_sparse.egg-info/requires.txt\n",
      "    writing top-level names to /private/var/folders/s1/rmb66kbs1l17hcxhqrplz5tc0000gn/T/pip-pip-egg-info-oddmcmba/torch_sparse.egg-info/top_level.txt\n",
      "    writing manifest file '/private/var/folders/s1/rmb66kbs1l17hcxhqrplz5tc0000gn/T/pip-pip-egg-info-oddmcmba/torch_sparse.egg-info/SOURCES.txt'\n",
      "    reading manifest file '/private/var/folders/s1/rmb66kbs1l17hcxhqrplz5tc0000gn/T/pip-pip-egg-info-oddmcmba/torch_sparse.egg-info/SOURCES.txt'\n",
      "    reading manifest template 'MANIFEST.in'\n",
      "    warning: no previously-included files matching '*' found under directory 'test'\n",
      "    adding license file 'LICENSE'\n",
      "    writing manifest file '/private/var/folders/s1/rmb66kbs1l17hcxhqrplz5tc0000gn/T/pip-pip-egg-info-oddmcmba/torch_sparse.egg-info/SOURCES.txt'\n",
      "\u001b[?25hRequirement already satisfied: scipy in /Users/oscarobel/opt/anaconda3/lib/python3.9/site-packages (from torch-sparse) (1.7.3)\n",
      "Requirement already satisfied: numpy<1.23.0,>=1.16.5 in /Users/oscarobel/opt/anaconda3/lib/python3.9/site-packages (from scipy->torch-sparse) (1.21.5)\n",
      "Building wheels for collected packages: torch-sparse\n",
      "  Running command /Users/oscarobel/opt/anaconda3/bin/python -u -c 'import io, os, sys, setuptools, tokenize; sys.argv[0] = '\"'\"'/private/var/folders/s1/rmb66kbs1l17hcxhqrplz5tc0000gn/T/pip-install-p2mrs7lg/torch-sparse_1f7727620fa2466b8ce46bcc50bae851/setup.py'\"'\"'; __file__='\"'\"'/private/var/folders/s1/rmb66kbs1l17hcxhqrplz5tc0000gn/T/pip-install-p2mrs7lg/torch-sparse_1f7727620fa2466b8ce46bcc50bae851/setup.py'\"'\"';f = getattr(tokenize, '\"'\"'open'\"'\"', open)(__file__) if os.path.exists(__file__) else io.StringIO('\"'\"'from setuptools import setup; setup()'\"'\"');code = f.read().replace('\"'\"'\\r\\n'\"'\"', '\"'\"'\\n'\"'\"');f.close();exec(compile(code, __file__, '\"'\"'exec'\"'\"'))' bdist_wheel -d /private/var/folders/s1/rmb66kbs1l17hcxhqrplz5tc0000gn/T/pip-wheel-jednozyz\n",
      "  Compiling without OpenMP...\n",
      "  Compiling without OpenMP...\n",
      "  Compiling without OpenMP...\n",
      "  Compiling without OpenMP...\n",
      "  Compiling without OpenMP...\n",
      "  Compiling without OpenMP...\n",
      "  Compiling without OpenMP...\n",
      "  Compiling without OpenMP...\n",
      "  Compiling without OpenMP...\n",
      "  Compiling without OpenMP...\n",
      "  Compiling without OpenMP...\n",
      "  Compiling without OpenMP...\n",
      "  Compiling without OpenMP...\n",
      "  running bdist_wheel\n",
      "  running build\n",
      "  running build_py\n",
      "  creating build\n",
      "  creating build/lib.macosx-10.9-x86_64-3.9\n",
      "  creating build/lib.macosx-10.9-x86_64-3.9/torch_sparse\n",
      "  copying torch_sparse/matmul.py -> build/lib.macosx-10.9-x86_64-3.9/torch_sparse\n",
      "  copying torch_sparse/permute.py -> build/lib.macosx-10.9-x86_64-3.9/torch_sparse\n",
      "  copying torch_sparse/add.py -> build/lib.macosx-10.9-x86_64-3.9/torch_sparse\n",
      "  copying torch_sparse/reduce.py -> build/lib.macosx-10.9-x86_64-3.9/torch_sparse\n",
      "  copying torch_sparse/narrow.py -> build/lib.macosx-10.9-x86_64-3.9/torch_sparse\n",
      "  copying torch_sparse/masked_select.py -> build/lib.macosx-10.9-x86_64-3.9/torch_sparse\n",
      "  copying torch_sparse/cat.py -> build/lib.macosx-10.9-x86_64-3.9/torch_sparse\n",
      "  copying torch_sparse/eye.py -> build/lib.macosx-10.9-x86_64-3.9/torch_sparse\n",
      "  copying torch_sparse/convert.py -> build/lib.macosx-10.9-x86_64-3.9/torch_sparse\n",
      "  copying torch_sparse/coalesce.py -> build/lib.macosx-10.9-x86_64-3.9/torch_sparse\n",
      "  copying torch_sparse/__init__.py -> build/lib.macosx-10.9-x86_64-3.9/torch_sparse\n",
      "  copying torch_sparse/tensor.py -> build/lib.macosx-10.9-x86_64-3.9/torch_sparse\n",
      "  copying torch_sparse/bandwidth.py -> build/lib.macosx-10.9-x86_64-3.9/torch_sparse\n",
      "  copying torch_sparse/mul.py -> build/lib.macosx-10.9-x86_64-3.9/torch_sparse\n",
      "  copying torch_sparse/transpose.py -> build/lib.macosx-10.9-x86_64-3.9/torch_sparse\n",
      "  copying torch_sparse/utils.py -> build/lib.macosx-10.9-x86_64-3.9/torch_sparse\n",
      "  copying torch_sparse/diag.py -> build/lib.macosx-10.9-x86_64-3.9/torch_sparse\n",
      "  copying torch_sparse/rw.py -> build/lib.macosx-10.9-x86_64-3.9/torch_sparse\n",
      "  copying torch_sparse/storage.py -> build/lib.macosx-10.9-x86_64-3.9/torch_sparse\n",
      "  copying torch_sparse/sample.py -> build/lib.macosx-10.9-x86_64-3.9/torch_sparse\n",
      "  copying torch_sparse/spspmm.py -> build/lib.macosx-10.9-x86_64-3.9/torch_sparse\n",
      "  copying torch_sparse/index_select.py -> build/lib.macosx-10.9-x86_64-3.9/torch_sparse\n",
      "  copying torch_sparse/saint.py -> build/lib.macosx-10.9-x86_64-3.9/torch_sparse\n",
      "  copying torch_sparse/select.py -> build/lib.macosx-10.9-x86_64-3.9/torch_sparse\n",
      "  copying torch_sparse/spadd.py -> build/lib.macosx-10.9-x86_64-3.9/torch_sparse\n",
      "  copying torch_sparse/padding.py -> build/lib.macosx-10.9-x86_64-3.9/torch_sparse\n",
      "  copying torch_sparse/spmm.py -> build/lib.macosx-10.9-x86_64-3.9/torch_sparse\n",
      "  copying torch_sparse/metis.py -> build/lib.macosx-10.9-x86_64-3.9/torch_sparse\n",
      "  running egg_info\n"
     ]
    },
    {
     "name": "stdout",
     "output_type": "stream",
     "text": [
      "  writing torch_sparse.egg-info/PKG-INFO\n",
      "  writing dependency_links to torch_sparse.egg-info/dependency_links.txt\n",
      "  writing requirements to torch_sparse.egg-info/requires.txt\n",
      "  writing top-level names to torch_sparse.egg-info/top_level.txt\n",
      "  reading manifest file 'torch_sparse.egg-info/SOURCES.txt'\n",
      "  reading manifest template 'MANIFEST.in'\n",
      "  warning: no previously-included files matching '*' found under directory 'test'\n",
      "  adding license file 'LICENSE'\n",
      "  writing manifest file 'torch_sparse.egg-info/SOURCES.txt'\n",
      "  running build_ext\n",
      "  building 'torch_sparse._spspmm_cpu' extension\n",
      "  creating build/temp.macosx-10.9-x86_64-3.9\n",
      "  creating build/temp.macosx-10.9-x86_64-3.9/csrc\n",
      "  creating build/temp.macosx-10.9-x86_64-3.9/csrc/cpu\n",
      "  clang -Wno-unused-result -Wsign-compare -Wunreachable-code -DNDEBUG -fwrapv -O2 -Wall -fPIC -O2 -isystem /Users/oscarobel/opt/anaconda3/include -arch x86_64 -I/Users/oscarobel/opt/anaconda3/include -fPIC -O2 -isystem /Users/oscarobel/opt/anaconda3/include -arch x86_64 -DWITH_PYTHON -Icsrc -Ithird_party/parallel-hashmap -I/Users/oscarobel/opt/anaconda3/lib/python3.9/site-packages/torch/include -I/Users/oscarobel/opt/anaconda3/lib/python3.9/site-packages/torch/include/torch/csrc/api/include -I/Users/oscarobel/opt/anaconda3/lib/python3.9/site-packages/torch/include/TH -I/Users/oscarobel/opt/anaconda3/lib/python3.9/site-packages/torch/include/THC -I/Users/oscarobel/opt/anaconda3/include/python3.9 -c csrc/cpu/spspmm_cpu.cpp -o build/temp.macosx-10.9-x86_64-3.9/csrc/cpu/spspmm_cpu.o -O2 -Wno-sign-compare -DTORCH_API_INCLUDE_EXTENSION_H -DPYBIND11_COMPILER_TYPE=\\\"_clang\\\" -DPYBIND11_STDLIB=\\\"_libcpp\\\" -DPYBIND11_BUILD_ABI=\\\"_cxxabi1002\\\" -DTORCH_EXTENSION_NAME=_spspmm_cpu -D_GLIBCXX_USE_CXX11_ABI=0 -std=c++14\n",
      "\n",
      "  You have not agreed to the Xcode license agreements, please run 'sudo xcodebuild -license' from within a Terminal window to review and agree to the Xcode license agreements.\n",
      "  error: command '/usr/bin/clang' failed with exit code 69\n",
      "  Building wheel for torch-sparse (setup.py) ... \u001b[?25lerror\n",
      "\u001b[31m  ERROR: Failed building wheel for torch-sparse\u001b[0m\n",
      "\u001b[?25h  Running setup.py clean for torch-sparse\n",
      "  Running command /Users/oscarobel/opt/anaconda3/bin/python -u -c 'import io, os, sys, setuptools, tokenize; sys.argv[0] = '\"'\"'/private/var/folders/s1/rmb66kbs1l17hcxhqrplz5tc0000gn/T/pip-install-p2mrs7lg/torch-sparse_1f7727620fa2466b8ce46bcc50bae851/setup.py'\"'\"'; __file__='\"'\"'/private/var/folders/s1/rmb66kbs1l17hcxhqrplz5tc0000gn/T/pip-install-p2mrs7lg/torch-sparse_1f7727620fa2466b8ce46bcc50bae851/setup.py'\"'\"';f = getattr(tokenize, '\"'\"'open'\"'\"', open)(__file__) if os.path.exists(__file__) else io.StringIO('\"'\"'from setuptools import setup; setup()'\"'\"');code = f.read().replace('\"'\"'\\r\\n'\"'\"', '\"'\"'\\n'\"'\"');f.close();exec(compile(code, __file__, '\"'\"'exec'\"'\"'))' clean --all\n",
      "  Compiling without OpenMP...\n",
      "  Compiling without OpenMP...\n",
      "  Compiling without OpenMP...\n",
      "  Compiling without OpenMP...\n",
      "  Compiling without OpenMP...\n",
      "  Compiling without OpenMP...\n",
      "  Compiling without OpenMP...\n",
      "  Compiling without OpenMP...\n",
      "  Compiling without OpenMP...\n",
      "  Compiling without OpenMP...\n",
      "  Compiling without OpenMP...\n",
      "  Compiling without OpenMP...\n",
      "  Compiling without OpenMP...\n",
      "  running clean\n",
      "  removing 'build/temp.macosx-10.9-x86_64-3.9' (and everything under it)\n",
      "  removing 'build/lib.macosx-10.9-x86_64-3.9' (and everything under it)\n",
      "  'build/bdist.macosx-10.9-x86_64' does not exist -- can't clean it\n",
      "  'build/scripts-3.9' does not exist -- can't clean it\n",
      "  removing 'build'\n",
      "Failed to build torch-sparse\n",
      "Installing collected packages: torch-sparse\n",
      "    Running command /Users/oscarobel/opt/anaconda3/bin/python -u -c 'import io, os, sys, setuptools, tokenize; sys.argv[0] = '\"'\"'/private/var/folders/s1/rmb66kbs1l17hcxhqrplz5tc0000gn/T/pip-install-p2mrs7lg/torch-sparse_1f7727620fa2466b8ce46bcc50bae851/setup.py'\"'\"'; __file__='\"'\"'/private/var/folders/s1/rmb66kbs1l17hcxhqrplz5tc0000gn/T/pip-install-p2mrs7lg/torch-sparse_1f7727620fa2466b8ce46bcc50bae851/setup.py'\"'\"';f = getattr(tokenize, '\"'\"'open'\"'\"', open)(__file__) if os.path.exists(__file__) else io.StringIO('\"'\"'from setuptools import setup; setup()'\"'\"');code = f.read().replace('\"'\"'\\r\\n'\"'\"', '\"'\"'\\n'\"'\"');f.close();exec(compile(code, __file__, '\"'\"'exec'\"'\"'))' install --record /private/var/folders/s1/rmb66kbs1l17hcxhqrplz5tc0000gn/T/pip-record-1t_gj3_w/install-record.txt --single-version-externally-managed --compile --install-headers /Users/oscarobel/opt/anaconda3/include/python3.9/torch-sparse\n",
      "    Compiling without OpenMP...\n",
      "    Compiling without OpenMP...\n",
      "    Compiling without OpenMP...\n",
      "    Compiling without OpenMP...\n",
      "    Compiling without OpenMP...\n",
      "    Compiling without OpenMP...\n",
      "    Compiling without OpenMP...\n",
      "    Compiling without OpenMP...\n",
      "    Compiling without OpenMP...\n",
      "    Compiling without OpenMP...\n",
      "    Compiling without OpenMP...\n",
      "    Compiling without OpenMP...\n",
      "    Compiling without OpenMP...\n",
      "    running install\n",
      "    /Users/oscarobel/opt/anaconda3/lib/python3.9/site-packages/setuptools/command/install.py:34: SetuptoolsDeprecationWarning: setup.py install is deprecated. Use build and pip and other standards-based tools.\n",
      "      warnings.warn(\n",
      "    running build\n",
      "    running build_py\n",
      "    creating build\n",
      "    creating build/lib.macosx-10.9-x86_64-3.9\n",
      "    creating build/lib.macosx-10.9-x86_64-3.9/torch_sparse\n",
      "    copying torch_sparse/matmul.py -> build/lib.macosx-10.9-x86_64-3.9/torch_sparse\n",
      "    copying torch_sparse/permute.py -> build/lib.macosx-10.9-x86_64-3.9/torch_sparse\n",
      "    copying torch_sparse/add.py -> build/lib.macosx-10.9-x86_64-3.9/torch_sparse\n",
      "    copying torch_sparse/reduce.py -> build/lib.macosx-10.9-x86_64-3.9/torch_sparse\n",
      "    copying torch_sparse/narrow.py -> build/lib.macosx-10.9-x86_64-3.9/torch_sparse\n",
      "    copying torch_sparse/masked_select.py -> build/lib.macosx-10.9-x86_64-3.9/torch_sparse\n",
      "    copying torch_sparse/cat.py -> build/lib.macosx-10.9-x86_64-3.9/torch_sparse\n",
      "    copying torch_sparse/eye.py -> build/lib.macosx-10.9-x86_64-3.9/torch_sparse\n",
      "    copying torch_sparse/convert.py -> build/lib.macosx-10.9-x86_64-3.9/torch_sparse\n",
      "    copying torch_sparse/coalesce.py -> build/lib.macosx-10.9-x86_64-3.9/torch_sparse\n",
      "    copying torch_sparse/__init__.py -> build/lib.macosx-10.9-x86_64-3.9/torch_sparse\n",
      "    copying torch_sparse/tensor.py -> build/lib.macosx-10.9-x86_64-3.9/torch_sparse\n",
      "    copying torch_sparse/bandwidth.py -> build/lib.macosx-10.9-x86_64-3.9/torch_sparse\n",
      "    copying torch_sparse/mul.py -> build/lib.macosx-10.9-x86_64-3.9/torch_sparse\n",
      "    copying torch_sparse/transpose.py -> build/lib.macosx-10.9-x86_64-3.9/torch_sparse\n",
      "    copying torch_sparse/utils.py -> build/lib.macosx-10.9-x86_64-3.9/torch_sparse\n",
      "    copying torch_sparse/diag.py -> build/lib.macosx-10.9-x86_64-3.9/torch_sparse\n",
      "    copying torch_sparse/rw.py -> build/lib.macosx-10.9-x86_64-3.9/torch_sparse\n",
      "    copying torch_sparse/storage.py -> build/lib.macosx-10.9-x86_64-3.9/torch_sparse\n",
      "    copying torch_sparse/sample.py -> build/lib.macosx-10.9-x86_64-3.9/torch_sparse\n",
      "    copying torch_sparse/spspmm.py -> build/lib.macosx-10.9-x86_64-3.9/torch_sparse\n",
      "    copying torch_sparse/index_select.py -> build/lib.macosx-10.9-x86_64-3.9/torch_sparse\n",
      "    copying torch_sparse/saint.py -> build/lib.macosx-10.9-x86_64-3.9/torch_sparse\n",
      "    copying torch_sparse/select.py -> build/lib.macosx-10.9-x86_64-3.9/torch_sparse\n",
      "    copying torch_sparse/spadd.py -> build/lib.macosx-10.9-x86_64-3.9/torch_sparse\n",
      "    copying torch_sparse/padding.py -> build/lib.macosx-10.9-x86_64-3.9/torch_sparse\n",
      "    copying torch_sparse/spmm.py -> build/lib.macosx-10.9-x86_64-3.9/torch_sparse\n",
      "    copying torch_sparse/metis.py -> build/lib.macosx-10.9-x86_64-3.9/torch_sparse\n",
      "    running egg_info\n",
      "    writing torch_sparse.egg-info/PKG-INFO\n",
      "    writing dependency_links to torch_sparse.egg-info/dependency_links.txt\n",
      "    writing requirements to torch_sparse.egg-info/requires.txt\n",
      "    writing top-level names to torch_sparse.egg-info/top_level.txt\n",
      "    reading manifest file 'torch_sparse.egg-info/SOURCES.txt'\n",
      "    reading manifest template 'MANIFEST.in'\n",
      "    warning: no previously-included files matching '*' found under directory 'test'\n",
      "    adding license file 'LICENSE'\n",
      "    writing manifest file 'torch_sparse.egg-info/SOURCES.txt'\n",
      "    running build_ext\n",
      "    building 'torch_sparse._spspmm_cpu' extension\n",
      "    creating build/temp.macosx-10.9-x86_64-3.9\n",
      "    creating build/temp.macosx-10.9-x86_64-3.9/csrc\n",
      "    creating build/temp.macosx-10.9-x86_64-3.9/csrc/cpu\n",
      "    clang -Wno-unused-result -Wsign-compare -Wunreachable-code -DNDEBUG -fwrapv -O2 -Wall -fPIC -O2 -isystem /Users/oscarobel/opt/anaconda3/include -arch x86_64 -I/Users/oscarobel/opt/anaconda3/include -fPIC -O2 -isystem /Users/oscarobel/opt/anaconda3/include -arch x86_64 -DWITH_PYTHON -Icsrc -Ithird_party/parallel-hashmap -I/Users/oscarobel/opt/anaconda3/lib/python3.9/site-packages/torch/include -I/Users/oscarobel/opt/anaconda3/lib/python3.9/site-packages/torch/include/torch/csrc/api/include -I/Users/oscarobel/opt/anaconda3/lib/python3.9/site-packages/torch/include/TH -I/Users/oscarobel/opt/anaconda3/lib/python3.9/site-packages/torch/include/THC -I/Users/oscarobel/opt/anaconda3/include/python3.9 -c csrc/cpu/spspmm_cpu.cpp -o build/temp.macosx-10.9-x86_64-3.9/csrc/cpu/spspmm_cpu.o -O2 -Wno-sign-compare -DTORCH_API_INCLUDE_EXTENSION_H -DPYBIND11_COMPILER_TYPE=\\\"_clang\\\" -DPYBIND11_STDLIB=\\\"_libcpp\\\" -DPYBIND11_BUILD_ABI=\\\"_cxxabi1002\\\" -DTORCH_EXTENSION_NAME=_spspmm_cpu -D_GLIBCXX_USE_CXX11_ABI=0 -std=c++14\n"
     ]
    },
    {
     "name": "stdout",
     "output_type": "stream",
     "text": [
      "\n",
      "    You have not agreed to the Xcode license agreements, please run 'sudo xcodebuild -license' from within a Terminal window to review and agree to the Xcode license agreements.\n",
      "    error: command '/usr/bin/clang' failed with exit code 69\n",
      "    Running setup.py install for torch-sparse ... \u001b[?25l\u001b[?25herror\n",
      "\u001b[31mERROR: Command errored out with exit status 1: /Users/oscarobel/opt/anaconda3/bin/python -u -c 'import io, os, sys, setuptools, tokenize; sys.argv[0] = '\"'\"'/private/var/folders/s1/rmb66kbs1l17hcxhqrplz5tc0000gn/T/pip-install-p2mrs7lg/torch-sparse_1f7727620fa2466b8ce46bcc50bae851/setup.py'\"'\"'; __file__='\"'\"'/private/var/folders/s1/rmb66kbs1l17hcxhqrplz5tc0000gn/T/pip-install-p2mrs7lg/torch-sparse_1f7727620fa2466b8ce46bcc50bae851/setup.py'\"'\"';f = getattr(tokenize, '\"'\"'open'\"'\"', open)(__file__) if os.path.exists(__file__) else io.StringIO('\"'\"'from setuptools import setup; setup()'\"'\"');code = f.read().replace('\"'\"'\\r\\n'\"'\"', '\"'\"'\\n'\"'\"');f.close();exec(compile(code, __file__, '\"'\"'exec'\"'\"'))' install --record /private/var/folders/s1/rmb66kbs1l17hcxhqrplz5tc0000gn/T/pip-record-1t_gj3_w/install-record.txt --single-version-externally-managed --compile --install-headers /Users/oscarobel/opt/anaconda3/include/python3.9/torch-sparse Check the logs for full command output.\u001b[0m\n",
      "Using pip 21.2.4 from /Users/oscarobel/opt/anaconda3/lib/python3.9/site-packages/pip (python 3.9)\n",
      "Collecting torch-cluster\n",
      "  Downloading torch_cluster-1.6.0.tar.gz (43 kB)\n",
      "\u001b[K     |████████████████████████████████| 43 kB 2.1 MB/s eta 0:00:01\n",
      "    Running command python setup.py egg_info\n",
      "    Compiling without OpenMP...\n",
      "    Compiling without OpenMP...\n",
      "    Compiling without OpenMP...\n",
      "    Compiling without OpenMP...\n",
      "    Compiling without OpenMP...\n",
      "    Compiling without OpenMP...\n",
      "    Compiling without OpenMP...\n",
      "    Compiling without OpenMP...\n",
      "    Compiling without OpenMP...\n",
      "    running egg_info\n",
      "    creating /private/var/folders/s1/rmb66kbs1l17hcxhqrplz5tc0000gn/T/pip-pip-egg-info-4im3eknf/torch_cluster.egg-info\n",
      "    writing /private/var/folders/s1/rmb66kbs1l17hcxhqrplz5tc0000gn/T/pip-pip-egg-info-4im3eknf/torch_cluster.egg-info/PKG-INFO\n",
      "    writing dependency_links to /private/var/folders/s1/rmb66kbs1l17hcxhqrplz5tc0000gn/T/pip-pip-egg-info-4im3eknf/torch_cluster.egg-info/dependency_links.txt\n",
      "    writing requirements to /private/var/folders/s1/rmb66kbs1l17hcxhqrplz5tc0000gn/T/pip-pip-egg-info-4im3eknf/torch_cluster.egg-info/requires.txt\n",
      "    writing top-level names to /private/var/folders/s1/rmb66kbs1l17hcxhqrplz5tc0000gn/T/pip-pip-egg-info-4im3eknf/torch_cluster.egg-info/top_level.txt\n",
      "    writing manifest file '/private/var/folders/s1/rmb66kbs1l17hcxhqrplz5tc0000gn/T/pip-pip-egg-info-4im3eknf/torch_cluster.egg-info/SOURCES.txt'\n",
      "    reading manifest file '/private/var/folders/s1/rmb66kbs1l17hcxhqrplz5tc0000gn/T/pip-pip-egg-info-4im3eknf/torch_cluster.egg-info/SOURCES.txt'\n",
      "    reading manifest template 'MANIFEST.in'\n",
      "    warning: no previously-included files matching '*' found under directory 'test'\n",
      "    adding license file 'LICENSE'\n",
      "    writing manifest file '/private/var/folders/s1/rmb66kbs1l17hcxhqrplz5tc0000gn/T/pip-pip-egg-info-4im3eknf/torch_cluster.egg-info/SOURCES.txt'\n",
      "\u001b[?25hBuilding wheels for collected packages: torch-cluster\n",
      "  Running command /Users/oscarobel/opt/anaconda3/bin/python -u -c 'import io, os, sys, setuptools, tokenize; sys.argv[0] = '\"'\"'/private/var/folders/s1/rmb66kbs1l17hcxhqrplz5tc0000gn/T/pip-install-leg01ga5/torch-cluster_993af38c0f5242ef915fe6f690b13e71/setup.py'\"'\"'; __file__='\"'\"'/private/var/folders/s1/rmb66kbs1l17hcxhqrplz5tc0000gn/T/pip-install-leg01ga5/torch-cluster_993af38c0f5242ef915fe6f690b13e71/setup.py'\"'\"';f = getattr(tokenize, '\"'\"'open'\"'\"', open)(__file__) if os.path.exists(__file__) else io.StringIO('\"'\"'from setuptools import setup; setup()'\"'\"');code = f.read().replace('\"'\"'\\r\\n'\"'\"', '\"'\"'\\n'\"'\"');f.close();exec(compile(code, __file__, '\"'\"'exec'\"'\"'))' bdist_wheel -d /private/var/folders/s1/rmb66kbs1l17hcxhqrplz5tc0000gn/T/pip-wheel-9p81r5as\n",
      "  Compiling without OpenMP...\n",
      "  Compiling without OpenMP...\n",
      "  Compiling without OpenMP...\n",
      "  Compiling without OpenMP...\n",
      "  Compiling without OpenMP...\n",
      "  Compiling without OpenMP...\n",
      "  Compiling without OpenMP...\n",
      "  Compiling without OpenMP...\n",
      "  Compiling without OpenMP...\n",
      "  running bdist_wheel\n",
      "  running build\n",
      "  running build_py\n",
      "  creating build\n",
      "  creating build/lib.macosx-10.9-x86_64-3.9\n",
      "  creating build/lib.macosx-10.9-x86_64-3.9/torch_cluster\n",
      "  copying torch_cluster/grid.py -> build/lib.macosx-10.9-x86_64-3.9/torch_cluster\n",
      "  copying torch_cluster/fps.py -> build/lib.macosx-10.9-x86_64-3.9/torch_cluster\n",
      "  copying torch_cluster/__init__.py -> build/lib.macosx-10.9-x86_64-3.9/torch_cluster\n",
      "  copying torch_cluster/graclus.py -> build/lib.macosx-10.9-x86_64-3.9/torch_cluster\n",
      "  copying torch_cluster/rw.py -> build/lib.macosx-10.9-x86_64-3.9/torch_cluster\n",
      "  copying torch_cluster/radius.py -> build/lib.macosx-10.9-x86_64-3.9/torch_cluster\n",
      "  copying torch_cluster/sampler.py -> build/lib.macosx-10.9-x86_64-3.9/torch_cluster\n",
      "  copying torch_cluster/knn.py -> build/lib.macosx-10.9-x86_64-3.9/torch_cluster\n",
      "  copying torch_cluster/nearest.py -> build/lib.macosx-10.9-x86_64-3.9/torch_cluster\n",
      "  running egg_info\n",
      "  writing torch_cluster.egg-info/PKG-INFO\n",
      "  writing dependency_links to torch_cluster.egg-info/dependency_links.txt\n",
      "  writing requirements to torch_cluster.egg-info/requires.txt\n",
      "  writing top-level names to torch_cluster.egg-info/top_level.txt\n",
      "  reading manifest file 'torch_cluster.egg-info/SOURCES.txt'\n",
      "  reading manifest template 'MANIFEST.in'\n",
      "  warning: no previously-included files matching '*' found under directory 'test'\n",
      "  adding license file 'LICENSE'\n",
      "  writing manifest file 'torch_cluster.egg-info/SOURCES.txt'\n",
      "  running build_ext\n",
      "  building 'torch_cluster._version_cpu' extension\n",
      "  creating build/temp.macosx-10.9-x86_64-3.9\n",
      "  creating build/temp.macosx-10.9-x86_64-3.9/csrc\n",
      "  clang -Wno-unused-result -Wsign-compare -Wunreachable-code -DNDEBUG -fwrapv -O2 -Wall -fPIC -O2 -isystem /Users/oscarobel/opt/anaconda3/include -arch x86_64 -I/Users/oscarobel/opt/anaconda3/include -fPIC -O2 -isystem /Users/oscarobel/opt/anaconda3/include -arch x86_64 -Icsrc -I/Users/oscarobel/opt/anaconda3/lib/python3.9/site-packages/torch/include -I/Users/oscarobel/opt/anaconda3/lib/python3.9/site-packages/torch/include/torch/csrc/api/include -I/Users/oscarobel/opt/anaconda3/lib/python3.9/site-packages/torch/include/TH -I/Users/oscarobel/opt/anaconda3/lib/python3.9/site-packages/torch/include/THC -I/Users/oscarobel/opt/anaconda3/include/python3.9 -c csrc/version.cpp -o build/temp.macosx-10.9-x86_64-3.9/csrc/version.o -O2 -Wno-sign-compare -DTORCH_API_INCLUDE_EXTENSION_H -DPYBIND11_COMPILER_TYPE=\\\"_clang\\\" -DPYBIND11_STDLIB=\\\"_libcpp\\\" -DPYBIND11_BUILD_ABI=\\\"_cxxabi1002\\\" -DTORCH_EXTENSION_NAME=_version_cpu -D_GLIBCXX_USE_CXX11_ABI=0 -std=c++14\n",
      "\n",
      "  You have not agreed to the Xcode license agreements, please run 'sudo xcodebuild -license' from within a Terminal window to review and agree to the Xcode license agreements.\n",
      "  error: command '/usr/bin/clang' failed with exit code 69\n",
      "  Building wheel for torch-cluster (setup.py) ... \u001b[?25lerror\n",
      "\u001b[31m  ERROR: Failed building wheel for torch-cluster\u001b[0m\n",
      "\u001b[?25h  Running setup.py clean for torch-cluster\n",
      "  Running command /Users/oscarobel/opt/anaconda3/bin/python -u -c 'import io, os, sys, setuptools, tokenize; sys.argv[0] = '\"'\"'/private/var/folders/s1/rmb66kbs1l17hcxhqrplz5tc0000gn/T/pip-install-leg01ga5/torch-cluster_993af38c0f5242ef915fe6f690b13e71/setup.py'\"'\"'; __file__='\"'\"'/private/var/folders/s1/rmb66kbs1l17hcxhqrplz5tc0000gn/T/pip-install-leg01ga5/torch-cluster_993af38c0f5242ef915fe6f690b13e71/setup.py'\"'\"';f = getattr(tokenize, '\"'\"'open'\"'\"', open)(__file__) if os.path.exists(__file__) else io.StringIO('\"'\"'from setuptools import setup; setup()'\"'\"');code = f.read().replace('\"'\"'\\r\\n'\"'\"', '\"'\"'\\n'\"'\"');f.close();exec(compile(code, __file__, '\"'\"'exec'\"'\"'))' clean --all\n",
      "  Compiling without OpenMP...\n",
      "  Compiling without OpenMP...\n",
      "  Compiling without OpenMP...\n",
      "  Compiling without OpenMP...\n",
      "  Compiling without OpenMP...\n",
      "  Compiling without OpenMP...\n",
      "  Compiling without OpenMP...\n",
      "  Compiling without OpenMP...\n",
      "  Compiling without OpenMP...\n"
     ]
    },
    {
     "name": "stdout",
     "output_type": "stream",
     "text": [
      "  running clean\n",
      "  removing 'build/temp.macosx-10.9-x86_64-3.9' (and everything under it)\n",
      "  removing 'build/lib.macosx-10.9-x86_64-3.9' (and everything under it)\n",
      "  'build/bdist.macosx-10.9-x86_64' does not exist -- can't clean it\n",
      "  'build/scripts-3.9' does not exist -- can't clean it\n",
      "  removing 'build'\n",
      "Failed to build torch-cluster\n",
      "Installing collected packages: torch-cluster\n",
      "    Running command /Users/oscarobel/opt/anaconda3/bin/python -u -c 'import io, os, sys, setuptools, tokenize; sys.argv[0] = '\"'\"'/private/var/folders/s1/rmb66kbs1l17hcxhqrplz5tc0000gn/T/pip-install-leg01ga5/torch-cluster_993af38c0f5242ef915fe6f690b13e71/setup.py'\"'\"'; __file__='\"'\"'/private/var/folders/s1/rmb66kbs1l17hcxhqrplz5tc0000gn/T/pip-install-leg01ga5/torch-cluster_993af38c0f5242ef915fe6f690b13e71/setup.py'\"'\"';f = getattr(tokenize, '\"'\"'open'\"'\"', open)(__file__) if os.path.exists(__file__) else io.StringIO('\"'\"'from setuptools import setup; setup()'\"'\"');code = f.read().replace('\"'\"'\\r\\n'\"'\"', '\"'\"'\\n'\"'\"');f.close();exec(compile(code, __file__, '\"'\"'exec'\"'\"'))' install --record /private/var/folders/s1/rmb66kbs1l17hcxhqrplz5tc0000gn/T/pip-record-cznozw4m/install-record.txt --single-version-externally-managed --compile --install-headers /Users/oscarobel/opt/anaconda3/include/python3.9/torch-cluster\n",
      "    Compiling without OpenMP...\n",
      "    Compiling without OpenMP...\n",
      "    Compiling without OpenMP...\n",
      "    Compiling without OpenMP...\n",
      "    Compiling without OpenMP...\n",
      "    Compiling without OpenMP...\n",
      "    Compiling without OpenMP...\n",
      "    Compiling without OpenMP...\n",
      "    Compiling without OpenMP...\n",
      "    running install\n",
      "    /Users/oscarobel/opt/anaconda3/lib/python3.9/site-packages/setuptools/command/install.py:34: SetuptoolsDeprecationWarning: setup.py install is deprecated. Use build and pip and other standards-based tools.\n",
      "      warnings.warn(\n",
      "    running build\n",
      "    running build_py\n",
      "    creating build\n",
      "    creating build/lib.macosx-10.9-x86_64-3.9\n",
      "    creating build/lib.macosx-10.9-x86_64-3.9/torch_cluster\n",
      "    copying torch_cluster/grid.py -> build/lib.macosx-10.9-x86_64-3.9/torch_cluster\n",
      "    copying torch_cluster/fps.py -> build/lib.macosx-10.9-x86_64-3.9/torch_cluster\n",
      "    copying torch_cluster/__init__.py -> build/lib.macosx-10.9-x86_64-3.9/torch_cluster\n",
      "    copying torch_cluster/graclus.py -> build/lib.macosx-10.9-x86_64-3.9/torch_cluster\n",
      "    copying torch_cluster/rw.py -> build/lib.macosx-10.9-x86_64-3.9/torch_cluster\n",
      "    copying torch_cluster/radius.py -> build/lib.macosx-10.9-x86_64-3.9/torch_cluster\n",
      "    copying torch_cluster/sampler.py -> build/lib.macosx-10.9-x86_64-3.9/torch_cluster\n",
      "    copying torch_cluster/knn.py -> build/lib.macosx-10.9-x86_64-3.9/torch_cluster\n",
      "    copying torch_cluster/nearest.py -> build/lib.macosx-10.9-x86_64-3.9/torch_cluster\n",
      "    running egg_info\n",
      "    writing torch_cluster.egg-info/PKG-INFO\n",
      "    writing dependency_links to torch_cluster.egg-info/dependency_links.txt\n",
      "    writing requirements to torch_cluster.egg-info/requires.txt\n",
      "    writing top-level names to torch_cluster.egg-info/top_level.txt\n",
      "    reading manifest file 'torch_cluster.egg-info/SOURCES.txt'\n",
      "    reading manifest template 'MANIFEST.in'\n",
      "    warning: no previously-included files matching '*' found under directory 'test'\n",
      "    adding license file 'LICENSE'\n",
      "    writing manifest file 'torch_cluster.egg-info/SOURCES.txt'\n",
      "    running build_ext\n",
      "    building 'torch_cluster._version_cpu' extension\n",
      "    creating build/temp.macosx-10.9-x86_64-3.9\n",
      "    creating build/temp.macosx-10.9-x86_64-3.9/csrc\n",
      "    clang -Wno-unused-result -Wsign-compare -Wunreachable-code -DNDEBUG -fwrapv -O2 -Wall -fPIC -O2 -isystem /Users/oscarobel/opt/anaconda3/include -arch x86_64 -I/Users/oscarobel/opt/anaconda3/include -fPIC -O2 -isystem /Users/oscarobel/opt/anaconda3/include -arch x86_64 -Icsrc -I/Users/oscarobel/opt/anaconda3/lib/python3.9/site-packages/torch/include -I/Users/oscarobel/opt/anaconda3/lib/python3.9/site-packages/torch/include/torch/csrc/api/include -I/Users/oscarobel/opt/anaconda3/lib/python3.9/site-packages/torch/include/TH -I/Users/oscarobel/opt/anaconda3/lib/python3.9/site-packages/torch/include/THC -I/Users/oscarobel/opt/anaconda3/include/python3.9 -c csrc/version.cpp -o build/temp.macosx-10.9-x86_64-3.9/csrc/version.o -O2 -Wno-sign-compare -DTORCH_API_INCLUDE_EXTENSION_H -DPYBIND11_COMPILER_TYPE=\\\"_clang\\\" -DPYBIND11_STDLIB=\\\"_libcpp\\\" -DPYBIND11_BUILD_ABI=\\\"_cxxabi1002\\\" -DTORCH_EXTENSION_NAME=_version_cpu -D_GLIBCXX_USE_CXX11_ABI=0 -std=c++14\n",
      "\n",
      "    You have not agreed to the Xcode license agreements, please run 'sudo xcodebuild -license' from within a Terminal window to review and agree to the Xcode license agreements.\n",
      "    error: command '/usr/bin/clang' failed with exit code 69\n",
      "    Running setup.py install for torch-cluster ... \u001b[?25l\u001b[?25herror\n",
      "\u001b[31mERROR: Command errored out with exit status 1: /Users/oscarobel/opt/anaconda3/bin/python -u -c 'import io, os, sys, setuptools, tokenize; sys.argv[0] = '\"'\"'/private/var/folders/s1/rmb66kbs1l17hcxhqrplz5tc0000gn/T/pip-install-leg01ga5/torch-cluster_993af38c0f5242ef915fe6f690b13e71/setup.py'\"'\"'; __file__='\"'\"'/private/var/folders/s1/rmb66kbs1l17hcxhqrplz5tc0000gn/T/pip-install-leg01ga5/torch-cluster_993af38c0f5242ef915fe6f690b13e71/setup.py'\"'\"';f = getattr(tokenize, '\"'\"'open'\"'\"', open)(__file__) if os.path.exists(__file__) else io.StringIO('\"'\"'from setuptools import setup; setup()'\"'\"');code = f.read().replace('\"'\"'\\r\\n'\"'\"', '\"'\"'\\n'\"'\"');f.close();exec(compile(code, __file__, '\"'\"'exec'\"'\"'))' install --record /private/var/folders/s1/rmb66kbs1l17hcxhqrplz5tc0000gn/T/pip-record-cznozw4m/install-record.txt --single-version-externally-managed --compile --install-headers /Users/oscarobel/opt/anaconda3/include/python3.9/torch-cluster Check the logs for full command output.\u001b[0m\n",
      "zsh:1: unknown sort specifier\n",
      "Requirement already satisfied: torch-geometric in /Users/oscarobel/opt/anaconda3/lib/python3.9/site-packages (2.1.0.post1)\n",
      "Requirement already satisfied: jinja2 in /Users/oscarobel/opt/anaconda3/lib/python3.9/site-packages (from torch-geometric) (2.11.3)\n",
      "Requirement already satisfied: requests in /Users/oscarobel/opt/anaconda3/lib/python3.9/site-packages (from torch-geometric) (2.27.1)\n",
      "Requirement already satisfied: tqdm in /Users/oscarobel/opt/anaconda3/lib/python3.9/site-packages (from torch-geometric) (4.64.0)\n",
      "Requirement already satisfied: scikit-learn in /Users/oscarobel/opt/anaconda3/lib/python3.9/site-packages (from torch-geometric) (1.0.2)\n",
      "Requirement already satisfied: pyparsing in /Users/oscarobel/opt/anaconda3/lib/python3.9/site-packages (from torch-geometric) (3.0.4)\n",
      "Requirement already satisfied: numpy in /Users/oscarobel/opt/anaconda3/lib/python3.9/site-packages (from torch-geometric) (1.21.5)\n",
      "Requirement already satisfied: scipy in /Users/oscarobel/opt/anaconda3/lib/python3.9/site-packages (from torch-geometric) (1.7.3)\n",
      "Requirement already satisfied: MarkupSafe>=0.23 in /Users/oscarobel/opt/anaconda3/lib/python3.9/site-packages (from jinja2->torch-geometric) (2.0.1)\n",
      "Requirement already satisfied: idna<4,>=2.5 in /Users/oscarobel/opt/anaconda3/lib/python3.9/site-packages (from requests->torch-geometric) (3.3)\n",
      "Requirement already satisfied: urllib3<1.27,>=1.21.1 in /Users/oscarobel/opt/anaconda3/lib/python3.9/site-packages (from requests->torch-geometric) (1.26.9)\n",
      "Requirement already satisfied: certifi>=2017.4.17 in /Users/oscarobel/opt/anaconda3/lib/python3.9/site-packages (from requests->torch-geometric) (2021.10.8)\n",
      "Requirement already satisfied: charset-normalizer~=2.0.0 in /Users/oscarobel/opt/anaconda3/lib/python3.9/site-packages (from requests->torch-geometric) (2.0.4)\n",
      "Requirement already satisfied: joblib>=0.11 in /Users/oscarobel/opt/anaconda3/lib/python3.9/site-packages (from scikit-learn->torch-geometric) (1.1.0)\n",
      "Requirement already satisfied: threadpoolctl>=2.0.0 in /Users/oscarobel/opt/anaconda3/lib/python3.9/site-packages (from scikit-learn->torch-geometric) (2.2.0)\n"
     ]
    }
   ],
   "source": [
    "#Install PyTorch Geometry \n",
    "! pip install --verbose --no-cache-dir torch-scatter\n",
    "! pip install --verbose --no-cache-dir torch-sparse\n",
    "! pip install --verbose --no-cache-dir torch-cluster\n",
    "! pip install --verbose --no-cache-dir torch-spline-conv (optional)\n",
    "! pip install torch-geometric"
   ]
  },
  {
   "cell_type": "code",
   "execution_count": null,
   "metadata": {
    "colab": {
     "base_uri": "https://localhost:8080/",
     "height": 1000
    },
    "colab_type": "code",
    "id": "mmiMJIP-Mz9k",
    "outputId": "0438fe8c-dc44-446e-888b-54579fc4a27c"
   },
   "outputs": [
    {
     "name": "stdout",
     "output_type": "stream",
     "text": [
      "Collecting package metadata (current_repodata.json): ...working... "
     ]
    }
   ],
   "source": [
    "# Install RDKit\n",
    "# takes 2-3 minutes\n",
    "#!wget -c https://repo.continuum.io/miniconda/Miniconda3-latest-Linux-x86_64.sh\n",
    "#!chmod +x Miniconda3-latest-Linux-x86_64.sh\n",
    "#!time bash ./Miniconda3-latest-Linux-x86_64.sh -b -f -p /usr/local\n",
    "!time conda install -q -y -c conda-forge rdkit"
   ]
  },
  {
   "cell_type": "markdown",
   "metadata": {
    "colab_type": "text",
    "id": "ZXqKBWIOgvY5"
   },
   "source": [
    "# Regular Imports"
   ]
  },
  {
   "cell_type": "code",
   "execution_count": null,
   "metadata": {
    "colab": {},
    "colab_type": "code",
    "id": "0-oG_ZwSYv2p"
   },
   "outputs": [],
   "source": [
    "from __future__ import division\n",
    "from __future__ import unicode_literals\n",
    "\n",
    "import sys\n",
    "import random \n",
    "import re\n",
    "\n",
    "sys.path.append('/usr/local/lib/python3.7/site-packages/')\n",
    "from rdkit import Chem\n",
    "from rdkit.Chem import Draw\n",
    "from rdkit.Chem.Draw import IPythonConsole\n",
    "\n",
    "import numpy as np\n",
    "import pandas as pd\n",
    "import matplotlib.pyplot as plt\n",
    "import multiprocessing\n",
    "import logging\n",
    "import torch\n",
    "#from torch_geometric.data import Data\n",
    "from torch_geometric.data import DataLoader\n",
    "\n",
    "\n",
    "from sklearn.model_selection import train_test_split\n",
    "\n",
    "\n",
    "from IPython.display import SVG\n",
    "from itertools import product\n",
    "import copy"
   ]
  },
  {
   "cell_type": "markdown",
   "metadata": {
    "colab_type": "text",
    "id": "AA89b1hI_J6r"
   },
   "source": [
    "# Create Graphs"
   ]
  },
  {
   "cell_type": "code",
   "execution_count": null,
   "metadata": {
    "colab": {},
    "colab_type": "code",
    "id": "terIh9SGYg6T"
   },
   "outputs": [],
   "source": [
    "import numpy as np\n",
    "import multiprocessing\n",
    "import logging\n",
    "import torch\n",
    "from torch_geometric.data import Data\n",
    "\n",
    "def one_of_k_encoding(x, allowable_set):\n",
    "    if x not in allowable_set:\n",
    "        raise Exception(\"input {0} not in allowable set{1}:\".format(\n",
    "            x, allowable_set))\n",
    "    return list(map(lambda s: x == s, allowable_set))\n",
    " \n",
    "\n",
    "def one_of_k_encoding_unk(x, allowable_set):\n",
    "    \"\"\"Maps inputs not in the allowable set to the last element.\"\"\"\n",
    "    if x not in allowable_set:\n",
    "        x = allowable_set[-1]\n",
    "    return list(map(lambda s: x == s, allowable_set))\n",
    " \n",
    "\n",
    "def get_intervals(l):\n",
    "    \"\"\"For list of lists, gets the cumulative products of the lengths\"\"\"\n",
    "    intervals = len(l) * [0]\n",
    "    # Initalize with 1\n",
    "    intervals[0] = 1\n",
    "    for k in range(1, len(l)):\n",
    "        intervals[k] = (len(l[k]) + 1) * intervals[k - 1]\n",
    " \n",
    "    return intervals\n",
    " \n",
    "\n",
    "def safe_index(l, e):\n",
    "    \"\"\"Gets the index of e in l, providing an index of len(l) if not found\"\"\"\n",
    "    try:\n",
    "        return l.index(e)\n",
    "    except:\n",
    "        return len(l)\n",
    " \n",
    " \n",
    "possible_atom_list = ['C', 'N', 'O', 'S', 'F', 'H']\n",
    "possible_numH_list = [0, 1, 2, 3, 4]\n",
    "possible_valence_list = [0, 1, 2, 3, 4, 5, 6]\n",
    "possible_formal_charge_list = [-3, -2, -1, 0, 1, 2, 3]\n",
    "possible_hybridization_list = [\n",
    "    Chem.rdchem.HybridizationType.SP, Chem.rdchem.HybridizationType.SP2,\n",
    "    Chem.rdchem.HybridizationType.SP3, Chem.rdchem.HybridizationType.SP3D,\n",
    "    Chem.rdchem.HybridizationType.SP3D2\n",
    "]\n",
    "possible_number_radical_e_list = [0, 1, 2]\n",
    "possible_chirality_list = ['R', 'S']\n",
    " \n",
    "reference_lists = [\n",
    "    possible_atom_list, possible_numH_list, possible_valence_list,\n",
    "    possible_formal_charge_list, possible_number_radical_e_list,\n",
    "    possible_hybridization_list, possible_chirality_list\n",
    "]\n",
    " \n",
    "intervals = get_intervals(reference_lists)\n",
    " \n",
    "\n",
    "def get_feature_list(atom):\n",
    "    features = 6 * [0]\n",
    "    features[0] = safe_index(possible_atom_list, atom.GetSymbol())\n",
    "    features[1] = safe_index(possible_numH_list, atom.GetTotalNumHs())\n",
    "    features[2] = safe_index(possible_valence_list, atom.GetImplicitValence())\n",
    "    features[3] = safe_index(possible_formal_charge_list, atom.GetFormalCharge())\n",
    "    features[4] = safe_index(possible_number_radical_e_list,\n",
    "                           atom.GetNumRadicalElectrons())\n",
    "    features[5] = safe_index(possible_hybridization_list, atom.GetHybridization())\n",
    "    return features\n",
    " \n",
    "    \n",
    "def features_to_id(features, intervals):\n",
    "    \"\"\"Convert list of features into index using spacings provided in intervals\"\"\"\n",
    "    id = 0\n",
    "    for k in range(len(intervals)):\n",
    "        id += features[k] * intervals[k]\n",
    " \n",
    "    # Allow 0 index to correspond to null molecule 1\n",
    "    id = id + 1\n",
    "    return id\n",
    " \n",
    "\n",
    "def id_to_features(id, intervals):\n",
    "    features = 6 * [0]\n",
    " \n",
    "    # Correct for null\n",
    "    id -= 1\n",
    " \n",
    "    for k in range(0, 6 - 1):\n",
    "        # print(6-k-1, id)\n",
    "        features[6 - k - 1] = id // intervals[6 - k - 1]\n",
    "        id -= features[6 - k - 1] * intervals[6 - k - 1]\n",
    "    # Correct for last one\n",
    "    features[0] = id\n",
    "    return features\n",
    " \n",
    "\n",
    "def atom_to_id(atom):\n",
    "    \"\"\"Return a unique id corresponding to the atom type\"\"\"\n",
    "    features = get_feature_list(atom)\n",
    "    return features_to_id(features, intervals)\n",
    " \n",
    "\n",
    "def atom_features(atom, bool_id_feat=False, explicit_H=False,\n",
    "                  use_chirality=False):\n",
    "    if bool_id_feat:\n",
    "        return np.array([atom_to_id(atom)])\n",
    "   \n",
    "    else:\n",
    "        from rdkit import Chem\n",
    "        # Atom type - one hot encoding\n",
    "        results = one_of_k_encoding(atom.GetSymbol(), ['C', 'N', 'O', 'S', 'F', 'H']) # use unk if it fails\n",
    "        \n",
    "        # Directly bonded neighbors\n",
    "        results += one_of_k_encoding(atom.GetDegree(), [1, 2, 3, 4]) # use unk if it fails \n",
    "        \n",
    "        # Return number of implicit Hs on atom\n",
    "        results += one_of_k_encoding(atom.GetImplicitValence(), [0, 1, 2, 3]) # use unk if it fails\n",
    "        \n",
    "        # Atom's formal charge\n",
    "        results += [atom.GetFormalCharge()]\n",
    "        \n",
    "        # Number of radical electrons\n",
    "        #results += [atom.GetNumRadicalElectrons()]\n",
    "        \n",
    "        # Atom Hybridization\n",
    "        results += one_of_k_encoding(atom.GetHybridization(), [\n",
    "                        Chem.rdchem.HybridizationType.SP,\n",
    "                        Chem.rdchem.HybridizationType.SP2,\n",
    "                        Chem.rdchem.HybridizationType.SP3])\n",
    "        \n",
    "        # Aromatic or not?\n",
    "        results +=[atom.GetIsAromatic()]\n",
    "        \n",
    "        \n",
    "    # In case of explicit hydrogen(QM8, QM9), avoid calling `GetTotalNumHs`\n",
    "    if not explicit_H:\n",
    "        results = results + one_of_k_encoding_unk(atom.GetTotalNumHs(),\n",
    "                                                [0, 1, 2, 3, 4])\n",
    "    if use_chirality:\n",
    "        try:\n",
    "            results = results + one_of_k_encoding_unk(\n",
    "                atom.GetProp('_CIPCode'),\n",
    "                ['R', 'S']) + [atom.HasProp('_ChiralityPossible')]\n",
    "        except:\n",
    "            results = results + [False, False\n",
    "                            ] + [atom.HasProp('_ChiralityPossible')]\n",
    " \n",
    "    return np.array(results)\n",
    " \n",
    "    \n",
    "def bond_features(bond, use_chirality=False):\n",
    "    from rdkit import Chem\n",
    "    bt  = bond.GetBondType() # bond type\n",
    "    \n",
    "    # Bond order\n",
    "    bond_feats = [bt == Chem.rdchem.BondType.SINGLE, \n",
    "                  bt == Chem.rdchem.BondType.DOUBLE,\n",
    "                  bt == Chem.rdchem.BondType.TRIPLE,\n",
    "                  bt == Chem.rdchem.BondType.AROMATIC]\n",
    "    \n",
    "    # Conjugated bond\n",
    "    bond_feats += [bond.GetIsConjugated()]\n",
    "    \n",
    "    # Is the bond in a ring?\n",
    "    bond_feats += [bond.IsInRing()]\n",
    "    \n",
    "    # Check chirality\n",
    "    if use_chirality:\n",
    "        bond_feats = bond_feats + one_of_k_encoding_unk(\n",
    "            str(bond.GetStereo()),\n",
    "            [\"STEREONONE\", \"STEREOANY\", \"STEREOZ\", \"STEREOE\"])\n",
    "    \n",
    "    return np.array(bond_feats)\n",
    " \n",
    "\n",
    "#################\n",
    "# pen added\n",
    "#################\n",
    "\n",
    "\n",
    "def get_bond_pair(mol):\n",
    "    bonds = mol.GetBonds()\n",
    "    res = [[],[]]\n",
    "    for bond in bonds:\n",
    "        res[0] += [bond.GetBeginAtomIdx(), bond.GetEndAtomIdx()]\n",
    "        res[1] += [bond.GetEndAtomIdx(), bond.GetBeginAtomIdx()]\n",
    "    return res\n",
    " \n",
    "def mol2vec(mol):\n",
    "    atoms = mol.GetAtoms()\n",
    "    bonds = mol.GetBonds()\n",
    "    node_f= [atom_features(atom,) for atom in atoms]\n",
    "    \n",
    "    edge_index = get_bond_pair(mol)\n",
    "    #print(edge_index)\n",
    "    edge_attr = [bond_features(bond) for bond in bonds]*2\n",
    "    \n",
    "    data = Data(x=torch.tensor(node_f, dtype=torch.float),\n",
    "                edge_index=torch.tensor(edge_index, dtype=torch.long),\n",
    "                edge_attr=torch.tensor(edge_attr,dtype=torch.float)\n",
    "                )\n",
    "    return data"
   ]
  },
  {
   "cell_type": "markdown",
   "metadata": {
    "colab_type": "text",
    "id": "OI2_Eb1C5Z-i"
   },
   "source": [
    "## Test"
   ]
  },
  {
   "cell_type": "code",
   "execution_count": null,
   "metadata": {
    "colab": {
     "base_uri": "https://localhost:8080/",
     "height": 34
    },
    "colab_type": "code",
    "id": "xJcsdvx8gyXE",
    "outputId": "9a32644e-23df-4ebb-e22e-eb2ae0f95275"
   },
   "outputs": [],
   "source": [
    "smiles = 'c1ccc(cc1)[N+](=O)[O-]'\n",
    "mol = Chem.MolFromSmiles(smiles)\n",
    "\n",
    "mol2vec(mol)\n"
   ]
  },
  {
   "cell_type": "code",
   "execution_count": null,
   "metadata": {
    "colab": {
     "base_uri": "https://localhost:8080/",
     "height": 167
    },
    "colab_type": "code",
    "id": "LH2OxyjP-uie",
    "outputId": "53ab8bd9-51ba-423e-c522-8e0cdb8bcb6d"
   },
   "outputs": [],
   "source": [
    "mol"
   ]
  },
  {
   "cell_type": "markdown",
   "metadata": {
    "colab_type": "text",
    "id": "hdOXf7Am5izm"
   },
   "source": [
    "# My net"
   ]
  },
  {
   "cell_type": "markdown",
   "metadata": {
    "colab_type": "text",
    "id": "rfaDyQOY8LzD"
   },
   "source": [
    "## Split training/testing and Create Graphs"
   ]
  },
  {
   "cell_type": "code",
   "execution_count": null,
   "metadata": {
    "colab": {},
    "colab_type": "code",
    "id": "A15yLczDZxav"
   },
   "outputs": [],
   "source": [
    "\n",
    "def make_graph(x):\n",
    "    \n",
    "    smi, energy = x\n",
    "    \n",
    "    mol = Chem.MolFromSmiles(smi)\n",
    "    graph = mol2vec(mol)\n",
    "    graph.y = energy\n",
    "    \n",
    "    return graph\n",
    "\n",
    "def create_graphs(df, prop='storage', procs=4):\n",
    "    \"\"\" Creates graph from dataframe, and sets target values \"\"\"\n",
    "    \n",
    "    graph_list = []\n",
    "    \n",
    "    for smi, energy in zip(df.smiles.tolist(), df[prop].tolist()):\n",
    "        mol = Chem.MolFromSmiles(smi)\n",
    "        graph = mol2vec(mol)\n",
    "        graph.y = energy\n",
    "        \n",
    "        graph_list.append(graph)\n",
    "    \n",
    "    return graph_list"
   ]
  },
  {
   "cell_type": "code",
   "execution_count": null,
   "metadata": {
    "colab": {
     "base_uri": "https://localhost:8080/",
     "height": 122
    },
    "colab_type": "code",
    "id": "EyshH_0ijZQD",
    "outputId": "0f26cf14-f2d0-4f72-e407-2638ef7b2bac"
   },
   "outputs": [],
   "source": [
    "#from google.colab import drive\n",
    "#drive.mount('/content/drive')"
   ]
  },
  {
   "cell_type": "code",
   "execution_count": null,
   "metadata": {
    "colab": {},
    "colab_type": "code",
    "id": "XIHvSHswlidw"
   },
   "outputs": [],
   "source": [
    "sys.path.append('/Users/oscarobel/Github/PUK-DFTxTB/tQMC/QMC')\n",
    "from qmconf import QMConf\n",
    "from qmmol import QMMol"
   ]
  },
  {
   "cell_type": "code",
   "execution_count": null,
   "metadata": {
    "colab": {},
    "colab_type": "code",
    "id": "49sDVGbhs7yg"
   },
   "outputs": [],
   "source": [
    "# df = pd.read_pickle('/content/drive/My Drive/Colab Notebooks/result.pkl')\n",
    "\n",
    "# compound_list = list()\n",
    "# for x in df.itertuples():\n",
    "#   name = str(x.prod.label.split('_p')[0])\n",
    "#   #mol = Chem.RemoveHs(x.prod.get_rdkit_mol())\n",
    "#   mol = x.prod.get_rdkit_mol()\n",
    "#   smile = Chem.MolToSmiles(mol,isomericSmiles=False)\n",
    "#   compound_list.append({'comp_name': name, 'smiles': smile, 'storage': x.storage})\n",
    "  \n",
    "# data = pd.DataFrame(compound_list)\n",
    "# #data.head()"
   ]
  },
  {
   "cell_type": "code",
   "execution_count": null,
   "metadata": {
    "colab": {},
    "colab_type": "code",
    "id": "4vUxFhH47uHA"
   },
   "outputs": [],
   "source": [
    "# # remove bad data\n",
    "# gcnn_data = data\n",
    "# gcnn_data = gcnn_data[gcnn_data['storage'] > 0.0]\n",
    "# gcnn_data = gcnn_data[gcnn_data['storage'] < 200.]\n",
    "\n",
    "# gcnn_data.to_pickle('/content/drive/My Drive/Colab Notebooks/new_result.pkl')\n",
    "# f\"total data set size: {gcnn_data.shape[0]}\""
   ]
  },
  {
   "cell_type": "code",
   "execution_count": null,
   "metadata": {
    "colab": {
     "base_uri": "https://localhost:8080/",
     "height": 204
    },
    "colab_type": "code",
    "id": "2a4guDYW8ER0",
    "outputId": "3be6be7f-dbe1-4222-e675-4e7226412b0b"
   },
   "outputs": [],
   "source": [
    "gcnn_data = pd.read_pickle('final_result_5k.pkl')\n",
    "gcnn_data.head()"
   ]
  },
  {
   "cell_type": "code",
   "execution_count": null,
   "metadata": {},
   "outputs": [],
   "source": [
    "gcnn_data.drop_duplicates(subset = \"smiles\", keep = 'first', inplace = True)\n",
    "gcnn_data.shape"
   ]
  },
  {
   "cell_type": "code",
   "execution_count": null,
   "metadata": {
    "colab": {
     "base_uri": "https://localhost:8080/",
     "height": 34
    },
    "colab_type": "code",
    "id": "Sg5CdOFggTLl",
    "outputId": "cb0eb42c-2cb0-47c8-dc52-14711e9195ae"
   },
   "outputs": [],
   "source": [
    "# split data into training and testing\n",
    "\n",
    "df_ns = gcnn_data.copy()\n",
    "test_size_20 = int(df_ns.shape[0]*0.2) #dataset split is 80/20\n",
    "\n",
    "\n",
    "gcnn_test = df_ns.sample(test_size_20, random_state=42)\n",
    "gcnn_train = df_ns.drop(gcnn_test.index)\n",
    "  \n",
    "f\"train size: {gcnn_train.shape[0]}, test size: {gcnn_test.shape[0]}\"    "
   ]
  },
  {
   "cell_type": "code",
   "execution_count": null,
   "metadata": {
    "colab": {
     "base_uri": "https://localhost:8080/",
     "height": 153
    },
    "colab_type": "code",
    "id": "gjqVZWpCju88",
    "outputId": "139abd53-4999-4aaa-90df-fe6b60e43a37"
   },
   "outputs": [],
   "source": [
    "import time\n",
    "\n",
    "t = time.time()\n",
    "#test_graphs = create_graphs(gcnn_test)\n",
    "#print(f\"test graphs DONE in {time.time()-t}\")\n",
    "\n",
    "train_graphs = []\n",
    "for i, df in enumerate(np.array_split(gcnn_train, 8)):\n",
    "    t = time.time()\n",
    "    tmp_list = create_graphs(df)\n",
    "    train_graphs += tmp_list\n",
    "    print(f\"{i+1} of 8 DONE in {time.time()-t}\")\n",
    "    \n",
    "# select 10% samples for validating the method during traning\n",
    "num_val_samples = round(len(train_graphs) * 0.10)\n",
    "val_samples = [train_graphs.pop(random.randrange(len(train_graphs))) for _ in range(num_val_samples)]"
   ]
  },
  {
   "cell_type": "code",
   "execution_count": null,
   "metadata": {
    "colab": {},
    "colab_type": "code",
    "id": "by0l7FMnHkxp"
   },
   "outputs": [],
   "source": [
    "bs_model = 512\n",
    "\n",
    "train_loader = DataLoader(train_graphs, batch_size=bs_model, shuffle=True, drop_last=True)\n",
    "test_loader = DataLoader(gcnn_test, batch_size=bs_model, shuffle=True, drop_last=True)\n",
    "val_loader =  DataLoader(val_samples, batch_size=bs_model, shuffle=True, drop_last=True)"
   ]
  },
  {
   "cell_type": "code",
   "execution_count": null,
   "metadata": {
    "colab": {
     "base_uri": "https://localhost:8080/",
     "height": 34
    },
    "colab_type": "code",
    "id": "Bm2LIvTrFrbo",
    "outputId": "4a2c22c6-3592-490a-f4ae-f7f0d9c4916d"
   },
   "outputs": [],
   "source": [
    "len(val_samples)"
   ]
  },
  {
   "cell_type": "markdown",
   "metadata": {
    "colab_type": "text",
    "id": "PA7Cpo4N8OmI"
   },
   "source": [
    "## Define Net and Train"
   ]
  },
  {
   "cell_type": "code",
   "execution_count": null,
   "metadata": {
    "colab": {},
    "colab_type": "code",
    "id": "kmaUHiHC6-IH"
   },
   "outputs": [],
   "source": [
    "import torch\n",
    "import torch.nn as nn\n",
    "from torch_geometric.nn import GCNConv\n",
    "from torch.nn import BatchNorm1d\n",
    "from torch_geometric.nn import global_add_pool, global_max_pool, global_mean_pool\n",
    "from torch.nn import Linear, CELU\n",
    "import torch.nn.functional as F"
   ]
  },
  {
   "cell_type": "code",
   "execution_count": null,
   "metadata": {
    "colab": {
     "base_uri": "https://localhost:8080/",
     "height": 34
    },
    "colab_type": "code",
    "id": "lLK_AdoS5njr",
    "outputId": "3615df1c-6242-431e-f309-df1771bad6af"
   },
   "outputs": [],
   "source": [
    "n_features = 24 \n",
    "class Net(torch.nn.Module):\n",
    "    def __init__(self):\n",
    "        super(Net, self).__init__()\n",
    "        self.conv1 = GCNConv(n_features, 128)\n",
    "        self.bn1 = BatchNorm1d(128)\n",
    "        \n",
    "        \n",
    "        self.conv2 = GCNConv(128,64)\n",
    "        self.bn2 = BatchNorm1d(64)\n",
    "        \n",
    "        self.fc1 = Linear(64,64)\n",
    "        self.bn3 = BatchNorm1d(64)\n",
    "           \n",
    "        self.fc2 = Linear(64,1)\n",
    "        #self.drop_layer = nn.Dropout()\n",
    "        #self.fc3 = Linear(32,1)\n",
    "        \n",
    "    \n",
    "    def forward(self, data):\n",
    "        x, edge_index = data.x, data.edge_index\n",
    "        \n",
    "        x = F.relu(self.conv1(x, edge_index))\n",
    "        x = self.bn1(x)\n",
    "        \n",
    "        x = F.relu(self.conv2(x, edge_index))\n",
    "        x = self.bn2(x)\n",
    "        \n",
    "        x = global_max_pool(x, data.batch)\n",
    "        \n",
    "        x = F.relu(self.fc1(x))\n",
    "        x = self.bn3(x)\n",
    "        x = self.fc2(x)\n",
    "        #x = F.relu(self.fc2(x))\n",
    "        \n",
    "        #x = F.dropout(x, training=self.training)\n",
    "        \n",
    "        \n",
    "        #x = self.fc3(x)\n",
    "        \n",
    "        return x\n",
    "    \n",
    "def count_parameters(model):\n",
    "    return sum(p.numel() for p in model.parameters() if p.requires_grad)\n",
    "\n",
    "device = torch.device('cuda' if torch.cuda.is_available() else 'cpu')\n",
    "model = Net().to(device)\n",
    "count_parameters(model)"
   ]
  },
  {
   "cell_type": "code",
   "execution_count": null,
   "metadata": {
    "colab": {},
    "colab_type": "code",
    "id": "aUrmjTqO5n2r"
   },
   "outputs": [],
   "source": [
    "def train(epoch, loader):\n",
    "    model.train()\n",
    "    \n",
    "    loss_all = 0\n",
    "    count = 0\n",
    "    for data in loader:\n",
    "        optimizer.zero_grad()\n",
    "        \n",
    "        # transform data\n",
    "        data = data.to(device)\n",
    "        real_y = data.y.to(device).type(\"torch.cuda.FloatTensor\")\n",
    "        \n",
    "        # predict \n",
    "        predicted = model(data)\n",
    "        \n",
    "        # compute loss \n",
    "        loss = torch.nn.MSELoss()(predicted.reshape([bs_model]), real_y)\n",
    "        loss_all += loss\n",
    "        count += 1\n",
    "        \n",
    "        # update step\n",
    "        loss.backward()\n",
    "        optimizer.step()\n",
    "    \n",
    "    loss_all = loss_all / count\n",
    "    return  loss.item()\n",
    "    \n",
    "\n",
    "def test(loader):\n",
    "    model.eval()\n",
    "    \n",
    "    pred_all = []\n",
    "    real_all = []\n",
    "    for data in loader:\n",
    "        # transform data\n",
    "        data = data.to(device)\n",
    "        real_y = data.y.to(device).type(\"torch.cuda.FloatTensor\")\n",
    "    \n",
    "        predicted = model(data).reshape([bs_model]).tolist()\n",
    "    \n",
    "        real_all += real_y.tolist()\n",
    "        pred_all += predicted\n",
    "     \n",
    "    L1Loss = abs(np.array(pred_all) - np.array(real_all)).mean()\n",
    "    \n",
    "    return L1Loss\n",
    "\n",
    "\n",
    "#def L1(pred, real):\n",
    "#    return abs(np.array(pred)-np.array(real)).mean()\n",
    "\n",
    "#def mse(pred, real):\n",
    "#    s = (np.array(pred) - np.array(real))**2\n",
    "#    return np.sqrt(s)"
   ]
  },
  {
   "cell_type": "code",
   "execution_count": null,
   "metadata": {
    "colab": {
     "base_uri": "https://localhost:8080/",
     "height": 153
    },
    "colab_type": "code",
    "id": "TfxhPvh55n6R",
    "outputId": "a4211725-5d09-4e2b-f290-bdea5da468cf"
   },
   "outputs": [],
   "source": [
    "device = torch.device('cuda' if torch.cuda.is_available() else 'cpu')\n",
    "model = Net().to(device)\n",
    "optimizer = torch.optim.Adam(model.parameters(), lr=0.01)#, weight_decay=5e-4)\n",
    "\n",
    "old_val_loss = 1000.\n",
    "for epoch in range(1,20):\n",
    "    train_loss = train(epoch, train_loader)\n",
    "    val_loss = test(val_loader)\n",
    "    acc_train_loss = test(train_loader)\n",
    "    \n",
    "    #print(f'train loss: {\"{:.2f}\".format(train_loss)}, L1 train loss: {\"{:.2f}\".format(acc_train_loss)}, val loss {\"{:.2f}\".format(val_loss)}') \n",
    "\n",
    "    # check point model with lowest val loss:\n",
    "    if val_loss < old_val_loss:\n",
    "        best_model_param = model.state_dict()\n",
    "        old_val_loss = val_loss\n",
    "        \n",
    "        print(f'model saved. EPOCH: {epoch}, VAL Loss: {\"{:.2f}\".format(val_loss)}')\n",
    "   \n",
    "\n",
    "    # Implement some sort of convergence criteria. \n",
    "\n",
    "    \n",
    "model = Net().to(device)\n",
    "model.load_state_dict(best_model_param)    \n",
    "#print(f\"model trained in: {\":.2f\".format(time.time()-t)} s\")"
   ]
  },
  {
   "cell_type": "code",
   "execution_count": null,
   "metadata": {
    "colab": {
     "base_uri": "https://localhost:8080/",
     "height": 1000
    },
    "colab_type": "code",
    "id": "nU-gAwh2NgYC",
    "outputId": "4a0700ca-638a-422b-a7ab-9c04d115f047"
   },
   "outputs": [],
   "source": [
    "best_model_param"
   ]
  },
  {
   "cell_type": "code",
   "execution_count": null,
   "metadata": {
    "colab": {},
    "colab_type": "code",
    "id": "EnwdbiP3hv5P"
   },
   "outputs": [],
   "source": [
    "torch.save(best_model_param, 'state_model_storage_9.pt')"
   ]
  },
  {
   "cell_type": "markdown",
   "metadata": {
    "colab_type": "text",
    "id": "vNJy05S2X0zY"
   },
   "source": [
    "# Try Model"
   ]
  },
  {
   "cell_type": "code",
   "execution_count": null,
   "metadata": {
    "colab": {},
    "colab_type": "code",
    "id": "CDy60JTIExaN"
   },
   "outputs": [],
   "source": [
    "model.load_state_dict(torch.load('state_model_storage_9.pt'))\n",
    "\n",
    "def compute_energies(loader):\n",
    "    model.eval()\n",
    "    \n",
    "    pred_all = []\n",
    "    real_all = []\n",
    "    for data in loader:\n",
    "        # transform data\n",
    "        data = data.to(device)\n",
    "        real_y = data.y.to(device).type(\"torch.cuda.FloatTensor\")\n",
    "    \n",
    "        predicted = model(data).reshape([bs_model]).tolist()\n",
    "    \n",
    "        real_all += real_y.tolist()\n",
    "        pred_all += predicted\n",
    "    \n",
    "    return real_all, pred_all"
   ]
  },
  {
   "cell_type": "markdown",
   "metadata": {
    "colab_type": "text",
    "id": "rj5kNT5OFdAw"
   },
   "source": [
    "## Test model"
   ]
  },
  {
   "cell_type": "code",
   "execution_count": null,
   "metadata": {
    "colab": {
     "base_uri": "https://localhost:8080/",
     "height": 34
    },
    "colab_type": "code",
    "id": "2siqIhme2hRF",
    "outputId": "ab3dda61-ecbf-4c57-bc3e-184daf339a24"
   },
   "outputs": [],
   "source": [
    "#df_dict = dict()\n",
    "df_dict = gcnn_test[gcnn_test.storage > 0.]\n",
    "\n",
    "print(len(df_dict))"
   ]
  },
  {
   "cell_type": "markdown",
   "metadata": {
    "colab_type": "text",
    "id": "DVvi_BDQO0lS"
   },
   "source": [
    "### plot real vs. test"
   ]
  },
  {
   "cell_type": "code",
   "execution_count": null,
   "metadata": {
    "colab": {
     "base_uri": "https://localhost:8080/",
     "height": 403
    },
    "colab_type": "code",
    "id": "JaMSFYlONBPE",
    "outputId": "5b2f314c-7d25-43d0-8654-33224f7fbe62"
   },
   "outputs": [],
   "source": [
    "import matplotlib as mpl\n",
    "\n",
    "mpl.rc({'figure.autolayout': True})\n",
    "# Helvetica format and white background\n",
    "mpl.rc(\"text.latex\", preamble=[\"\\\\usepackage{helvet}\\\\usepackage{sfmath}\"])\n",
    "mpl.rc(\"figure\", facecolor=\"white\")\n",
    "#! supscript and superscript NOT italic\n",
    "mpl.rc({'mathtext.default': 'regular'})\n",
    "\n",
    "plt.figure(figsize=(6,6))\n",
    "\n",
    "graph_test =  [mol2vec(Chem.MolFromSmiles(x)) for x in df_dict.smiles]\n",
    "for graph, energy in zip(graph_test, df_dict.storage):\n",
    "    graph.y = torch.tensor([energy], dtype=torch.float64)\n",
    "\n",
    "tt_loader = DataLoader(graph_test, batch_size=bs_model, shuffle=True, drop_last=True)\n",
    "\n",
    "# plot stuff\n",
    "tt_real, tt_pred = compute_energies(tt_loader)\n",
    "\n",
    "plt.plot(np.array(tt_real), np.array(tt_pred), '.')\n",
    "plt.plot(np.array([5,80]), np.array([5,80]))\n",
    "\n",
    "\n",
    "plt.xlabel(r'Calculated $\\Delta$E$_{storage}$ [kJ/mol]', fontsize=16), plt.ylabel(r'Predicted $\\Delta$E$_{storage}$ [kJ/mol]', fontsize=16), \n",
    "plt.tick_params(labelsize=14)\n",
    "plt.ylim(bottom=0)\n",
    "\n",
    "#plt.savefig('/content/drive/My Drive/Kemi på KU/pred_vs_true_storage.pdf', dpi=800)"
   ]
  },
  {
   "cell_type": "markdown",
   "metadata": {
    "colab_type": "text",
    "id": "lJnjA0VJPBqn"
   },
   "source": [
    "### mean + std from all"
   ]
  },
  {
   "cell_type": "code",
   "execution_count": null,
   "metadata": {
    "colab": {
     "base_uri": "https://localhost:8080/",
     "height": 34
    },
    "colab_type": "code",
    "id": "QscBsm8zOtN6",
    "outputId": "3bb0e794-5df5-4b35-cedc-b975c2635b20"
   },
   "outputs": [],
   "source": [
    "mean = []\n",
    "std = []\n",
    "\n",
    "t = df_dict\n",
    "    \n",
    "# make graphs\n",
    "ggt =  [mol2vec(Chem.MolFromSmiles(x)) for x in t.smiles]\n",
    "for graph, energy in zip(ggt, t.storage):\n",
    "    graph.y = torch.tensor([energy], dtype=torch.float64)\n",
    "t_loader = DataLoader(ggt, batch_size=bs_model, shuffle=True, drop_last=True)\n",
    "    \n",
    "    \n",
    "# predict values\n",
    "t_real, t_pred = compute_energies(t_loader)\n",
    "    \n",
    "# compute mean and std\n",
    "mae = abs(np.array(t_pred) - np.array(t_real)).mean()\n",
    "mae_error = abs(np.array(t_pred) - np.array(t_real)).std()\n",
    "    \n",
    "mean.append(mae)\n",
    "std.append(mae_error)\n",
    "    \n",
    "\n",
    "mean = np.array(mean)\n",
    "std = np.array(std)\n",
    "print(mean, std)"
   ]
  },
  {
   "cell_type": "code",
   "execution_count": null,
   "metadata": {
    "colab": {
     "base_uri": "https://localhost:8080/",
     "height": 235
    },
    "colab_type": "code",
    "id": "vb02MVeEd9MG",
    "outputId": "ae9dc87d-d50d-4634-add3-c556bb7231da"
   },
   "outputs": [],
   "source": [
    "maximum = t['storage'] == max(t.storage)\n",
    "smile = t[maximum].smiles\n",
    "print(t[maximum])\n",
    "\n",
    "Chem.MolFromSmiles(str(smile.to_list()[0]))"
   ]
  },
  {
   "cell_type": "markdown",
   "metadata": {
    "colab_type": "text",
    "id": "R0owPBKIfZ-L"
   },
   "source": [
    "# Generate Gene"
   ]
  },
  {
   "cell_type": "markdown",
   "metadata": {
    "colab_type": "text",
    "id": "47hQa-IPth_Y"
   },
   "source": [
    "## Gene to Graph"
   ]
  },
  {
   "cell_type": "code",
   "execution_count": null,
   "metadata": {
    "colab": {
     "base_uri": "https://localhost:8080/",
     "height": 34
    },
    "colab_type": "code",
    "id": "3rJuVX-ZS5fu",
    "outputId": "d5da0b35-b1b1-4905-afa8-7b6ea71d1c59"
   },
   "outputs": [],
   "source": [
    "\"[['A',2,7,16,0,0],['B',2,0,0,0,0],['A',0,0,0,0,0],['A',0,0,0,0,0]]\""
   ]
  },
  {
   "cell_type": "code",
   "execution_count": null,
   "metadata": {
    "colab": {
     "base_uri": "https://localhost:8080/",
     "height": 238
    },
    "colab_type": "code",
    "id": "z_0Tq_iOfeoq",
    "outputId": "b443c351-fa07-4892-cb63-ffa2e6e0052d"
   },
   "outputs": [],
   "source": [
    "ligands_A = ['H', 'F', 'C(F)(F)(F)', 'C#N',\n",
    "           '[N+](=O)([O-])', 'C(=O)[H]', 'C(=O)O',\n",
    "           'C(=O)C', 'C(=O)N', 'S(=O)(=O)(C)',\n",
    "           'C=N', 'O', 'OC', 'N', 'N(C)(C)', 'C',\n",
    "           'N(C(=O)(C))', 'SC']\n",
    "    \n",
    "\n",
    "def ligands_B(gene):\n",
    "    \n",
    "    gene_smiles = 'C#CC1=C(1)C(2)=C(3)C(4)=C1(5)'\n",
    "\n",
    "    for i, ligand_idx in enumerate(gene):\n",
    "        substr = ligands_A[int(ligand_idx)]\n",
    "        \n",
    "        if substr == 'H':\n",
    "            continue\n",
    "            \n",
    "        gene_smiles = gene_smiles.replace('('+str(i+1)+')', f'({substr})')\n",
    " \n",
    "    return Chem.MolToSmiles(Chem.MolFromSmiles( re.sub('\\([0-9]\\)', '', gene_smiles))).replace('c1','c3').replace('C#C','')\n",
    "\n",
    "\n",
    "def ligands_C(gene):\n",
    "    \n",
    "    gene_smiles = 'C#CC1=C(1)C(2)=C(3)C(4)=C1(5)'\n",
    "\n",
    "    for i, ligand_idx in enumerate(gene):\n",
    "        substr = ligands_A[int(ligand_idx)]\n",
    "        \n",
    "        if substr == 'H':\n",
    "            continue\n",
    "            \n",
    "        gene_smiles = gene_smiles.replace('('+str(i+1)+')', f'({substr})')\n",
    " \n",
    "    return Chem.MolToSmiles(Chem.MolFromSmiles( re.sub('\\([0-9]\\)', '', gene_smiles))).replace('c1','c3')\n",
    "\n",
    "\n",
    "def gene2mol(gene):\n",
    "    \n",
    "    gene_smiles = 'C1(1)=C(2)C2CC1C(3)=C2(4)'\n",
    "        \n",
    "    for i in range(4):\n",
    "        \n",
    "        if gene[i][0] == 'A':\n",
    "            substr = ligands_A[gene[i][1]]\n",
    "\n",
    "        if gene[i][0] == 'B':\n",
    "            substr = ligands_B(gene[i][1:])\n",
    "            \n",
    "        if gene[i][0] == 'C':\n",
    "            substr = ligands_C(gene[i][1:])\n",
    "        \n",
    "        if substr == 'H':\n",
    "            continue\n",
    "            \n",
    "        gene_smiles = gene_smiles.replace('('+str(i+1)+')', f'({substr})')\n",
    " \n",
    "    return Chem.MolFromSmiles( re.sub('\\([0-9]\\)', '', gene_smiles))\n",
    "\n",
    "\n",
    "\n",
    "test_mol = gene2mol([['A',0,0,0,0,0],['A',0,0,0,0,0],['B',12,0,0,0,0],['A',0,0,0,0,0]])\n",
    "\n",
    "\n",
    "print(Chem.MolToSmiles(test_mol))\n",
    "SVG(Draw._MolsToGridSVG([test_mol]))"
   ]
  },
  {
   "cell_type": "markdown",
   "metadata": {
    "colab_type": "text",
    "id": "YKQJtdgjuNnn"
   },
   "source": [
    "## Compute storage"
   ]
  },
  {
   "cell_type": "code",
   "execution_count": null,
   "metadata": {
    "colab": {},
    "colab_type": "code",
    "id": "dEj5sjasuQNX"
   },
   "outputs": [],
   "source": [
    "from rdkit.Chem.Descriptors import MolWt\n",
    "\n",
    "def calculate_weight(mols):\n",
    "    \n",
    "    mol_weights = np.zeros(len(mols))\n",
    "    for i, mol in enumerate(mols):\n",
    "        mol_weights[i] = MolWt(mol)\n",
    "    \n",
    "    return mol_weights\n",
    "\n",
    "\n",
    "def compute_storage_energy(predict_model, mols):\n",
    "\n",
    "    graphs = [mol2vec(mol) for mol in mols]\n",
    "    graph_loader = DataLoader(graphs, batch_size=len(mols), shuffle=False)\n",
    "    \n",
    "    for b in graph_loader:\n",
    "        graph_batch = b.to('cuda')\n",
    "        predictions = predict_model(graph_batch)\n",
    "    \n",
    "    return predictions.cpu().data.numpy().reshape(len(mols))\n",
    "    \n",
    "\n",
    "def compute_storage_density(predict_model, mols):\n",
    "    \n",
    "    Wt = calculate_weight(mols)\n",
    "    storage = compute_storage_energy(predict_model, mols)\n",
    "    \n",
    "    \n",
    "    return storage / Wt"
   ]
  },
  {
   "cell_type": "code",
   "execution_count": null,
   "metadata": {
    "colab": {},
    "colab_type": "code",
    "id": "49-OtB4hTbmc"
   },
   "outputs": [],
   "source": []
  }
 ],
 "metadata": {
  "accelerator": "GPU",
  "colab": {
   "collapsed_sections": [],
   "machine_shape": "hm",
   "name": "gcn_test.ipynb",
   "provenance": [],
   "toc_visible": true
  },
  "kernelspec": {
   "display_name": "Python 3 (ipykernel)",
   "language": "python",
   "name": "python3"
  },
  "language_info": {
   "codemirror_mode": {
    "name": "ipython",
    "version": 3
   },
   "file_extension": ".py",
   "mimetype": "text/x-python",
   "name": "python",
   "nbconvert_exporter": "python",
   "pygments_lexer": "ipython3",
   "version": "3.9.12"
  }
 },
 "nbformat": 4,
 "nbformat_minor": 4
}
