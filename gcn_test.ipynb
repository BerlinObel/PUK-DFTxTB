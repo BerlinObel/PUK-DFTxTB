{
 "cells": [
  {
   "cell_type": "markdown",
   "metadata": {
    "colab_type": "text",
    "id": "Yy0O55MRgJZ8"
   },
   "source": [
    "# Download Dependencies for PyTorch Geometry"
   ]
  },
  {
   "cell_type": "code",
   "execution_count": 1,
   "metadata": {
    "colab": {
     "base_uri": "https://localhost:8080/",
     "height": 68
    },
    "colab_type": "code",
    "id": "rqs4kovxvqFc",
    "outputId": "f642e442-59e5-49e6-a48e-bc2f6e36d194"
   },
   "outputs": [
    {
     "name": "stdout",
     "output_type": "stream",
     "text": [
      "1.4.0\n",
      "True\n",
      "Python 3.7.6\n"
     ]
    }
   ],
   "source": [
    "! python -c \"import torch; print(torch.__version__)\"\n",
    "! python -c \"import torch; print(torch.cuda.is_available())\"\n",
    "! python --version"
   ]
  },
  {
   "cell_type": "code",
   "execution_count": null,
   "metadata": {
    "colab": {},
    "colab_type": "code",
    "id": "1A1o3ArT3je3"
   },
   "outputs": [],
   "source": [
    "#! PATH=/usr/local/cuda/bin:$PATH\n",
    "#! CPATH=/usr/local/cuda/include:$CPATH    \n",
    "#! LD_LIBRARY_PATH=/usr/local/cuda/lib64:$LD_LIBRARY_PATH\n",
    "#! DYLD_LIBRARY_PATH=/usr/local/cuda/lib:$DYLD_LIBRARY_PATH"
   ]
  },
  {
   "cell_type": "code",
   "execution_count": 2,
   "metadata": {
    "colab": {
     "base_uri": "https://localhost:8080/",
     "height": 102
    },
    "colab_type": "code",
    "id": "MQJRnzs3wUy8",
    "outputId": "727f6d6c-b41a-43ca-c85f-950501225633"
   },
   "outputs": [
    {
     "name": "stdout",
     "output_type": "stream",
     "text": [
      "nvcc: NVIDIA (R) Cuda compiler driver\n",
      "Copyright (c) 2005-2019 NVIDIA Corporation\n",
      "Built on Wed_Oct_23_19:32:27_Pacific_Daylight_Time_2019\n",
      "Cuda compilation tools, release 10.2, V10.2.89\n",
      "10.1\n"
     ]
    }
   ],
   "source": [
    "! nvcc --version\n",
    "! python -c \"import torch; print(torch.version.cuda)\""
   ]
  },
  {
   "cell_type": "code",
   "execution_count": null,
   "metadata": {
    "colab": {
     "base_uri": "https://localhost:8080/",
     "height": 1000
    },
    "colab_type": "code",
    "id": "QyK_P-QZfvrT",
    "outputId": "00c126d7-4714-41ce-b72c-99f8643bc6d6"
   },
   "outputs": [],
   "source": [
    "#Install PyTorch Geometry \n",
    "! pip install --verbose --no-cache-dir torch-scatter\n",
    "! pip install --verbose --no-cache-dir torch-sparse\n",
    "! pip install --verbose --no-cache-dir torch-cluster\n",
    "! pip install --verbose --no-cache-dir torch-spline-conv (optional)\n",
    "! pip install torch-geometric"
   ]
  },
  {
   "cell_type": "code",
   "execution_count": null,
   "metadata": {
    "colab": {
     "base_uri": "https://localhost:8080/",
     "height": 1000
    },
    "colab_type": "code",
    "id": "mmiMJIP-Mz9k",
    "outputId": "0438fe8c-dc44-446e-888b-54579fc4a27c"
   },
   "outputs": [
    {
     "name": "stdout",
     "output_type": "stream",
     "text": [
      "Collecting package metadata (current_repodata.json): ...working... done\n",
      "Solving environment: ...working... failed with initial frozen solve. Retrying with flexible solve.\n",
      "Solving environment: ...working... "
     ]
    }
   ],
   "source": [
    "# Install RDKit\n",
    "# takes 2-3 minutes\n",
    "#!wget -c https://repo.continuum.io/miniconda/Miniconda3-latest-Linux-x86_64.sh\n",
    "#!chmod +x Miniconda3-latest-Linux-x86_64.sh\n",
    "#!time bash ./Miniconda3-latest-Linux-x86_64.sh -b -f -p /usr/local\n",
    "!time conda install -q -y -c conda-forge rdkit"
   ]
  },
  {
   "cell_type": "markdown",
   "metadata": {
    "colab_type": "text",
    "id": "ZXqKBWIOgvY5"
   },
   "source": [
    "# Regular Imports"
   ]
  },
  {
   "cell_type": "code",
   "execution_count": 5,
   "metadata": {
    "colab": {},
    "colab_type": "code",
    "id": "0-oG_ZwSYv2p"
   },
   "outputs": [
    {
     "name": "stderr",
     "output_type": "stream",
     "text": [
      "RDKit WARNING: [14:21:57] Enabling RDKit 2019.09.3 jupyter extensions\n"
     ]
    }
   ],
   "source": [
    "from __future__ import division\n",
    "from __future__ import unicode_literals\n",
    "\n",
    "import sys\n",
    "import random \n",
    "import re\n",
    "\n",
    "sys.path.append('/usr/local/lib/python3.7/site-packages/')\n",
    "from rdkit import Chem\n",
    "from rdkit.Chem import Draw\n",
    "from rdkit.Chem.Draw import IPythonConsole\n",
    "\n",
    "import numpy as np\n",
    "import pandas as pd\n",
    "import matplotlib.pyplot as plt\n",
    "import multiprocessing\n",
    "import logging\n",
    "import torch\n",
    "#from torch_geometric.data import Data\n",
    "from torch_geometric.data import DataLoader\n",
    "\n",
    "\n",
    "from sklearn.model_selection import train_test_split\n",
    "\n",
    "\n",
    "from IPython.display import SVG\n",
    "from itertools import product\n",
    "import copy"
   ]
  },
  {
   "cell_type": "markdown",
   "metadata": {
    "colab_type": "text",
    "id": "AA89b1hI_J6r"
   },
   "source": [
    "# Create Graphs"
   ]
  },
  {
   "cell_type": "code",
   "execution_count": 6,
   "metadata": {
    "colab": {},
    "colab_type": "code",
    "id": "terIh9SGYg6T"
   },
   "outputs": [],
   "source": [
    "import numpy as np\n",
    "import multiprocessing\n",
    "import logging\n",
    "import torch\n",
    "from torch_geometric.data import Data\n",
    "\n",
    "def one_of_k_encoding(x, allowable_set):\n",
    "    if x not in allowable_set:\n",
    "        raise Exception(\"input {0} not in allowable set{1}:\".format(\n",
    "            x, allowable_set))\n",
    "    return list(map(lambda s: x == s, allowable_set))\n",
    " \n",
    "\n",
    "def one_of_k_encoding_unk(x, allowable_set):\n",
    "    \"\"\"Maps inputs not in the allowable set to the last element.\"\"\"\n",
    "    if x not in allowable_set:\n",
    "        x = allowable_set[-1]\n",
    "    return list(map(lambda s: x == s, allowable_set))\n",
    " \n",
    "\n",
    "def get_intervals(l):\n",
    "    \"\"\"For list of lists, gets the cumulative products of the lengths\"\"\"\n",
    "    intervals = len(l) * [0]\n",
    "    # Initalize with 1\n",
    "    intervals[0] = 1\n",
    "    for k in range(1, len(l)):\n",
    "        intervals[k] = (len(l[k]) + 1) * intervals[k - 1]\n",
    " \n",
    "    return intervals\n",
    " \n",
    "\n",
    "def safe_index(l, e):\n",
    "    \"\"\"Gets the index of e in l, providing an index of len(l) if not found\"\"\"\n",
    "    try:\n",
    "        return l.index(e)\n",
    "    except:\n",
    "        return len(l)\n",
    " \n",
    " \n",
    "possible_atom_list = ['C', 'N', 'O', 'S', 'F', 'H']\n",
    "possible_numH_list = [0, 1, 2, 3, 4]\n",
    "possible_valence_list = [0, 1, 2, 3, 4, 5, 6]\n",
    "possible_formal_charge_list = [-3, -2, -1, 0, 1, 2, 3]\n",
    "possible_hybridization_list = [\n",
    "    Chem.rdchem.HybridizationType.SP, Chem.rdchem.HybridizationType.SP2,\n",
    "    Chem.rdchem.HybridizationType.SP3, Chem.rdchem.HybridizationType.SP3D,\n",
    "    Chem.rdchem.HybridizationType.SP3D2\n",
    "]\n",
    "possible_number_radical_e_list = [0, 1, 2]\n",
    "possible_chirality_list = ['R', 'S']\n",
    " \n",
    "reference_lists = [\n",
    "    possible_atom_list, possible_numH_list, possible_valence_list,\n",
    "    possible_formal_charge_list, possible_number_radical_e_list,\n",
    "    possible_hybridization_list, possible_chirality_list\n",
    "]\n",
    " \n",
    "intervals = get_intervals(reference_lists)\n",
    " \n",
    "\n",
    "def get_feature_list(atom):\n",
    "    features = 6 * [0]\n",
    "    features[0] = safe_index(possible_atom_list, atom.GetSymbol())\n",
    "    features[1] = safe_index(possible_numH_list, atom.GetTotalNumHs())\n",
    "    features[2] = safe_index(possible_valence_list, atom.GetImplicitValence())\n",
    "    features[3] = safe_index(possible_formal_charge_list, atom.GetFormalCharge())\n",
    "    features[4] = safe_index(possible_number_radical_e_list,\n",
    "                           atom.GetNumRadicalElectrons())\n",
    "    features[5] = safe_index(possible_hybridization_list, atom.GetHybridization())\n",
    "    return features\n",
    " \n",
    "    \n",
    "def features_to_id(features, intervals):\n",
    "    \"\"\"Convert list of features into index using spacings provided in intervals\"\"\"\n",
    "    id = 0\n",
    "    for k in range(len(intervals)):\n",
    "        id += features[k] * intervals[k]\n",
    " \n",
    "    # Allow 0 index to correspond to null molecule 1\n",
    "    id = id + 1\n",
    "    return id\n",
    " \n",
    "\n",
    "def id_to_features(id, intervals):\n",
    "    features = 6 * [0]\n",
    " \n",
    "    # Correct for null\n",
    "    id -= 1\n",
    " \n",
    "    for k in range(0, 6 - 1):\n",
    "        # print(6-k-1, id)\n",
    "        features[6 - k - 1] = id // intervals[6 - k - 1]\n",
    "        id -= features[6 - k - 1] * intervals[6 - k - 1]\n",
    "    # Correct for last one\n",
    "    features[0] = id\n",
    "    return features\n",
    " \n",
    "\n",
    "def atom_to_id(atom):\n",
    "    \"\"\"Return a unique id corresponding to the atom type\"\"\"\n",
    "    features = get_feature_list(atom)\n",
    "    return features_to_id(features, intervals)\n",
    " \n",
    "\n",
    "def atom_features(atom, bool_id_feat=False, explicit_H=False,\n",
    "                  use_chirality=False):\n",
    "    if bool_id_feat:\n",
    "        return np.array([atom_to_id(atom)])\n",
    "   \n",
    "    else:\n",
    "        from rdkit import Chem\n",
    "        # Atom type - one hot encoding\n",
    "        results = one_of_k_encoding(atom.GetSymbol(), ['C', 'N', 'O', 'S', 'F', 'H']) # use unk if it fails\n",
    "        \n",
    "        # Directly bonded neighbors\n",
    "        results += one_of_k_encoding(atom.GetDegree(), [1, 2, 3, 4]) # use unk if it fails \n",
    "        \n",
    "        # Return number of implicit Hs on atom\n",
    "        results += one_of_k_encoding(atom.GetImplicitValence(), [0, 1, 2, 3]) # use unk if it fails\n",
    "        \n",
    "        # Atom's formal charge\n",
    "        results += [atom.GetFormalCharge()]\n",
    "        \n",
    "        # Number of radical electrons\n",
    "        #results += [atom.GetNumRadicalElectrons()]\n",
    "        \n",
    "        # Atom Hybridization\n",
    "        results += one_of_k_encoding(atom.GetHybridization(), [\n",
    "                        Chem.rdchem.HybridizationType.SP,\n",
    "                        Chem.rdchem.HybridizationType.SP2,\n",
    "                        Chem.rdchem.HybridizationType.SP3])\n",
    "        \n",
    "        # Aromatic or not?\n",
    "        results +=[atom.GetIsAromatic()]\n",
    "        \n",
    "        \n",
    "    # In case of explicit hydrogen(QM8, QM9), avoid calling `GetTotalNumHs`\n",
    "    if not explicit_H:\n",
    "        results = results + one_of_k_encoding_unk(atom.GetTotalNumHs(),\n",
    "                                                [0, 1, 2, 3, 4])\n",
    "    if use_chirality:\n",
    "        try:\n",
    "            results = results + one_of_k_encoding_unk(\n",
    "                atom.GetProp('_CIPCode'),\n",
    "                ['R', 'S']) + [atom.HasProp('_ChiralityPossible')]\n",
    "        except:\n",
    "            results = results + [False, False\n",
    "                            ] + [atom.HasProp('_ChiralityPossible')]\n",
    " \n",
    "    return np.array(results)\n",
    " \n",
    "    \n",
    "def bond_features(bond, use_chirality=False):\n",
    "    from rdkit import Chem\n",
    "    bt  = bond.GetBondType() # bond type\n",
    "    \n",
    "    # Bond order\n",
    "    bond_feats = [bt == Chem.rdchem.BondType.SINGLE, \n",
    "                  bt == Chem.rdchem.BondType.DOUBLE,\n",
    "                  bt == Chem.rdchem.BondType.TRIPLE,\n",
    "                  bt == Chem.rdchem.BondType.AROMATIC]\n",
    "    \n",
    "    # Conjugated bond\n",
    "    bond_feats += [bond.GetIsConjugated()]\n",
    "    \n",
    "    # Is the bond in a ring?\n",
    "    bond_feats += [bond.IsInRing()]\n",
    "    \n",
    "    # Check chirality\n",
    "    if use_chirality:\n",
    "        bond_feats = bond_feats + one_of_k_encoding_unk(\n",
    "            str(bond.GetStereo()),\n",
    "            [\"STEREONONE\", \"STEREOANY\", \"STEREOZ\", \"STEREOE\"])\n",
    "    \n",
    "    return np.array(bond_feats)\n",
    " \n",
    "\n",
    "#################\n",
    "# pen added\n",
    "#################\n",
    "\n",
    "\n",
    "def get_bond_pair(mol):\n",
    "    bonds = mol.GetBonds()\n",
    "    res = [[],[]]\n",
    "    for bond in bonds:\n",
    "        res[0] += [bond.GetBeginAtomIdx(), bond.GetEndAtomIdx()]\n",
    "        res[1] += [bond.GetEndAtomIdx(), bond.GetBeginAtomIdx()]\n",
    "    return res\n",
    " \n",
    "def mol2vec(mol):\n",
    "    atoms = mol.GetAtoms()\n",
    "    bonds = mol.GetBonds()\n",
    "    node_f= [atom_features(atom,) for atom in atoms]\n",
    "    \n",
    "    edge_index = get_bond_pair(mol)\n",
    "    #print(edge_index)\n",
    "    edge_attr = [bond_features(bond) for bond in bonds]*2\n",
    "    \n",
    "    data = Data(x=torch.tensor(node_f, dtype=torch.float),\n",
    "                edge_index=torch.tensor(edge_index, dtype=torch.long),\n",
    "                edge_attr=torch.tensor(edge_attr,dtype=torch.float)\n",
    "                )\n",
    "    return data"
   ]
  },
  {
   "cell_type": "markdown",
   "metadata": {
    "colab_type": "text",
    "id": "OI2_Eb1C5Z-i"
   },
   "source": [
    "## Test"
   ]
  },
  {
   "cell_type": "code",
   "execution_count": 7,
   "metadata": {
    "colab": {
     "base_uri": "https://localhost:8080/",
     "height": 34
    },
    "colab_type": "code",
    "id": "xJcsdvx8gyXE",
    "outputId": "9a32644e-23df-4ebb-e22e-eb2ae0f95275"
   },
   "outputs": [
    {
     "data": {
      "text/plain": [
       "Data(edge_attr=[18, 6], edge_index=[2, 18], x=[9, 24])"
      ]
     },
     "execution_count": 7,
     "metadata": {},
     "output_type": "execute_result"
    }
   ],
   "source": [
    "smiles = 'c1ccc(cc1)[N+](=O)[O-]'\n",
    "mol = Chem.MolFromSmiles(smiles)\n",
    "\n",
    "mol2vec(mol)\n"
   ]
  },
  {
   "cell_type": "code",
   "execution_count": 8,
   "metadata": {
    "colab": {
     "base_uri": "https://localhost:8080/",
     "height": 167
    },
    "colab_type": "code",
    "id": "LH2OxyjP-uie",
    "outputId": "53ab8bd9-51ba-423e-c522-8e0cdb8bcb6d"
   },
   "outputs": [
    {
     "data": {
      "image/png": "[encoded data removed]",
      "text/plain": [
       "<rdkit.Chem.rdchem.Mol at 0x1bbf2728940>"
      ]
     },
     "execution_count": 8,
     "metadata": {},
     "output_type": "execute_result"
    }
   ],
   "source": [
    "mol"
   ]
  },
  {
   "cell_type": "markdown",
   "metadata": {
    "colab_type": "text",
    "id": "hdOXf7Am5izm"
   },
   "source": [
    "# My net"
   ]
  },
  {
   "cell_type": "markdown",
   "metadata": {
    "colab_type": "text",
    "id": "rfaDyQOY8LzD"
   },
   "source": [
    "## Split training/testing and Create Graphs"
   ]
  },
  {
   "cell_type": "code",
   "execution_count": 9,
   "metadata": {
    "colab": {},
    "colab_type": "code",
    "id": "A15yLczDZxav"
   },
   "outputs": [],
   "source": [
    "\n",
    "def make_graph(x):\n",
    "    \n",
    "    smi, energy = x\n",
    "    \n",
    "    mol = Chem.MolFromSmiles(smi)\n",
    "    graph = mol2vec(mol)\n",
    "    graph.y = energy\n",
    "    \n",
    "    return graph\n",
    "\n",
    "def create_graphs(df, prop='storage', procs=4):\n",
    "    \"\"\" Creates graph from dataframe, and sets target values \"\"\"\n",
    "    \n",
    "    graph_list = []\n",
    "    \n",
    "    for smi, energy in zip(df.smiles.tolist(), df[prop].tolist()):\n",
    "        mol = Chem.MolFromSmiles(smi)\n",
    "        graph = mol2vec(mol)\n",
    "        graph.y = energy\n",
    "        \n",
    "        graph_list.append(graph)\n",
    "    \n",
    "    return graph_list"
   ]
  },
  {
   "cell_type": "code",
   "execution_count": 10,
   "metadata": {
    "colab": {
     "base_uri": "https://localhost:8080/",
     "height": 122
    },
    "colab_type": "code",
    "id": "EyshH_0ijZQD",
    "outputId": "0f26cf14-f2d0-4f72-e407-2638ef7b2bac"
   },
   "outputs": [],
   "source": [
    "#from google.colab import drive\n",
    "#drive.mount('/content/drive')"
   ]
  },
  {
   "cell_type": "code",
   "execution_count": 11,
   "metadata": {
    "colab": {},
    "colab_type": "code",
    "id": "XIHvSHswlidw"
   },
   "outputs": [],
   "source": [
    "sys.path.append('/Users/oscarobel/Github/PUK-DFTxTB/tQMC/QMC')\n",
    "from qmconf import QMConf\n",
    "from qmmol import QMMol"
   ]
  },
  {
   "cell_type": "code",
   "execution_count": null,
   "metadata": {
    "colab": {},
    "colab_type": "code",
    "id": "49sDVGbhs7yg"
   },
   "outputs": [],
   "source": [
    "# df = pd.read_pickle('/content/drive/My Drive/Colab Notebooks/result.pkl')\n",
    "\n",
    "# compound_list = list()\n",
    "# for x in df.itertuples():\n",
    "#   name = str(x.prod.label.split('_p')[0])\n",
    "#   #mol = Chem.RemoveHs(x.prod.get_rdkit_mol())\n",
    "#   mol = x.prod.get_rdkit_mol()\n",
    "#   smile = Chem.MolToSmiles(mol,isomericSmiles=False)\n",
    "#   compound_list.append({'comp_name': name, 'smiles': smile, 'storage': x.storage})\n",
    "  \n",
    "# data = pd.DataFrame(compound_list)\n",
    "# #data.head()"
   ]
  },
  {
   "cell_type": "code",
   "execution_count": null,
   "metadata": {
    "colab": {},
    "colab_type": "code",
    "id": "4vUxFhH47uHA"
   },
   "outputs": [],
   "source": [
    "# # remove bad data\n",
    "# gcnn_data = data\n",
    "# gcnn_data = gcnn_data[gcnn_data['storage'] > 0.0]\n",
    "# gcnn_data = gcnn_data[gcnn_data['storage'] < 200.]\n",
    "\n",
    "# gcnn_data.to_pickle('/content/drive/My Drive/Colab Notebooks/new_result.pkl')\n",
    "# f\"total data set size: {gcnn_data.shape[0]}\""
   ]
  },
  {
   "cell_type": "code",
   "execution_count": 12,
   "metadata": {
    "colab": {
     "base_uri": "https://localhost:8080/",
     "height": 204
    },
    "colab_type": "code",
    "id": "2a4guDYW8ER0",
    "outputId": "3be6be7f-dbe1-4222-e675-4e7226412b0b"
   },
   "outputs": [
    {
     "data": {
      "text/html": [
       "<div>\n",
       "<style scoped>\n",
       "    .dataframe tbody tr th:only-of-type {\n",
       "        vertical-align: middle;\n",
       "    }\n",
       "\n",
       "    .dataframe tbody tr th {\n",
       "        vertical-align: top;\n",
       "    }\n",
       "\n",
       "    .dataframe thead th {\n",
       "        text-align: right;\n",
       "    }\n",
       "</style>\n",
       "<table border=\"1\" class=\"dataframe\">\n",
       "  <thead>\n",
       "    <tr style=\"text-align: right;\">\n",
       "      <th></th>\n",
       "      <th>comp_name</th>\n",
       "      <th>smiles</th>\n",
       "      <th>storage</th>\n",
       "      <th>tbr</th>\n",
       "      <th>absorp</th>\n",
       "    </tr>\n",
       "  </thead>\n",
       "  <tbody>\n",
       "    <tr>\n",
       "      <th>0</th>\n",
       "      <td>A-0_A-0_A-0_A-0</td>\n",
       "      <td>[H]C1([H])C2([H])C3([H])C2([H])C2([H])C1([H])C...</td>\n",
       "      <td>8.111205</td>\n",
       "      <td>320.298085</td>\n",
       "      <td>159.7</td>\n",
       "    </tr>\n",
       "    <tr>\n",
       "      <th>1</th>\n",
       "      <td>A-1_A-0_A-0_A-0</td>\n",
       "      <td>[H]C1([H])C2([H])C3([H])C2([H])C2(F)C1([H])C32[H]</td>\n",
       "      <td>22.362574</td>\n",
       "      <td>290.434249</td>\n",
       "      <td>177.7</td>\n",
       "    </tr>\n",
       "    <tr>\n",
       "      <th>2</th>\n",
       "      <td>A-2_A-0_A-0_A-0</td>\n",
       "      <td>[H]C1([H])C2([H])C3([H])C2([H])C2(C(F)(F)F)C1(...</td>\n",
       "      <td>7.536407</td>\n",
       "      <td>284.936736</td>\n",
       "      <td>167.8</td>\n",
       "    </tr>\n",
       "    <tr>\n",
       "      <th>3</th>\n",
       "      <td>A-3_A-0_A-0_A-0</td>\n",
       "      <td>[H]C1([H])C2([H])C3([H])C2([H])C2(C#N)C1([H])C...</td>\n",
       "      <td>9.834636</td>\n",
       "      <td>258.947101</td>\n",
       "      <td>220.8</td>\n",
       "    </tr>\n",
       "    <tr>\n",
       "      <th>4</th>\n",
       "      <td>A-4_A-0_A-0_A-0</td>\n",
       "      <td>[H]C1([H])C2([H])C3([H])C2([H])C2([N+](=O)[O-]...</td>\n",
       "      <td>5.430744</td>\n",
       "      <td>219.128675</td>\n",
       "      <td>295.2</td>\n",
       "    </tr>\n",
       "  </tbody>\n",
       "</table>\n",
       "</div>"
      ],
      "text/plain": [
       "         comp_name                                             smiles  \\\n",
       "0  A-0_A-0_A-0_A-0  [H]C1([H])C2([H])C3([H])C2([H])C2([H])C1([H])C...   \n",
       "1  A-1_A-0_A-0_A-0  [H]C1([H])C2([H])C3([H])C2([H])C2(F)C1([H])C32[H]   \n",
       "2  A-2_A-0_A-0_A-0  [H]C1([H])C2([H])C3([H])C2([H])C2(C(F)(F)F)C1(...   \n",
       "3  A-3_A-0_A-0_A-0  [H]C1([H])C2([H])C3([H])C2([H])C2(C#N)C1([H])C...   \n",
       "4  A-4_A-0_A-0_A-0  [H]C1([H])C2([H])C3([H])C2([H])C2([N+](=O)[O-]...   \n",
       "\n",
       "     storage         tbr  absorp  \n",
       "0   8.111205  320.298085   159.7  \n",
       "1  22.362574  290.434249   177.7  \n",
       "2   7.536407  284.936736   167.8  \n",
       "3   9.834636  258.947101   220.8  \n",
       "4   5.430744  219.128675   295.2  "
      ]
     },
     "execution_count": 12,
     "metadata": {},
     "output_type": "execute_result"
    }
   ],
   "source": [
    "gcnn_data = pd.read_pickle('final_result_5k.pkl')\n",
    "gcnn_data.head()"
   ]
  },
  {
   "cell_type": "code",
   "execution_count": 13,
   "metadata": {},
   "outputs": [
    {
     "data": {
      "text/plain": [
       "(33706, 5)"
      ]
     },
     "execution_count": 13,
     "metadata": {},
     "output_type": "execute_result"
    }
   ],
   "source": [
    "gcnn_data.drop_duplicates(subset = \"smiles\", keep = 'first', inplace = True)\n",
    "gcnn_data.shape"
   ]
  },
  {
   "cell_type": "code",
   "execution_count": 14,
   "metadata": {
    "colab": {
     "base_uri": "https://localhost:8080/",
     "height": 34
    },
    "colab_type": "code",
    "id": "Sg5CdOFggTLl",
    "outputId": "cb0eb42c-2cb0-47c8-dc52-14711e9195ae"
   },
   "outputs": [
    {
     "data": {
      "text/plain": [
       "'train size: 26965, test size: 6741'"
      ]
     },
     "execution_count": 14,
     "metadata": {},
     "output_type": "execute_result"
    }
   ],
   "source": [
    "# split data into training and testing\n",
    "\n",
    "df_ns = gcnn_data.copy()\n",
    "test_size_20 = int(df_ns.shape[0]*0.2) #dataset split is 80/20\n",
    "\n",
    "\n",
    "gcnn_test = df_ns.sample(test_size_20, random_state=42)\n",
    "gcnn_train = df_ns.drop(gcnn_test.index)\n",
    "  \n",
    "f\"train size: {gcnn_train.shape[0]}, test size: {gcnn_test.shape[0]}\"    "
   ]
  },
  {
   "cell_type": "code",
   "execution_count": 15,
   "metadata": {
    "colab": {
     "base_uri": "https://localhost:8080/",
     "height": 153
    },
    "colab_type": "code",
    "id": "gjqVZWpCju88",
    "outputId": "139abd53-4999-4aaa-90df-fe6b60e43a37"
   },
   "outputs": [
    {
     "name": "stdout",
     "output_type": "stream",
     "text": [
      "1 of 8 DONE in 4.2003090381622314\n",
      "2 of 8 DONE in 4.380207300186157\n",
      "3 of 8 DONE in 4.278588771820068\n",
      "4 of 8 DONE in 4.753319978713989\n",
      "5 of 8 DONE in 4.62237811088562\n",
      "6 of 8 DONE in 5.3848888874053955\n",
      "7 of 8 DONE in 4.617209196090698\n",
      "8 of 8 DONE in 5.433959722518921\n"
     ]
    }
   ],
   "source": [
    "import time\n",
    "\n",
    "t = time.time()\n",
    "#test_graphs = create_graphs(gcnn_test)\n",
    "#print(f\"test graphs DONE in {time.time()-t}\")\n",
    "\n",
    "train_graphs = []\n",
    "for i, df in enumerate(np.array_split(gcnn_train, 8)):\n",
    "    t = time.time()\n",
    "    tmp_list = create_graphs(df)\n",
    "    train_graphs += tmp_list\n",
    "    print(f\"{i+1} of 8 DONE in {time.time()-t}\")\n",
    "    \n",
    "# select 10% samples for validating the method during traning\n",
    "num_val_samples = round(len(train_graphs) * 0.10)\n",
    "val_samples = [train_graphs.pop(random.randrange(len(train_graphs))) for _ in range(num_val_samples)]"
   ]
  },
  {
   "cell_type": "code",
   "execution_count": 16,
   "metadata": {
    "colab": {},
    "colab_type": "code",
    "id": "by0l7FMnHkxp"
   },
   "outputs": [],
   "source": [
    "bs_model = 512\n",
    "\n",
    "train_loader = DataLoader(train_graphs, batch_size=bs_model, shuffle=True, drop_last=True)\n",
    "test_loader = DataLoader(gcnn_test, batch_size=bs_model, shuffle=True, drop_last=True)\n",
    "val_loader =  DataLoader(val_samples, batch_size=bs_model, shuffle=True, drop_last=True)"
   ]
  },
  {
   "cell_type": "code",
   "execution_count": 17,
   "metadata": {
    "colab": {
     "base_uri": "https://localhost:8080/",
     "height": 34
    },
    "colab_type": "code",
    "id": "Bm2LIvTrFrbo",
    "outputId": "4a2c22c6-3592-490a-f4ae-f7f0d9c4916d"
   },
   "outputs": [
    {
     "data": {
      "text/plain": [
       "2696"
      ]
     },
     "execution_count": 17,
     "metadata": {},
     "output_type": "execute_result"
    }
   ],
   "source": [
    "len(val_samples)"
   ]
  },
  {
   "cell_type": "markdown",
   "metadata": {
    "colab_type": "text",
    "id": "PA7Cpo4N8OmI"
   },
   "source": [
    "## Define Net and Train"
   ]
  },
  {
   "cell_type": "code",
   "execution_count": 18,
   "metadata": {
    "colab": {},
    "colab_type": "code",
    "id": "kmaUHiHC6-IH"
   },
   "outputs": [],
   "source": [
    "import torch\n",
    "import torch.nn as nn\n",
    "from torch_geometric.nn import GCNConv\n",
    "from torch.nn import BatchNorm1d\n",
    "from torch_geometric.nn import global_add_pool, global_max_pool, global_mean_pool\n",
    "from torch.nn import Linear, CELU\n",
    "import torch.nn.functional as F"
   ]
  },
  {
   "cell_type": "code",
   "execution_count": 19,
   "metadata": {
    "colab": {
     "base_uri": "https://localhost:8080/",
     "height": 34
    },
    "colab_type": "code",
    "id": "lLK_AdoS5njr",
    "outputId": "3615df1c-6242-431e-f309-df1771bad6af"
   },
   "outputs": [
    {
     "data": {
      "text/plain": [
       "16193"
      ]
     },
     "execution_count": 19,
     "metadata": {},
     "output_type": "execute_result"
    }
   ],
   "source": [
    "n_features = 24 \n",
    "class Net(torch.nn.Module):\n",
    "    def __init__(self):\n",
    "        super(Net, self).__init__()\n",
    "        self.conv1 = GCNConv(n_features, 128)\n",
    "        self.bn1 = BatchNorm1d(128)\n",
    "        \n",
    "        \n",
    "        self.conv2 = GCNConv(128,64)\n",
    "        self.bn2 = BatchNorm1d(64)\n",
    "        \n",
    "        self.fc1 = Linear(64,64)\n",
    "        self.bn3 = BatchNorm1d(64)\n",
    "           \n",
    "        self.fc2 = Linear(64,1)\n",
    "        #self.drop_layer = nn.Dropout()\n",
    "        #self.fc3 = Linear(32,1)\n",
    "        \n",
    "    \n",
    "    def forward(self, data):\n",
    "        x, edge_index = data.x, data.edge_index\n",
    "        \n",
    "        x = F.relu(self.conv1(x, edge_index))\n",
    "        x = self.bn1(x)\n",
    "        \n",
    "        x = F.relu(self.conv2(x, edge_index))\n",
    "        x = self.bn2(x)\n",
    "        \n",
    "        x = global_max_pool(x, data.batch)\n",
    "        \n",
    "        x = F.relu(self.fc1(x))\n",
    "        x = self.bn3(x)\n",
    "        x = self.fc2(x)\n",
    "        #x = F.relu(self.fc2(x))\n",
    "        \n",
    "        #x = F.dropout(x, training=self.training)\n",
    "        \n",
    "        \n",
    "        #x = self.fc3(x)\n",
    "        \n",
    "        return x\n",
    "    \n",
    "def count_parameters(model):\n",
    "    return sum(p.numel() for p in model.parameters() if p.requires_grad)\n",
    "\n",
    "device = torch.device('cuda' if torch.cuda.is_available() else 'cpu')\n",
    "model = Net().to(device)\n",
    "count_parameters(model)"
   ]
  },
  {
   "cell_type": "code",
   "execution_count": 20,
   "metadata": {
    "colab": {},
    "colab_type": "code",
    "id": "aUrmjTqO5n2r"
   },
   "outputs": [],
   "source": [
    "def train(epoch, loader):\n",
    "    model.train()\n",
    "    \n",
    "    loss_all = 0\n",
    "    count = 0\n",
    "    for data in loader:\n",
    "        optimizer.zero_grad()\n",
    "        \n",
    "        # transform data\n",
    "        data = data.to(device)\n",
    "        real_y = data.y.to(device).type(\"torch.cuda.FloatTensor\")\n",
    "        \n",
    "        # predict \n",
    "        predicted = model(data)\n",
    "        \n",
    "        # compute loss \n",
    "        loss = torch.nn.MSELoss()(predicted.reshape([bs_model]), real_y)\n",
    "        loss_all += loss\n",
    "        count += 1\n",
    "        \n",
    "        # update step\n",
    "        loss.backward()\n",
    "        optimizer.step()\n",
    "    \n",
    "    loss_all = loss_all / count\n",
    "    return  loss.item()\n",
    "    \n",
    "\n",
    "def test(loader):\n",
    "    model.eval()\n",
    "    \n",
    "    pred_all = []\n",
    "    real_all = []\n",
    "    for data in loader:\n",
    "        # transform data\n",
    "        data = data.to(device)\n",
    "        real_y = data.y.to(device).type(\"torch.cuda.FloatTensor\")\n",
    "    \n",
    "        predicted = model(data).reshape([bs_model]).tolist()\n",
    "    \n",
    "        real_all += real_y.tolist()\n",
    "        pred_all += predicted\n",
    "     \n",
    "    L1Loss = abs(np.array(pred_all) - np.array(real_all)).mean()\n",
    "    \n",
    "    return L1Loss\n",
    "\n",
    "\n",
    "#def L1(pred, real):\n",
    "#    return abs(np.array(pred)-np.array(real)).mean()\n",
    "\n",
    "#def mse(pred, real):\n",
    "#    s = (np.array(pred) - np.array(real))**2\n",
    "#    return np.sqrt(s)"
   ]
  },
  {
   "cell_type": "code",
   "execution_count": 21,
   "metadata": {
    "colab": {
     "base_uri": "https://localhost:8080/",
     "height": 153
    },
    "colab_type": "code",
    "id": "TfxhPvh55n6R",
    "outputId": "a4211725-5d09-4e2b-f290-bdea5da468cf"
   },
   "outputs": [
    {
     "name": "stdout",
     "output_type": "stream",
     "text": [
      "model saved. EPOCH: 1, VAL Loss: 4.20\n",
      "model saved. EPOCH: 4, VAL Loss: 2.02\n",
      "model saved. EPOCH: 7, VAL Loss: 1.91\n",
      "model saved. EPOCH: 9, VAL Loss: 1.86\n"
     ]
    },
    {
     "data": {
      "text/plain": [
       "<All keys matched successfully>"
      ]
     },
     "execution_count": 21,
     "metadata": {},
     "output_type": "execute_result"
    }
   ],
   "source": [
    "device = torch.device('cuda' if torch.cuda.is_available() else 'cpu')\n",
    "model = Net().to(device)\n",
    "optimizer = torch.optim.Adam(model.parameters(), lr=0.01)#, weight_decay=5e-4)\n",
    "\n",
    "old_val_loss = 1000.\n",
    "for epoch in range(1,20):\n",
    "    train_loss = train(epoch, train_loader)\n",
    "    val_loss = test(val_loader)\n",
    "    acc_train_loss = test(train_loader)\n",
    "    \n",
    "    #print(f'train loss: {\"{:.2f}\".format(train_loss)}, L1 train loss: {\"{:.2f}\".format(acc_train_loss)}, val loss {\"{:.2f}\".format(val_loss)}') \n",
    "\n",
    "    # check point model with lowest val loss:\n",
    "    if val_loss < old_val_loss:\n",
    "        best_model_param = model.state_dict()\n",
    "        old_val_loss = val_loss\n",
    "        \n",
    "        print(f'model saved. EPOCH: {epoch}, VAL Loss: {\"{:.2f}\".format(val_loss)}')\n",
    "   \n",
    "\n",
    "    # Implement some sort of convergence criteria. \n",
    "\n",
    "    \n",
    "model = Net().to(device)\n",
    "model.load_state_dict(best_model_param)    \n",
    "#print(f\"model trained in: {\":.2f\".format(time.time()-t)} s\")"
   ]
  },
  {
   "cell_type": "code",
   "execution_count": 22,
   "metadata": {
    "colab": {
     "base_uri": "https://localhost:8080/",
     "height": 1000
    },
    "colab_type": "code",
    "id": "nU-gAwh2NgYC",
    "outputId": "4a0700ca-638a-422b-a7ab-9c04d115f047"
   },
   "outputs": [
    {
     "data": {
      "text/plain": [
       "OrderedDict([('conv1.weight',\n",
       "              tensor([[ 0.5902,  0.4923, -0.3193,  ...,  0.0109,  0.0353, -0.3358],\n",
       "                      [-0.0639, -0.0129,  0.0406,  ..., -0.0611, -0.0629,  0.2262],\n",
       "                      [-0.2113,  0.1095,  0.1682,  ...,  0.0980,  0.1393,  0.0419],\n",
       "                      ...,\n",
       "                      [-0.0967, -0.0837,  0.1256,  ..., -0.2491,  0.1244,  0.1877],\n",
       "                      [ 0.0968, -0.3009,  0.2245,  ...,  0.1545, -0.2756, -0.2078],\n",
       "                      [-0.0290, -0.0126, -0.1125,  ...,  0.1046,  0.0344, -0.1572]],\n",
       "                     device='cuda:0')),\n",
       "             ('conv1.bias',\n",
       "              tensor([ 0.0532,  0.0013,  0.1252, -0.0143,  0.0000, -0.0323, -0.1680,  0.0144,\n",
       "                      -0.0975,  0.0613,  0.0717,  0.0330,  0.0263,  0.1057,  0.0000, -0.1668,\n",
       "                      -0.0095,  0.0000, -0.0601, -0.0637, -0.2929,  0.0271, -0.0711, -0.0256,\n",
       "                       0.0905,  0.0098, -0.0617, -0.0265,  0.0194,  0.1813, -0.1342,  0.1167,\n",
       "                      -0.1091,  0.0800,  0.0053, -0.1204, -0.1338,  0.0152,  0.0000, -0.0787,\n",
       "                      -0.1182,  0.1144,  0.0685,  0.1291, -0.0648, -0.1162,  0.0626,  0.0544,\n",
       "                       0.0839, -0.1147, -0.0740, -0.0756, -0.0708, -0.1014,  0.0641, -0.1123,\n",
       "                       0.1297, -0.0439,  0.0778,  0.0213, -0.0210, -0.0602,  0.1070, -0.1100,\n",
       "                       0.0527,  0.0945,  0.0495,  0.0348, -0.0917,  0.1522,  0.0715, -0.0581,\n",
       "                      -0.0382, -0.1419, -0.4574, -0.0768,  0.1302, -0.1183, -0.0351, -0.2132,\n",
       "                      -0.0536,  0.0555, -0.0672,  0.0370, -0.0405,  0.0420,  0.0000, -0.0659,\n",
       "                       0.0733,  0.0007,  0.0013, -0.0504, -0.0157,  0.1774,  0.1497, -0.0097,\n",
       "                      -0.1297,  0.1439,  0.0000,  0.1148, -0.1374,  0.0977,  0.2902, -0.1786,\n",
       "                      -0.3310, -0.0175,  0.0283, -0.0362, -0.1191,  0.1086, -0.0204, -0.0180,\n",
       "                      -0.1320,  0.1122,  0.0632, -0.0601,  0.0000, -0.0923, -0.1083, -0.0741,\n",
       "                       0.4170,  0.0785, -0.0614,  0.0115,  0.0171, -0.1828, -0.1422, -0.1333],\n",
       "                     device='cuda:0')),\n",
       "             ('bn1.weight',\n",
       "              tensor([0.7484, 0.9911, 1.1312, 0.9651, 1.0000, 1.2465, 0.8963, 1.5995, 1.1670,\n",
       "                      0.9627, 0.7506, 1.0696, 1.2654, 0.8283, 1.0000, 0.6840, 1.5163, 1.0000,\n",
       "                      1.0601, 1.0162, 0.9787, 0.9360, 0.9286, 0.9061, 0.7305, 0.7598, 0.8557,\n",
       "                      0.6973, 1.3078, 0.8852, 0.9653, 0.8057, 0.6562, 1.0382, 0.9321, 0.9908,\n",
       "                      1.2061, 0.7166, 1.0000, 0.9338, 1.1392, 0.6472, 0.5600, 0.8008, 0.8594,\n",
       "                      0.8825, 1.0692, 0.8231, 0.6575, 1.2191, 1.1486, 1.1164, 1.0883, 0.9586,\n",
       "                      0.7051, 0.9443, 0.8002, 0.9278, 0.7430, 1.0054, 1.0801, 0.9296, 0.9118,\n",
       "                      0.9016, 0.8517, 0.6668, 0.9408, 0.8847, 0.9986, 1.0191, 0.8478, 0.9700,\n",
       "                      1.2250, 1.3041, 1.0102, 1.0718, 0.6677, 0.8878, 0.8346, 1.1288, 0.9704,\n",
       "                      0.8427, 1.0976, 0.7981, 1.2133, 0.8890, 1.0000, 0.9388, 1.1071, 0.8614,\n",
       "                      0.9187, 0.7162, 0.8277, 0.7522, 0.7163, 1.3383, 0.9848, 0.8148, 1.0000,\n",
       "                      0.6769, 0.8874, 0.9623, 0.8078, 0.8985, 0.7444, 0.8698, 0.8902, 0.9645,\n",
       "                      1.1038, 0.8959, 1.2337, 0.9836, 0.9159, 0.9835, 0.9786, 0.9399, 1.0000,\n",
       "                      0.9006, 1.2026, 1.1783, 0.9880, 0.7942, 0.9513, 1.2183, 0.8903, 1.3104,\n",
       "                      0.9436, 0.9804], device='cuda:0')),\n",
       "             ('bn1.bias',\n",
       "              tensor([-0.3849, -0.3402, -0.0046,  0.3578, -0.2011,  0.3782,  0.2190, -0.1025,\n",
       "                      -0.2891,  0.0675, -0.2201,  0.2828, -0.0112, -0.0735,  0.1646,  0.1676,\n",
       "                       0.0445,  0.0076,  0.1978,  0.1248,  0.1659,  0.2024, -0.0447,  0.0713,\n",
       "                      -0.0587, -0.0065, -0.1338, -0.2268, -0.0360, -0.2679, -0.1439, -0.0451,\n",
       "                      -0.0322,  0.0713, -0.1785, -0.2033,  0.2363,  0.3358,  0.2420,  0.1028,\n",
       "                      -0.0201, -0.0936, -0.1594, -0.0636, -0.1887,  0.2099,  0.4479,  0.0287,\n",
       "                       0.0522, -0.2111,  0.0090, -0.1082,  0.2423,  0.2407, -0.0053,  0.2119,\n",
       "                       0.0446, -0.0940, -0.1591, -0.2196,  0.1004,  0.0865, -0.2039, -0.1151,\n",
       "                      -0.1838,  0.1177,  0.0102, -0.0546, -0.0970, -0.1451, -0.3827,  0.2248,\n",
       "                       0.1267, -0.1062,  0.2331, -0.0506, -0.2220,  0.1468, -0.1554,  0.1596,\n",
       "                       0.0896, -0.1087,  0.2406, -0.3707,  0.2688, -0.1275,  0.1418,  0.0177,\n",
       "                       0.1056,  0.2819,  0.0553, -0.3207,  0.1251, -0.0109,  0.4477,  0.3529,\n",
       "                      -0.2493,  0.4508,  0.1835, -0.1422,  0.0767,  0.2636,  0.0566,  0.0707,\n",
       "                      -0.1016,  0.2597, -0.4676, -0.3238,  0.1234,  0.2610,  0.1442,  0.5486,\n",
       "                       0.2174,  0.1340, -0.0164,  0.1175, -0.0042,  0.0209,  0.0889,  0.1402,\n",
       "                       0.0008,  0.0721, -0.3823,  0.2104, -0.3107,  0.2547, -0.0919,  0.0847],\n",
       "                     device='cuda:0')),\n",
       "             ('bn1.running_mean',\n",
       "              tensor([9.1326e-01, 7.4210e-01, 3.4755e-01, 2.6968e-02, 0.0000e+00, 2.7625e-02,\n",
       "                      5.2240e-02, 6.5302e-02, 7.2388e-02, 6.6947e-01, 1.1289e-01, 8.7839e-03,\n",
       "                      1.9601e-02, 7.3223e-01, 0.0000e+00, 2.3754e-01, 1.8137e-02, 0.0000e+00,\n",
       "                      5.6052e-45, 9.7668e-02, 5.9839e-02, 1.8338e-01, 5.6052e-45, 1.5079e-01,\n",
       "                      2.6772e-01, 3.8797e-01, 1.3328e-02, 2.2584e-01, 1.5362e-01, 1.1514e+00,\n",
       "                      1.1911e-43, 5.8718e-01, 3.8370e-01, 8.9559e-02, 1.1664e-01, 1.9478e-43,\n",
       "                      2.9875e-03, 9.1181e-01, 0.0000e+00, 1.2612e-44, 2.8668e-02, 1.2915e+00,\n",
       "                      7.4238e-01, 6.5827e-01, 1.4136e-01, 1.0821e-40, 1.2571e-01, 3.2218e-01,\n",
       "                      7.9176e-01, 4.6391e-02, 1.2328e-01, 1.8724e-01, 1.3302e-02, 1.9711e-01,\n",
       "                      2.9195e-01, 6.7015e-02, 4.0994e-01, 9.1588e-02, 4.1423e-01, 1.2812e-01,\n",
       "                      1.0081e-01, 2.6625e-44, 8.8314e-01, 1.5414e-44, 1.5448e-01, 6.4807e-01,\n",
       "                      1.0878e-02, 1.4029e+00, 5.0447e-44, 8.0091e-01, 1.0276e+00, 5.1511e-01,\n",
       "                      9.5522e-02, 6.6072e-03, 3.0053e-12, 1.0228e-38, 5.8183e-01, 9.8091e-44,\n",
       "                      8.8826e-02, 8.5074e-03, 1.9936e-01, 2.5472e-01, 2.2648e-39, 6.2843e-01,\n",
       "                      3.6219e-02, 1.2734e-01, 0.0000e+00, 5.6052e-45, 1.1502e-01, 3.1577e-01,\n",
       "                      2.8317e-03, 2.2907e-01, 2.4415e-01, 5.5915e-01, 6.0608e-01, 2.1480e-02,\n",
       "                      2.9961e-01, 4.6984e-01, 0.0000e+00, 6.0711e-01, 6.2981e-01, 5.6863e-01,\n",
       "                      1.8645e+00, 2.5520e-25, 1.0108e+00, 2.6122e-01, 3.5847e-01, 1.1239e-01,\n",
       "                      2.5949e-29, 3.0377e-01, 7.9251e-02, 1.7960e-01, 2.9394e-02, 6.0860e-01,\n",
       "                      2.0948e-01, 5.6052e-45, 0.0000e+00, 2.2152e-41, 9.5761e-03, 3.8391e-03,\n",
       "                      1.3869e+00, 9.3555e-01, 3.5384e-01, 9.8626e-03, 1.2935e+00, 2.1406e-02,\n",
       "                      6.3199e-43, 7.6063e-02], device='cuda:0')),\n",
       "             ('bn1.running_var',\n",
       "              tensor([5.0296e-02, 4.9231e-02, 1.6235e-02, 6.2662e-03, 1.3757e-41, 5.5171e-03,\n",
       "                      5.8472e-03, 1.2619e-02, 1.2778e-02, 1.3770e-02, 1.8253e-02, 1.6696e-03,\n",
       "                      3.2479e-03, 3.5549e-02, 1.3757e-41, 2.4425e-02, 3.6462e-03, 1.3757e-41,\n",
       "                      1.3757e-41, 3.4962e-02, 1.2077e-02, 1.9776e-02, 1.3757e-41, 3.5285e-02,\n",
       "                      1.7784e-02, 2.5898e-02, 4.3498e-03, 1.9505e-02, 2.8277e-02, 3.6677e-02,\n",
       "                      1.3765e-41, 1.3362e-01, 3.7766e-02, 1.5875e-02, 2.5766e-02, 1.3765e-41,\n",
       "                      4.3287e-04, 4.0101e-02, 1.3757e-41, 1.3758e-41, 9.0731e-03, 4.5576e-02,\n",
       "                      3.6038e-02, 7.0092e-02, 1.6030e-02, 2.8619e-41, 6.0456e-02, 3.7574e-02,\n",
       "                      2.3811e-02, 8.3588e-03, 1.7710e-02, 4.2793e-02, 4.3542e-03, 5.0608e-02,\n",
       "                      7.5592e-02, 1.1958e-02, 4.4552e-02, 1.4826e-02, 3.2146e-02, 2.1193e-02,\n",
       "                      2.8251e-02, 1.3758e-41, 2.1038e-02, 1.3758e-41, 3.9740e-02, 3.0491e-02,\n",
       "                      1.8659e-03, 2.7903e-02, 1.3762e-41, 2.4253e-02, 3.5315e-02, 3.0005e-02,\n",
       "                      9.5088e-03, 1.0586e-03, 3.1555e-13, 1.2836e-39, 1.4978e-01, 1.3765e-41,\n",
       "                      3.5362e-02, 1.2897e-03, 2.7653e-02, 7.0405e-02, 2.2971e-40, 5.9848e-02,\n",
       "                      9.6173e-03, 1.7315e-02, 1.3757e-41, 1.3757e-41, 2.8238e-02, 4.3313e-02,\n",
       "                      6.7949e-04, 6.8091e-02, 4.6261e-02, 1.1953e-02, 7.3465e-02, 7.1462e-03,\n",
       "                      2.7643e-02, 7.7305e-02, 1.3757e-41, 1.7143e-02, 1.8676e-02, 5.7596e-02,\n",
       "                      3.0333e-02, 3.2511e-26, 3.7040e-02, 6.6310e-02, 4.8554e-02, 1.7013e-02,\n",
       "                      1.9500e-30, 2.1775e-02, 1.9038e-02, 4.5608e-02, 9.1506e-03, 2.1240e-02,\n",
       "                      1.1840e-02, 1.3757e-41, 1.3757e-41, 1.5552e-41, 1.0897e-03, 1.1995e-03,\n",
       "                      2.8506e-02, 3.3309e-02, 3.7838e-02, 1.9145e-03, 3.0933e-02, 3.9386e-03,\n",
       "                      1.3831e-41, 1.5494e-02], device='cuda:0')),\n",
       "             ('bn1.num_batches_tracked', tensor(423, device='cuda:0')),\n",
       "             ('conv2.weight',\n",
       "              tensor([[ 0.1708,  0.1412,  0.2385,  ..., -0.1664,  0.0586, -0.0987],\n",
       "                      [ 0.1866,  0.0160,  0.2072,  ...,  0.1422,  0.1383, -0.0075],\n",
       "                      [-0.5015, -0.3147, -0.0841,  ..., -0.0748, -0.1830,  0.1560],\n",
       "                      ...,\n",
       "                      [ 0.3649, -0.0557, -0.2938,  ...,  0.2213, -0.1097, -0.3742],\n",
       "                      [-0.0177, -0.0609, -0.0173,  ...,  0.0475, -0.1975,  0.1145],\n",
       "                      [-0.1192, -0.4337,  0.1067,  ..., -0.3844,  0.0167,  0.1240]],\n",
       "                     device='cuda:0')),\n",
       "             ('conv2.bias',\n",
       "              tensor([ 0.0272, -0.2001, -0.0812,  0.2644, -0.1037, -0.2210,  0.2035,  0.4173,\n",
       "                      -0.1567, -0.0871, -0.2781, -0.1747,  0.0158,  0.1670,  0.2714, -0.4840,\n",
       "                       0.1227,  0.0752, -0.1999, -0.0048,  0.0661, -0.1573,  0.3534, -0.0298,\n",
       "                       0.1497, -0.0440, -0.1723, -0.3373, -0.1205, -0.0181, -0.0715, -0.1635,\n",
       "                      -0.1153, -0.0932, -0.2695,  0.0507, -0.1085,  0.1137,  0.3246, -0.1457,\n",
       "                       0.0482,  0.0557,  0.0704, -0.0911,  0.1081,  0.1812, -0.3364,  0.0503,\n",
       "                       0.0035, -0.0648,  0.1200,  0.0221, -0.2798, -0.0865, -0.1268, -0.2740,\n",
       "                      -0.0080,  0.0746,  0.1552,  0.0270, -0.0825, -0.2229, -0.0652, -0.0154],\n",
       "                     device='cuda:0')),\n",
       "             ('bn2.weight',\n",
       "              tensor([1.1705, 1.2583, 1.1774, 0.7432, 0.8768, 1.5270, 0.5440, 0.9469, 1.3202,\n",
       "                      0.6205, 1.0006, 1.3172, 0.5334, 0.7808, 0.8912, 0.9498, 1.1145, 1.0116,\n",
       "                      1.2174, 1.1468, 0.8085, 1.0483, 0.3926, 0.8715, 0.8571, 0.9255, 1.1765,\n",
       "                      1.0515, 0.9522, 1.0998, 1.2538, 1.2555, 1.2782, 0.6286, 0.8327, 1.0733,\n",
       "                      1.1637, 0.9309, 0.8603, 1.1030, 0.9668, 1.0034, 0.9162, 0.6961, 0.8637,\n",
       "                      0.8162, 1.1854, 0.6232, 0.9494, 1.2287, 0.9087, 0.9081, 1.5007, 1.0211,\n",
       "                      1.2813, 0.9645, 0.9477, 0.6655, 1.0415, 0.9034, 1.0992, 0.9876, 0.8521,\n",
       "                      1.0034], device='cuda:0')),\n",
       "             ('bn2.bias',\n",
       "              tensor([ 0.1952,  0.0052,  0.0316, -0.0717, -0.0808,  0.1386, -0.2233, -0.1650,\n",
       "                       0.1638, -0.0042,  0.2228,  0.1579, -0.1354, -0.0831,  0.0368,  0.2723,\n",
       "                       0.3891,  0.2163,  0.0571,  0.0702, -0.1560, -0.3896,  0.3339, -0.1913,\n",
       "                      -0.0564, -0.1999,  0.0298,  0.0592, -0.1864,  0.1898,  0.2139,  0.1186,\n",
       "                       0.0016,  0.2882, -0.1299,  0.1268, -0.1906,  0.1209,  0.1196, -0.0993,\n",
       "                      -0.0804, -0.1264, -0.1806,  0.1179,  0.0214, -0.1468, -0.1473, -0.0974,\n",
       "                      -0.2667,  0.0069, -0.2758, -0.1331,  0.0366, -0.1753,  0.1487,  0.1039,\n",
       "                      -0.0424, -0.5354,  0.1903, -0.2772, -0.2223,  0.0278, -0.1700,  0.0516],\n",
       "                     device='cuda:0')),\n",
       "             ('bn2.running_mean',\n",
       "              tensor([0.8729, 0.8643, 0.8667, 1.3267, 0.8660, 0.9590, 2.4297, 2.7714, 0.9652,\n",
       "                      1.5223, 1.0418, 1.2862, 2.9499, 2.0204, 2.2893, 0.4555, 2.5044, 1.4914,\n",
       "                      1.0396, 1.3344, 2.2188, 1.3677, 1.4312, 1.0421, 1.9970, 1.2118, 1.4318,\n",
       "                      1.2565, 1.9127, 2.0303, 1.4044, 0.7572, 0.8641, 0.7161, 0.0106, 1.7732,\n",
       "                      1.0430, 1.1448, 2.2369, 1.2371, 1.2668, 0.5635, 0.7030, 1.5333, 1.8366,\n",
       "                      3.7165, 1.3836, 1.9341, 2.1327, 0.6987, 3.1551, 2.1069, 0.7910, 1.5883,\n",
       "                      0.7053, 1.4907, 1.1317, 2.8392, 2.0367, 0.7928, 0.6707, 0.3631, 0.5171,\n",
       "                      1.0065], device='cuda:0')),\n",
       "             ('bn2.running_var',\n",
       "              tensor([2.2379e+00, 2.8387e+00, 2.0329e+00, 4.1177e+00, 1.5411e+00, 3.2690e+00,\n",
       "                      1.2153e+01, 8.8977e+00, 4.1360e+00, 3.5079e+00, 1.9741e+00, 3.4828e+00,\n",
       "                      7.2040e+00, 5.7033e+00, 7.2254e+00, 2.1680e+00, 8.7393e+00, 6.2618e+00,\n",
       "                      3.7972e+00, 4.9099e+00, 5.1759e+00, 5.5148e+00, 5.4173e+00, 3.6977e+00,\n",
       "                      5.5791e+00, 4.4538e+00, 5.9934e+00, 2.8130e+00, 5.6131e+00, 8.2807e+00,\n",
       "                      5.8155e+00, 2.0558e+00, 2.0871e+00, 1.4154e+00, 2.4704e-02, 5.3743e+00,\n",
       "                      2.6520e+00, 4.3443e+00, 9.6907e+00, 4.0036e+00, 2.9431e+00, 1.6052e+00,\n",
       "                      2.4978e+00, 3.4418e+00, 7.4420e+00, 3.0371e+01, 5.3294e+00, 6.7698e+00,\n",
       "                      1.0451e+01, 1.7533e+00, 1.2188e+01, 5.8224e+00, 2.1613e+00, 4.3479e+00,\n",
       "                      2.2886e+00, 3.7280e+00, 4.7750e+00, 1.1480e+01, 6.5217e+00, 1.6048e+00,\n",
       "                      3.4452e+00, 8.4890e-01, 8.0730e-01, 2.4830e+00], device='cuda:0')),\n",
       "             ('bn2.num_batches_tracked', tensor(423, device='cuda:0')),\n",
       "             ('fc1.weight',\n",
       "              tensor([[ 0.0468,  0.0921,  0.0447,  ...,  0.1491,  0.0281, -0.0251],\n",
       "                      [ 0.0371,  0.0095, -0.0012,  ...,  0.0373, -0.0884,  0.0789],\n",
       "                      [ 0.0685,  0.0313, -0.5552,  ...,  0.1474, -0.2578, -0.3940],\n",
       "                      ...,\n",
       "                      [ 0.1165, -0.1380,  0.1418,  ...,  0.1956,  0.3300,  0.2182],\n",
       "                      [-0.0709, -0.0917, -0.0868,  ..., -0.0793,  0.0217, -0.0326],\n",
       "                      [ 0.2380,  0.1902,  0.1434,  ..., -0.1606, -0.0502, -0.0983]],\n",
       "                     device='cuda:0')),\n",
       "             ('fc1.bias',\n",
       "              tensor([ 0.0558, -0.0732, -0.3536, -0.1805, -0.0968, -0.0214, -0.2928,  0.0172,\n",
       "                      -0.0612, -0.1627,  0.1754, -0.0306, -0.1648,  0.1486,  0.0745,  0.0272,\n",
       "                      -0.0486,  0.0160,  0.0426, -0.1026,  0.0969,  0.0394, -0.1637,  0.4519,\n",
       "                      -0.0940, -0.0085, -0.0768, -0.2428, -0.1485, -0.0572, -0.0746, -0.1589,\n",
       "                      -0.0658, -0.2574, -0.0768,  0.2557, -0.0539,  0.2619, -0.1207,  0.1002,\n",
       "                       0.1700,  0.0380,  0.0282, -0.0284, -0.2417, -0.0666,  0.2560,  0.0792,\n",
       "                      -0.0729, -0.1678, -0.0540,  0.2270, -0.0198,  0.2493,  0.0798, -0.0059,\n",
       "                       0.0067,  0.1277,  0.0619,  0.0130,  0.1153,  0.1134, -0.0620,  0.1736],\n",
       "                     device='cuda:0')),\n",
       "             ('bn3.weight',\n",
       "              tensor([0.8836, 0.9263, 0.8886, 0.9399, 0.9322, 0.7533, 0.8592, 0.9137, 1.0546,\n",
       "                      0.9207, 0.8559, 0.9452, 0.9299, 0.9236, 0.8584, 0.8788, 0.7088, 0.9212,\n",
       "                      0.9501, 0.9357, 0.9579, 0.7838, 0.9353, 1.1640, 0.9448, 0.8572, 0.9955,\n",
       "                      0.8894, 0.9395, 0.9399, 0.8395, 0.9764, 0.9399, 0.7595, 0.7774, 0.9288,\n",
       "                      0.8750, 0.9119, 0.8184, 0.8134, 1.0643, 0.9174, 1.0445, 0.7656, 0.7072,\n",
       "                      0.9867, 0.8720, 0.9085, 0.9399, 0.8460, 0.9089, 1.1933, 0.7699, 0.8839,\n",
       "                      0.8173, 1.0230, 0.7896, 1.0305, 0.9273, 0.9399, 0.7876, 0.8620, 0.9734,\n",
       "                      1.0015], device='cuda:0')),\n",
       "             ('bn3.bias',\n",
       "              tensor([ 0.6098, -0.6177, -0.6046, -0.5951, -0.5691,  0.5969,  0.6059, -0.5948,\n",
       "                       0.6147, -0.6149, -0.6088,  0.6186,  0.5109,  0.6055, -0.6037,  0.5986,\n",
       "                       0.5751, -0.5797, -0.5922, -0.6034, -0.6127,  0.5914,  0.6113, -0.5911,\n",
       "                       0.6259, -0.5935,  0.5882, -0.6210,  0.6075, -0.6179,  0.5991, -0.5797,\n",
       "                       0.5983, -0.6103, -0.6228, -0.5895, -0.5614, -0.5874, -0.5909, -0.5853,\n",
       "                      -0.5897, -0.5954,  0.6155, -0.6029, -0.5732, -0.5912, -0.5832,  0.5946,\n",
       "                      -0.6230, -0.6092,  0.5928,  0.6221,  0.6175,  0.6091,  0.6174, -0.6020,\n",
       "                      -0.6249, -0.5892,  0.6010,  0.6203,  0.6158,  0.6031,  0.6072, -0.5969],\n",
       "                     device='cuda:0')),\n",
       "             ('bn3.running_mean',\n",
       "              tensor([4.8752e+00, 5.6052e-45, 1.7707e-13, 5.6052e-45, 1.2489e-40, 2.0819e-15,\n",
       "                      2.6291e-24, 5.0283e+00, 3.7835e-44, 5.1568e-43, 8.4583e+00, 5.6052e-45,\n",
       "                      1.1715e-42, 5.5046e+00, 5.6838e+00, 1.1022e-14, 2.1925e-11, 4.9276e+00,\n",
       "                      1.1562e+01, 3.4920e+00, 2.4554e+00, 2.8457e+00, 3.8816e-43, 9.2405e-01,\n",
       "                      5.0307e-43, 3.7173e+00, 5.4419e-41, 8.1703e-01, 2.9743e-41, 5.6052e-45,\n",
       "                      2.2984e-19, 9.7215e+00, 2.8591e+00, 1.0036e-05, 1.4654e-40, 5.9149e+00,\n",
       "                      8.3906e+00, 5.4315e+00, 5.6318e+00, 7.0219e+00, 1.3167e+01, 3.5032e-44,\n",
       "                      7.2868e-44, 1.3359e+01, 1.8838e-10, 1.2571e+01, 5.8075e+00, 4.6184e-34,\n",
       "                      5.6052e-45, 2.5793e-34, 7.1938e-27, 7.4200e-02, 7.0625e-42, 2.8503e+00,\n",
       "                      5.2626e+00, 1.2453e+01, 2.9535e-41, 1.2416e+01, 1.5337e-12, 5.6052e-45,\n",
       "                      6.7041e+00, 2.1871e+00, 2.6043e-41, 1.2403e+01], device='cuda:0')),\n",
       "             ('bn3.running_var',\n",
       "              tensor([1.0245e+01, 1.3758e-41, 1.4701e-14, 1.3757e-41, 8.1176e-41, 4.5396e-15,\n",
       "                      1.4866e-25, 7.5735e+00, 1.3771e-41, 1.4176e-41, 6.3417e+00, 1.3757e-41,\n",
       "                      1.4131e-41, 8.6699e+00, 9.6703e+00, 4.5282e-14, 3.9190e-11, 9.6570e+00,\n",
       "                      1.3212e+01, 6.6800e+00, 6.7447e+00, 8.0349e+00, 1.3985e-41, 2.2683e+00,\n",
       "                      1.3942e-41, 6.8186e+00, 6.0284e-41, 1.6813e+00, 5.7188e-41, 1.3757e-41,\n",
       "                      5.3954e-19, 1.2868e+01, 7.1523e+00, 1.6624e-05, 1.2110e-40, 7.0718e+00,\n",
       "                      7.0543e+00, 6.8217e+00, 5.8338e+00, 8.0104e+00, 7.2874e+00, 1.3775e-41,\n",
       "                      1.3792e-41, 4.7642e+00, 5.5405e-10, 7.6756e+00, 4.8609e+00, 4.6374e-34,\n",
       "                      1.3757e-41, 3.4877e-35, 8.8702e-27, 1.8351e-01, 2.0267e-41, 6.6809e+00,\n",
       "                      9.5852e+00, 1.0220e+01, 4.1435e-41, 6.3142e+00, 9.0490e-12, 1.3758e-41,\n",
       "                      1.1483e+01, 4.9100e+00, 3.6900e-41, 7.3784e+00], device='cuda:0')),\n",
       "             ('bn3.num_batches_tracked', tensor(423, device='cuda:0')),\n",
       "             ('fc2.weight',\n",
       "              tensor([[ 0.5894, -0.6074, -0.6059, -0.6938, -0.5879,  0.6126,  0.6015, -0.6412,\n",
       "                        0.6331, -0.6128, -0.6033,  0.6122,  0.5061,  0.6296, -0.6024,  0.6188,\n",
       "                        0.5289, -0.6841, -0.6632, -0.6243, -0.6285,  0.6405,  0.5286, -0.7140,\n",
       "                        0.5537, -0.6250,  0.6960, -0.5835,  0.5918, -0.6203,  0.6405, -0.7013,\n",
       "                        0.6188, -0.5981, -0.6081, -0.6508, -0.5812, -0.6525, -0.6238, -0.5361,\n",
       "                       -0.7011, -0.6807,  0.6295, -0.5634, -0.5212, -0.6968, -0.6442,  0.6691,\n",
       "                       -0.5756, -0.6458,  0.6705,  0.6746,  0.5851,  0.5865,  0.5677, -0.6502,\n",
       "                       -0.5687, -0.7042,  0.6345,  0.6047,  0.5657,  0.6111,  0.6157, -0.6531]],\n",
       "                     device='cuda:0')),\n",
       "             ('fc2.bias', tensor([0.3845], device='cuda:0'))])"
      ]
     },
     "execution_count": 22,
     "metadata": {},
     "output_type": "execute_result"
    }
   ],
   "source": [
    "best_model_param"
   ]
  },
  {
   "cell_type": "code",
   "execution_count": 23,
   "metadata": {
    "colab": {},
    "colab_type": "code",
    "id": "EnwdbiP3hv5P"
   },
   "outputs": [],
   "source": [
    "torch.save(best_model_param, 'state_model_storage_9.pt')"
   ]
  },
  {
   "cell_type": "markdown",
   "metadata": {
    "colab_type": "text",
    "id": "vNJy05S2X0zY"
   },
   "source": [
    "# Try Model"
   ]
  },
  {
   "cell_type": "code",
   "execution_count": 24,
   "metadata": {
    "colab": {},
    "colab_type": "code",
    "id": "CDy60JTIExaN"
   },
   "outputs": [],
   "source": [
    "model.load_state_dict(torch.load('state_model_storage_9.pt'))\n",
    "\n",
    "def compute_energies(loader):\n",
    "    model.eval()\n",
    "    \n",
    "    pred_all = []\n",
    "    real_all = []\n",
    "    for data in loader:\n",
    "        # transform data\n",
    "        data = data.to(device)\n",
    "        real_y = data.y.to(device).type(\"torch.cuda.FloatTensor\")\n",
    "    \n",
    "        predicted = model(data).reshape([bs_model]).tolist()\n",
    "    \n",
    "        real_all += real_y.tolist()\n",
    "        pred_all += predicted\n",
    "    \n",
    "    return real_all, pred_all"
   ]
  },
  {
   "cell_type": "markdown",
   "metadata": {
    "colab_type": "text",
    "id": "rj5kNT5OFdAw"
   },
   "source": [
    "## Test model"
   ]
  },
  {
   "cell_type": "code",
   "execution_count": 25,
   "metadata": {
    "colab": {
     "base_uri": "https://localhost:8080/",
     "height": 34
    },
    "colab_type": "code",
    "id": "2siqIhme2hRF",
    "outputId": "ab3dda61-ecbf-4c57-bc3e-184daf339a24"
   },
   "outputs": [
    {
     "name": "stdout",
     "output_type": "stream",
     "text": [
      "6741\n"
     ]
    }
   ],
   "source": [
    "#df_dict = dict()\n",
    "df_dict = gcnn_test[gcnn_test.storage > 0.]\n",
    "\n",
    "print(len(df_dict))"
   ]
  },
  {
   "cell_type": "markdown",
   "metadata": {
    "colab_type": "text",
    "id": "DVvi_BDQO0lS"
   },
   "source": [
    "### plot real vs. test"
   ]
  },
  {
   "cell_type": "code",
   "execution_count": 27,
   "metadata": {
    "colab": {
     "base_uri": "https://localhost:8080/",
     "height": 403
    },
    "colab_type": "code",
    "id": "JaMSFYlONBPE",
    "outputId": "5b2f314c-7d25-43d0-8654-33224f7fbe62"
   },
   "outputs": [
    {
     "data": {
      "text/plain": [
       "(0, 83.75)"
      ]
     },
     "execution_count": 27,
     "metadata": {},
     "output_type": "execute_result"
    },
    {
     "data": {
      "image/png": "[encoded data removed]",
      "text/plain": [
       "<Figure size 432x432 with 1 Axes>"
      ]
     },
     "metadata": {},
     "output_type": "display_data"
    }
   ],
   "source": [
    "import matplotlib as mpl\n",
    "\n",
    "mpl.rc({'figure.autolayout': True})\n",
    "# Helvetica format and white background\n",
    "mpl.rc(\"text.latex\", preamble=[\"\\\\usepackage{helvet}\\\\usepackage{sfmath}\"])\n",
    "mpl.rc(\"figure\", facecolor=\"white\")\n",
    "#! supscript and superscript NOT italic\n",
    "mpl.rc({'mathtext.default': 'regular'})\n",
    "\n",
    "plt.figure(figsize=(6,6))\n",
    "\n",
    "graph_test =  [mol2vec(Chem.MolFromSmiles(x)) for x in df_dict.smiles]\n",
    "for graph, energy in zip(graph_test, df_dict.storage):\n",
    "    graph.y = torch.tensor([energy], dtype=torch.float64)\n",
    "\n",
    "tt_loader = DataLoader(graph_test, batch_size=bs_model, shuffle=True, drop_last=True)\n",
    "\n",
    "# plot stuff\n",
    "tt_real, tt_pred = compute_energies(tt_loader)\n",
    "\n",
    "plt.plot(np.array(tt_real), np.array(tt_pred), '.')\n",
    "plt.plot(np.array([5,80]), np.array([5,80]))\n",
    "\n",
    "\n",
    "plt.xlabel(r'Calculated $\\Delta$E$_{storage}$ [kJ/mol]', fontsize=16), plt.ylabel(r'Predicted $\\Delta$E$_{storage}$ [kJ/mol]', fontsize=16), \n",
    "plt.tick_params(labelsize=14)\n",
    "plt.ylim(bottom=0)\n",
    "\n",
    "#plt.savefig('/content/drive/My Drive/Kemi på KU/pred_vs_true_storage.pdf', dpi=800)"
   ]
  },
  {
   "cell_type": "markdown",
   "metadata": {
    "colab_type": "text",
    "id": "lJnjA0VJPBqn"
   },
   "source": [
    "### mean + std from all"
   ]
  },
  {
   "cell_type": "code",
   "execution_count": null,
   "metadata": {
    "colab": {
     "base_uri": "https://localhost:8080/",
     "height": 34
    },
    "colab_type": "code",
    "id": "QscBsm8zOtN6",
    "outputId": "3bb0e794-5df5-4b35-cedc-b975c2635b20"
   },
   "outputs": [
    {
     "name": "stdout",
     "output_type": "stream",
     "text": [
      "[3.29450451] [2.58973801]\n"
     ]
    }
   ],
   "source": [
    "mean = []\n",
    "std = []\n",
    "\n",
    "t = df_dict\n",
    "    \n",
    "# make graphs\n",
    "ggt =  [mol2vec(Chem.MolFromSmiles(x)) for x in t.smiles]\n",
    "for graph, energy in zip(ggt, t.storage):\n",
    "    graph.y = torch.tensor([energy], dtype=torch.float64)\n",
    "t_loader = DataLoader(ggt, batch_size=bs_model, shuffle=True, drop_last=True)\n",
    "    \n",
    "    \n",
    "# predict values\n",
    "t_real, t_pred = compute_energies(t_loader)\n",
    "    \n",
    "# compute mean and std\n",
    "mae = abs(np.array(t_pred) - np.array(t_real)).mean()\n",
    "mae_error = abs(np.array(t_pred) - np.array(t_real)).std()\n",
    "    \n",
    "mean.append(mae)\n",
    "std.append(mae_error)\n",
    "    \n",
    "\n",
    "mean = np.array(mean)\n",
    "std = np.array(std)\n",
    "print(mean, std)"
   ]
  },
  {
   "cell_type": "code",
   "execution_count": null,
   "metadata": {
    "colab": {
     "base_uri": "https://localhost:8080/",
     "height": 235
    },
    "colab_type": "code",
    "id": "vb02MVeEd9MG",
    "outputId": "ae9dc87d-d50d-4634-add3-c556bb7231da"
   },
   "outputs": [
    {
     "name": "stdout",
     "output_type": "stream",
     "text": [
      "              comp_name  ...         tbr\n",
      "11923  A-5_A-13_A-0_A-0  ...  102.392733\n",
      "\n",
      "[1 rows x 4 columns]\n"
     ]
    },
    {
     "data": {
      "image/png": "[encoded data removed]",
      "text/plain": [
       "<rdkit.Chem.rdchem.Mol at 0x7f5a949d7b70>"
      ]
     },
     "execution_count": 30,
     "metadata": {
      "tags": []
     },
     "output_type": "execute_result"
    }
   ],
   "source": [
    "maximum = t['storage'] == max(t.storage)\n",
    "smile = t[maximum].smiles\n",
    "print(t[maximum])\n",
    "\n",
    "Chem.MolFromSmiles(str(smile.to_list()[0]))"
   ]
  },
  {
   "cell_type": "markdown",
   "metadata": {
    "colab_type": "text",
    "id": "R0owPBKIfZ-L"
   },
   "source": [
    "# Generate Gene"
   ]
  },
  {
   "cell_type": "markdown",
   "metadata": {
    "colab_type": "text",
    "id": "47hQa-IPth_Y"
   },
   "source": [
    "## Gene to Graph"
   ]
  },
  {
   "cell_type": "code",
   "execution_count": null,
   "metadata": {
    "colab": {
     "base_uri": "https://localhost:8080/",
     "height": 34
    },
    "colab_type": "code",
    "id": "3rJuVX-ZS5fu",
    "outputId": "d5da0b35-b1b1-4905-afa8-7b6ea71d1c59"
   },
   "outputs": [
    {
     "data": {
      "text/plain": [
       "\"[['A',2,7,16,0,0],['B',2,0,0,0,0],['A',0,0,0,0,0],['A',0,0,0,0,0]]\""
      ]
     },
     "execution_count": 31,
     "metadata": {
      "tags": []
     },
     "output_type": "execute_result"
    }
   ],
   "source": [
    "\"[['A',2,7,16,0,0],['B',2,0,0,0,0],['A',0,0,0,0,0],['A',0,0,0,0,0]]\""
   ]
  },
  {
   "cell_type": "code",
   "execution_count": null,
   "metadata": {
    "colab": {
     "base_uri": "https://localhost:8080/",
     "height": 238
    },
    "colab_type": "code",
    "id": "z_0Tq_iOfeoq",
    "outputId": "b443c351-fa07-4892-cb63-ffa2e6e0052d"
   },
   "outputs": [
    {
     "name": "stdout",
     "output_type": "stream",
     "text": [
      "COc1ccccc1C1=CC2C=CC1C2\n"
     ]
    },
    {
     "data": {
      "image/svg+xml": [
       "<svg baseProfile=\"full\" height=\"200px\" version=\"1.1\" viewBox=\"0 0 600 200\" width=\"600px\" xml:space=\"preserve\" xmlns=\"http://www.w3.org/2000/svg\" xmlns:rdkit=\"http://www.rdkit.org/xml\" xmlns:xlink=\"http://www.w3.org/1999/xlink\">\n",
       "<!-- END OF HEADER -->\n",
       "<rect height=\"200\" style=\"opacity:1.0;fill:#FFFFFF;stroke:none\" width=\"600\" x=\"0\" y=\"0\"> </rect>\n",
       "<path class=\"bond-0\" d=\"M 167.975,117.724 L 190.909,90.3646\" style=\"fill:none;fill-rule:evenodd;stroke:#000000;stroke-width:2px;stroke-linecap:butt;stroke-linejoin:miter;stroke-opacity:1\"/>\n",
       "<path class=\"bond-0\" d=\"M 165.943,109.033 L 181.997,89.8818\" style=\"fill:none;fill-rule:evenodd;stroke:#000000;stroke-width:2px;stroke-linecap:butt;stroke-linejoin:miter;stroke-opacity:1\"/>\n",
       "<path class=\"bond-14\" d=\"M 167.975,117.724 L 134.868,104.367\" style=\"fill:none;fill-rule:evenodd;stroke:#000000;stroke-width:2px;stroke-linecap:butt;stroke-linejoin:miter;stroke-opacity:1\"/>\n",
       "<path class=\"bond-1\" d=\"M 190.909,90.3646 L 171.976,60.0987\" style=\"fill:none;fill-rule:evenodd;stroke:#000000;stroke-width:2px;stroke-linecap:butt;stroke-linejoin:miter;stroke-opacity:1\"/>\n",
       "<path class=\"bond-2\" d=\"M 171.976,60.0987 L 137.34,68.7529\" style=\"fill:none;fill-rule:evenodd;stroke:#000000;stroke-width:2px;stroke-linecap:butt;stroke-linejoin:miter;stroke-opacity:1\"/>\n",
       "<path class=\"bond-15\" d=\"M 171.976,60.0987 L 138.868,46.7419\" style=\"fill:none;fill-rule:evenodd;stroke:#000000;stroke-width:2px;stroke-linecap:butt;stroke-linejoin:miter;stroke-opacity:1\"/>\n",
       "<path class=\"bond-3\" d=\"M 137.34,68.7529 L 134.868,104.367\" style=\"fill:none;fill-rule:evenodd;stroke:#000000;stroke-width:2px;stroke-linecap:butt;stroke-linejoin:miter;stroke-opacity:1\"/>\n",
       "<path class=\"bond-4\" d=\"M 134.868,104.367 L 115.934,74.1015\" style=\"fill:none;fill-rule:evenodd;stroke:#000000;stroke-width:2px;stroke-linecap:butt;stroke-linejoin:miter;stroke-opacity:1\"/>\n",
       "<path class=\"bond-5\" d=\"M 115.934,74.1015 L 80.3199,71.6292\" style=\"fill:none;fill-rule:evenodd;stroke:#000000;stroke-width:2px;stroke-linecap:butt;stroke-linejoin:miter;stroke-opacity:1\"/>\n",
       "<path class=\"bond-13\" d=\"M 115.934,74.1015 L 138.868,46.7419\" style=\"fill:none;fill-rule:evenodd;stroke:#000000;stroke-width:2px;stroke-linecap:butt;stroke-linejoin:miter;stroke-opacity:1\"/>\n",
       "<path class=\"bond-13\" d=\"M 124.846,74.5843 L 140.9,55.4326\" style=\"fill:none;fill-rule:evenodd;stroke:#000000;stroke-width:2px;stroke-linecap:butt;stroke-linejoin:miter;stroke-opacity:1\"/>\n",
       "<path class=\"bond-6\" d=\"M 80.3199,71.6292 L 64.6537,39.55\" style=\"fill:none;fill-rule:evenodd;stroke:#000000;stroke-width:2px;stroke-linecap:butt;stroke-linejoin:miter;stroke-opacity:1\"/>\n",
       "<path class=\"bond-6\" d=\"M 71.5541,69.9506 L 60.5878,47.4952\" style=\"fill:none;fill-rule:evenodd;stroke:#000000;stroke-width:2px;stroke-linecap:butt;stroke-linejoin:miter;stroke-opacity:1\"/>\n",
       "<path class=\"bond-16\" d=\"M 80.3199,71.6292 L 60.3716,101.236\" style=\"fill:none;fill-rule:evenodd;stroke:#000000;stroke-width:2px;stroke-linecap:butt;stroke-linejoin:miter;stroke-opacity:1\"/>\n",
       "<path class=\"bond-7\" d=\"M 64.6537,39.55 L 29.0392,37.0778\" style=\"fill:none;fill-rule:evenodd;stroke:#000000;stroke-width:2px;stroke-linecap:butt;stroke-linejoin:miter;stroke-opacity:1\"/>\n",
       "<path class=\"bond-8\" d=\"M 29.0392,37.0778 L 9.09091,66.6847\" style=\"fill:none;fill-rule:evenodd;stroke:#000000;stroke-width:2px;stroke-linecap:butt;stroke-linejoin:miter;stroke-opacity:1\"/>\n",
       "<path class=\"bond-8\" d=\"M 31.9683,45.5085 L 18.0045,66.2333\" style=\"fill:none;fill-rule:evenodd;stroke:#000000;stroke-width:2px;stroke-linecap:butt;stroke-linejoin:miter;stroke-opacity:1\"/>\n",
       "<path class=\"bond-9\" d=\"M 9.09091,66.6847 L 24.7571,98.7639\" style=\"fill:none;fill-rule:evenodd;stroke:#000000;stroke-width:2px;stroke-linecap:butt;stroke-linejoin:miter;stroke-opacity:1\"/>\n",
       "<path class=\"bond-10\" d=\"M 24.7571,98.7639 L 60.3716,101.236\" style=\"fill:none;fill-rule:evenodd;stroke:#000000;stroke-width:2px;stroke-linecap:butt;stroke-linejoin:miter;stroke-opacity:1\"/>\n",
       "<path class=\"bond-10\" d=\"M 30.5937,92.0118 L 55.5239,93.7424\" style=\"fill:none;fill-rule:evenodd;stroke:#000000;stroke-width:2px;stroke-linecap:butt;stroke-linejoin:miter;stroke-opacity:1\"/>\n",
       "<path class=\"bond-11\" d=\"M 60.3716,101.236 L 66.7518,114.301\" style=\"fill:none;fill-rule:evenodd;stroke:#000000;stroke-width:2px;stroke-linecap:butt;stroke-linejoin:miter;stroke-opacity:1\"/>\n",
       "<path class=\"bond-11\" d=\"M 66.7518,114.301 L 73.132,127.365\" style=\"fill:none;fill-rule:evenodd;stroke:#FF0000;stroke-width:2px;stroke-linecap:butt;stroke-linejoin:miter;stroke-opacity:1\"/>\n",
       "<path class=\"bond-12\" d=\"M 72.0288,139.265 L 64.0591,151.094\" style=\"fill:none;fill-rule:evenodd;stroke:#FF0000;stroke-width:2px;stroke-linecap:butt;stroke-linejoin:miter;stroke-opacity:1\"/>\n",
       "<path class=\"bond-12\" d=\"M 64.0591,151.094 L 56.0895,162.922\" style=\"fill:none;fill-rule:evenodd;stroke:#000000;stroke-width:2px;stroke-linecap:butt;stroke-linejoin:miter;stroke-opacity:1\"/>\n",
       "<text style=\"font-size:11px;font-style:normal;font-weight:normal;fill-opacity:1;stroke:none;font-family:sans-serif;text-anchor:start;fill:#FF0000\" x=\"70.4806\" y=\"139.265\"><tspan>O</tspan></text>\n",
       "</svg>"
      ],
      "text/plain": [
       "<IPython.core.display.SVG object>"
      ]
     },
     "execution_count": 32,
     "metadata": {
      "tags": []
     },
     "output_type": "execute_result"
    }
   ],
   "source": [
    "ligands_A = ['H', 'F', 'C(F)(F)(F)', 'C#N',\n",
    "           '[N+](=O)([O-])', 'C(=O)[H]', 'C(=O)O',\n",
    "           'C(=O)C', 'C(=O)N', 'S(=O)(=O)(C)',\n",
    "           'C=N', 'O', 'OC', 'N', 'N(C)(C)', 'C',\n",
    "           'N(C(=O)(C))', 'SC']\n",
    "    \n",
    "\n",
    "def ligands_B(gene):\n",
    "    \n",
    "    gene_smiles = 'C#CC1=C(1)C(2)=C(3)C(4)=C1(5)'\n",
    "\n",
    "    for i, ligand_idx in enumerate(gene):\n",
    "        substr = ligands_A[int(ligand_idx)]\n",
    "        \n",
    "        if substr == 'H':\n",
    "            continue\n",
    "            \n",
    "        gene_smiles = gene_smiles.replace('('+str(i+1)+')', f'({substr})')\n",
    " \n",
    "    return Chem.MolToSmiles(Chem.MolFromSmiles( re.sub('\\([0-9]\\)', '', gene_smiles))).replace('c1','c3').replace('C#C','')\n",
    "\n",
    "\n",
    "def ligands_C(gene):\n",
    "    \n",
    "    gene_smiles = 'C#CC1=C(1)C(2)=C(3)C(4)=C1(5)'\n",
    "\n",
    "    for i, ligand_idx in enumerate(gene):\n",
    "        substr = ligands_A[int(ligand_idx)]\n",
    "        \n",
    "        if substr == 'H':\n",
    "            continue\n",
    "            \n",
    "        gene_smiles = gene_smiles.replace('('+str(i+1)+')', f'({substr})')\n",
    " \n",
    "    return Chem.MolToSmiles(Chem.MolFromSmiles( re.sub('\\([0-9]\\)', '', gene_smiles))).replace('c1','c3')\n",
    "\n",
    "\n",
    "def gene2mol(gene):\n",
    "    \n",
    "    gene_smiles = 'C1(1)=C(2)C2CC1C(3)=C2(4)'\n",
    "        \n",
    "    for i in range(4):\n",
    "        \n",
    "        if gene[i][0] == 'A':\n",
    "            substr = ligands_A[gene[i][1]]\n",
    "\n",
    "        if gene[i][0] == 'B':\n",
    "            substr = ligands_B(gene[i][1:])\n",
    "            \n",
    "        if gene[i][0] == 'C':\n",
    "            substr = ligands_C(gene[i][1:])\n",
    "        \n",
    "        if substr == 'H':\n",
    "            continue\n",
    "            \n",
    "        gene_smiles = gene_smiles.replace('('+str(i+1)+')', f'({substr})')\n",
    " \n",
    "    return Chem.MolFromSmiles( re.sub('\\([0-9]\\)', '', gene_smiles))\n",
    "\n",
    "\n",
    "\n",
    "test_mol = gene2mol([['A',0,0,0,0,0],['A',0,0,0,0,0],['B',12,0,0,0,0],['A',0,0,0,0,0]])\n",
    "\n",
    "\n",
    "print(Chem.MolToSmiles(test_mol))\n",
    "SVG(Draw._MolsToGridSVG([test_mol]))"
   ]
  },
  {
   "cell_type": "markdown",
   "metadata": {
    "colab_type": "text",
    "id": "YKQJtdgjuNnn"
   },
   "source": [
    "## Compute storage"
   ]
  },
  {
   "cell_type": "code",
   "execution_count": null,
   "metadata": {
    "colab": {},
    "colab_type": "code",
    "id": "dEj5sjasuQNX"
   },
   "outputs": [],
   "source": [
    "from rdkit.Chem.Descriptors import MolWt\n",
    "\n",
    "def calculate_weight(mols):\n",
    "    \n",
    "    mol_weights = np.zeros(len(mols))\n",
    "    for i, mol in enumerate(mols):\n",
    "        mol_weights[i] = MolWt(mol)\n",
    "    \n",
    "    return mol_weights\n",
    "\n",
    "\n",
    "def compute_storage_energy(predict_model, mols):\n",
    "\n",
    "    graphs = [mol2vec(mol) for mol in mols]\n",
    "    graph_loader = DataLoader(graphs, batch_size=len(mols), shuffle=False)\n",
    "    \n",
    "    for b in graph_loader:\n",
    "        graph_batch = b.to('cuda')\n",
    "        predictions = predict_model(graph_batch)\n",
    "    \n",
    "    return predictions.cpu().data.numpy().reshape(len(mols))\n",
    "    \n",
    "\n",
    "def compute_storage_density(predict_model, mols):\n",
    "    \n",
    "    Wt = calculate_weight(mols)\n",
    "    storage = compute_storage_energy(predict_model, mols)\n",
    "    \n",
    "    \n",
    "    return storage / Wt"
   ]
  },
  {
   "cell_type": "code",
   "execution_count": null,
   "metadata": {
    "colab": {},
    "colab_type": "code",
    "id": "49-OtB4hTbmc"
   },
   "outputs": [],
   "source": []
  }
 ],
 "metadata": {
  "accelerator": "GPU",
  "colab": {
   "collapsed_sections": [],
   "machine_shape": "hm",
   "name": "gcn_test.ipynb",
   "provenance": [],
   "toc_visible": true
  },
  "kernelspec": {
   "display_name": "Python 3 (ipykernel)",
   "language": "python",
   "name": "python3"
  },
  "language_info": {
   "codemirror_mode": {
    "name": "ipython",
    "version": 3
   },
   "file_extension": ".py",
   "mimetype": "text/x-python",
   "name": "python",
   "nbconvert_exporter": "python",
   "pygments_lexer": "ipython3",
   "version": "3.9.12"
  }
 },
 "nbformat": 4,
 "nbformat_minor": 4
}
